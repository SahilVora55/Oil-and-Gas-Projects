{
 "cells": [
  {
   "cell_type": "code",
   "execution_count": 1,
   "id": "30fc0930",
   "metadata": {},
   "outputs": [],
   "source": [
    "import pandas as pd\n",
    "import numpy as np\n",
    "import matplotlib.pyplot as plt\n",
    "import seaborn as sns\n",
    "%matplotlib inline"
   ]
  },
  {
   "cell_type": "code",
   "execution_count": 3,
   "id": "7b0fd618",
   "metadata": {},
   "outputs": [],
   "source": [
    "df = pd.read_excel('C:/Users/sahil/OneDrive/Desktop/Elesvier/Chapter-4/Chapter 4/K-means Clustering/Chapter4_Geologic_DataSet.xlsx')"
   ]
  },
  {
   "cell_type": "code",
   "execution_count": 5,
   "id": "e053f33c",
   "metadata": {},
   "outputs": [
    {
     "data": {
      "text/html": [
       "<div>\n",
       "<style scoped>\n",
       "    .dataframe tbody tr th:only-of-type {\n",
       "        vertical-align: middle;\n",
       "    }\n",
       "\n",
       "    .dataframe tbody tr th {\n",
       "        vertical-align: top;\n",
       "    }\n",
       "\n",
       "    .dataframe thead th {\n",
       "        text-align: right;\n",
       "    }\n",
       "</style>\n",
       "<table border=\"1\" class=\"dataframe\">\n",
       "  <thead>\n",
       "    <tr style=\"text-align: right;\">\n",
       "      <th></th>\n",
       "      <th>count</th>\n",
       "      <th>mean</th>\n",
       "      <th>std</th>\n",
       "      <th>min</th>\n",
       "      <th>25%</th>\n",
       "      <th>50%</th>\n",
       "      <th>75%</th>\n",
       "      <th>max</th>\n",
       "    </tr>\n",
       "  </thead>\n",
       "  <tbody>\n",
       "    <tr>\n",
       "      <th>GR_API</th>\n",
       "      <td>438.0</td>\n",
       "      <td>157.972603</td>\n",
       "      <td>30.396528</td>\n",
       "      <td>66.0000</td>\n",
       "      <td>139.000000</td>\n",
       "      <td>155.0000</td>\n",
       "      <td>178.000000</td>\n",
       "      <td>259.0000</td>\n",
       "    </tr>\n",
       "    <tr>\n",
       "      <th>Bulk Density, gcc</th>\n",
       "      <td>438.0</td>\n",
       "      <td>2.242265</td>\n",
       "      <td>0.019978</td>\n",
       "      <td>2.2091</td>\n",
       "      <td>2.226425</td>\n",
       "      <td>2.2393</td>\n",
       "      <td>2.255925</td>\n",
       "      <td>2.3196</td>\n",
       "    </tr>\n",
       "    <tr>\n",
       "      <th>Resistivity, ohm-m</th>\n",
       "      <td>438.0</td>\n",
       "      <td>22.438356</td>\n",
       "      <td>7.971895</td>\n",
       "      <td>5.0000</td>\n",
       "      <td>17.000000</td>\n",
       "      <td>22.0000</td>\n",
       "      <td>26.000000</td>\n",
       "      <td>49.0000</td>\n",
       "    </tr>\n",
       "    <tr>\n",
       "      <th>Water Saturation, fraction</th>\n",
       "      <td>438.0</td>\n",
       "      <td>0.159863</td>\n",
       "      <td>0.037465</td>\n",
       "      <td>0.1000</td>\n",
       "      <td>0.130000</td>\n",
       "      <td>0.1500</td>\n",
       "      <td>0.190000</td>\n",
       "      <td>0.3100</td>\n",
       "    </tr>\n",
       "    <tr>\n",
       "      <th>PhiH, ft</th>\n",
       "      <td>438.0</td>\n",
       "      <td>20.283105</td>\n",
       "      <td>3.187825</td>\n",
       "      <td>10.0000</td>\n",
       "      <td>19.000000</td>\n",
       "      <td>20.0000</td>\n",
       "      <td>22.000000</td>\n",
       "      <td>33.0000</td>\n",
       "    </tr>\n",
       "    <tr>\n",
       "      <th>TOC, fraction</th>\n",
       "      <td>438.0</td>\n",
       "      <td>0.063221</td>\n",
       "      <td>0.008410</td>\n",
       "      <td>0.0320</td>\n",
       "      <td>0.057000</td>\n",
       "      <td>0.0650</td>\n",
       "      <td>0.070000</td>\n",
       "      <td>0.0770</td>\n",
       "    </tr>\n",
       "    <tr>\n",
       "      <th>TVD, ft</th>\n",
       "      <td>438.0</td>\n",
       "      <td>9935.125571</td>\n",
       "      <td>827.981530</td>\n",
       "      <td>8046.0000</td>\n",
       "      <td>9372.250000</td>\n",
       "      <td>9844.5000</td>\n",
       "      <td>10440.000000</td>\n",
       "      <td>12474.0000</td>\n",
       "    </tr>\n",
       "  </tbody>\n",
       "</table>\n",
       "</div>"
      ],
      "text/plain": [
       "                            count         mean         std        min  \\\n",
       "GR_API                      438.0   157.972603   30.396528    66.0000   \n",
       "Bulk Density, gcc           438.0     2.242265    0.019978     2.2091   \n",
       "Resistivity, ohm-m          438.0    22.438356    7.971895     5.0000   \n",
       "Water Saturation, fraction  438.0     0.159863    0.037465     0.1000   \n",
       "PhiH, ft                    438.0    20.283105    3.187825    10.0000   \n",
       "TOC, fraction               438.0     0.063221    0.008410     0.0320   \n",
       "TVD, ft                     438.0  9935.125571  827.981530  8046.0000   \n",
       "\n",
       "                                    25%        50%           75%         max  \n",
       "GR_API                       139.000000   155.0000    178.000000    259.0000  \n",
       "Bulk Density, gcc              2.226425     2.2393      2.255925      2.3196  \n",
       "Resistivity, ohm-m            17.000000    22.0000     26.000000     49.0000  \n",
       "Water Saturation, fraction     0.130000     0.1500      0.190000      0.3100  \n",
       "PhiH, ft                      19.000000    20.0000     22.000000     33.0000  \n",
       "TOC, fraction                  0.057000     0.0650      0.070000      0.0770  \n",
       "TVD, ft                     9372.250000  9844.5000  10440.000000  12474.0000  "
      ]
     },
     "execution_count": 5,
     "metadata": {},
     "output_type": "execute_result"
    }
   ],
   "source": [
    "df.describe().T"
   ]
  },
  {
   "cell_type": "code",
   "execution_count": 19,
   "id": "d5a378f1",
   "metadata": {
    "scrolled": true
   },
   "outputs": [
    {
     "name": "stderr",
     "output_type": "stream",
     "text": [
      "C:\\ProgramData\\Anaconda3\\lib\\site-packages\\seaborn\\distributions.py:2619: FutureWarning: `distplot` is a deprecated function and will be removed in a future version. Please adapt your code to use either `displot` (a figure-level function with similar flexibility) or `histplot` (an axes-level function for histograms).\n",
      "  warnings.warn(msg, FutureWarning)\n"
     ]
    },
    {
     "data": {
      "text/plain": [
       "<AxesSubplot:xlabel='GR_API', ylabel='Density'>"
      ]
     },
     "execution_count": 19,
     "metadata": {},
     "output_type": "execute_result"
    },
    {
     "data": {
      "image/png": "[encoded data removed]",
      "text/plain": [
       "<Figure size 432x288 with 1 Axes>"
      ]
     },
     "metadata": {
      "needs_background": "light"
     },
     "output_type": "display_data"
    }
   ],
   "source": [
    "sns.distplot(df['GR_API'],label = 'Clustering Data',norm_hist = True, color='g')"
   ]
  },
  {
   "cell_type": "code",
   "execution_count": 20,
   "id": "9ff68fbb",
   "metadata": {},
   "outputs": [
    {
     "name": "stderr",
     "output_type": "stream",
     "text": [
      "C:\\ProgramData\\Anaconda3\\lib\\site-packages\\seaborn\\distributions.py:2619: FutureWarning: `distplot` is a deprecated function and will be removed in a future version. Please adapt your code to use either `displot` (a figure-level function with similar flexibility) or `histplot` (an axes-level function for histograms).\n",
      "  warnings.warn(msg, FutureWarning)\n"
     ]
    },
    {
     "data": {
      "text/plain": [
       "<AxesSubplot:xlabel='Bulk Density, gcc', ylabel='Density'>"
      ]
     },
     "execution_count": 20,
     "metadata": {},
     "output_type": "execute_result"
    },
    {
     "data": {
      "image/png": "[encoded data removed]",
      "text/plain": [
       "<Figure size 432x288 with 1 Axes>"
      ]
     },
     "metadata": {
      "needs_background": "light"
     },
     "output_type": "display_data"
    }
   ],
   "source": [
    "sns.distplot(df['Bulk Density, gcc'],label = 'Clustering Data',norm_hist = True, color='g')\n"
   ]
  },
  {
   "cell_type": "code",
   "execution_count": 21,
   "id": "d3a94156",
   "metadata": {},
   "outputs": [
    {
     "name": "stderr",
     "output_type": "stream",
     "text": [
      "C:\\ProgramData\\Anaconda3\\lib\\site-packages\\seaborn\\distributions.py:2619: FutureWarning: `distplot` is a deprecated function and will be removed in a future version. Please adapt your code to use either `displot` (a figure-level function with similar flexibility) or `histplot` (an axes-level function for histograms).\n",
      "  warnings.warn(msg, FutureWarning)\n"
     ]
    },
    {
     "data": {
      "text/plain": [
       "<AxesSubplot:xlabel='Resistivity, ohm-m', ylabel='Density'>"
      ]
     },
     "execution_count": 21,
     "metadata": {},
     "output_type": "execute_result"
    },
    {
     "data": {
      "image/png": "[encoded data removed]",
      "text/plain": [
       "<Figure size 432x288 with 1 Axes>"
      ]
     },
     "metadata": {
      "needs_background": "light"
     },
     "output_type": "display_data"
    }
   ],
   "source": [
    "sns.distplot(df['Resistivity, ohm-m'],label = 'Clustering Data',norm_hist = True, color='g')\n"
   ]
  },
  {
   "cell_type": "code",
   "execution_count": 22,
   "id": "0f090efb",
   "metadata": {},
   "outputs": [
    {
     "name": "stderr",
     "output_type": "stream",
     "text": [
      "C:\\ProgramData\\Anaconda3\\lib\\site-packages\\seaborn\\distributions.py:2619: FutureWarning: `distplot` is a deprecated function and will be removed in a future version. Please adapt your code to use either `displot` (a figure-level function with similar flexibility) or `histplot` (an axes-level function for histograms).\n",
      "  warnings.warn(msg, FutureWarning)\n"
     ]
    },
    {
     "data": {
      "text/plain": [
       "<AxesSubplot:xlabel='Water Saturation, fraction', ylabel='Density'>"
      ]
     },
     "execution_count": 22,
     "metadata": {},
     "output_type": "execute_result"
    },
    {
     "data": {
      "image/png": "[encoded data removed]",
      "text/plain": [
       "<Figure size 432x288 with 1 Axes>"
      ]
     },
     "metadata": {
      "needs_background": "light"
     },
     "output_type": "display_data"
    }
   ],
   "source": [
    "sns.distplot(df['Water Saturation, fraction'],label = 'Clustering Data',norm_hist = True, color='g')\n"
   ]
  },
  {
   "cell_type": "code",
   "execution_count": 23,
   "id": "a0e97e8c",
   "metadata": {},
   "outputs": [
    {
     "name": "stderr",
     "output_type": "stream",
     "text": [
      "C:\\ProgramData\\Anaconda3\\lib\\site-packages\\seaborn\\distributions.py:2619: FutureWarning: `distplot` is a deprecated function and will be removed in a future version. Please adapt your code to use either `displot` (a figure-level function with similar flexibility) or `histplot` (an axes-level function for histograms).\n",
      "  warnings.warn(msg, FutureWarning)\n"
     ]
    },
    {
     "data": {
      "text/plain": [
       "<AxesSubplot:xlabel='PhiH, ft', ylabel='Density'>"
      ]
     },
     "execution_count": 23,
     "metadata": {},
     "output_type": "execute_result"
    },
    {
     "data": {
      "image/png": "[encoded data removed]",
      "text/plain": [
       "<Figure size 432x288 with 1 Axes>"
      ]
     },
     "metadata": {
      "needs_background": "light"
     },
     "output_type": "display_data"
    }
   ],
   "source": [
    "sns.distplot(df['PhiH, ft'],label = 'Clustering Data',norm_hist = True, color='g')\n"
   ]
  },
  {
   "cell_type": "code",
   "execution_count": 24,
   "id": "589ca816",
   "metadata": {},
   "outputs": [
    {
     "name": "stderr",
     "output_type": "stream",
     "text": [
      "C:\\ProgramData\\Anaconda3\\lib\\site-packages\\seaborn\\distributions.py:2619: FutureWarning: `distplot` is a deprecated function and will be removed in a future version. Please adapt your code to use either `displot` (a figure-level function with similar flexibility) or `histplot` (an axes-level function for histograms).\n",
      "  warnings.warn(msg, FutureWarning)\n"
     ]
    },
    {
     "data": {
      "text/plain": [
       "<AxesSubplot:xlabel='TOC, fraction', ylabel='Density'>"
      ]
     },
     "execution_count": 24,
     "metadata": {},
     "output_type": "execute_result"
    },
    {
     "data": {
      "image/png": "[encoded data removed]",
      "text/plain": [
       "<Figure size 432x288 with 1 Axes>"
      ]
     },
     "metadata": {
      "needs_background": "light"
     },
     "output_type": "display_data"
    }
   ],
   "source": [
    "sns.distplot(df['TOC, fraction'],label = 'Clustering Data',norm_hist = True, color='g')\n"
   ]
  },
  {
   "cell_type": "code",
   "execution_count": 25,
   "id": "31d481b0",
   "metadata": {},
   "outputs": [
    {
     "name": "stderr",
     "output_type": "stream",
     "text": [
      "C:\\ProgramData\\Anaconda3\\lib\\site-packages\\seaborn\\distributions.py:2619: FutureWarning: `distplot` is a deprecated function and will be removed in a future version. Please adapt your code to use either `displot` (a figure-level function with similar flexibility) or `histplot` (an axes-level function for histograms).\n",
      "  warnings.warn(msg, FutureWarning)\n"
     ]
    },
    {
     "data": {
      "text/plain": [
       "<AxesSubplot:xlabel='TVD, ft', ylabel='Density'>"
      ]
     },
     "execution_count": 25,
     "metadata": {},
     "output_type": "execute_result"
    },
    {
     "data": {
      "image/png": "[encoded data removed]",
      "text/plain": [
       "<Figure size 432x288 with 1 Axes>"
      ]
     },
     "metadata": {
      "needs_background": "light"
     },
     "output_type": "display_data"
    }
   ],
   "source": [
    "sns.distplot(df['TVD, ft'],label = 'Clustering Data',norm_hist = True, color='g')\n"
   ]
  },
  {
   "cell_type": "code",
   "execution_count": 27,
   "id": "69ba1b65",
   "metadata": {},
   "outputs": [
    {
     "data": {
      "text/plain": [
       "<AxesSubplot:>"
      ]
     },
     "execution_count": 27,
     "metadata": {},
     "output_type": "execute_result"
    },
    {
     "data": {
      "image/png": "[encoded data removed]",
      "text/plain": [
       "<Figure size 1080x576 with 2 Axes>"
      ]
     },
     "metadata": {
      "needs_background": "light"
     },
     "output_type": "display_data"
    }
   ],
   "source": [
    "plt.figure(figsize = (15,8))\n",
    "sns.heatmap(df.corr(),cmap = 'coolwarm',annot = True, linewidths= 4,linecolor = 'black')"
   ]
  },
  {
   "cell_type": "code",
   "execution_count": 28,
   "id": "89a54d4e",
   "metadata": {},
   "outputs": [],
   "source": [
    "# remove TOC column as the TOC and bulk density provide the same information during clustering."
   ]
  },
  {
   "cell_type": "code",
   "execution_count": 29,
   "id": "81808436",
   "metadata": {},
   "outputs": [],
   "source": [
    "df.drop('TOC, fraction',axis = 1, inplace = True)"
   ]
  },
  {
   "cell_type": "markdown",
   "id": "488d001c",
   "metadata": {},
   "source": [
    "# stanrdize the data"
   ]
  },
  {
   "cell_type": "code",
   "execution_count": 30,
   "id": "3f8c804f",
   "metadata": {},
   "outputs": [],
   "source": [
    "from sklearn.preprocessing import StandardScaler"
   ]
  },
  {
   "cell_type": "code",
   "execution_count": 31,
   "id": "4023313e",
   "metadata": {},
   "outputs": [],
   "source": [
    "scaler = StandardScaler()"
   ]
  },
  {
   "cell_type": "code",
   "execution_count": 32,
   "id": "ddd5455e",
   "metadata": {},
   "outputs": [],
   "source": [
    "df_scaled = scaler.fit(df)"
   ]
  },
  {
   "cell_type": "code",
   "execution_count": 33,
   "id": "c301fe39",
   "metadata": {},
   "outputs": [],
   "source": [
    "df_scaled = scaler.transform(df)"
   ]
  },
  {
   "cell_type": "code",
   "execution_count": 34,
   "id": "9948b252",
   "metadata": {},
   "outputs": [
    {
     "data": {
      "text/plain": [
       "array([[-1.31654221, -1.63691997,  0.07053355, -0.79799783,  0.85324677,\n",
       "         0.88856422],\n",
       "       [ 0.39613573, -1.19092098, -0.18063471,  0.27088   , -0.08890975,\n",
       "        -0.00377924],\n",
       "       [ 0.26439127, -0.81507913, -1.05972362,  1.07253837,  0.22514243,\n",
       "        -0.22746968],\n",
       "       ...,\n",
       "       [-0.03203375,  0.96891686, -0.30621884,  0.27088   , -0.7170141 ,\n",
       "        -1.12102229],\n",
       "       [-0.52607547,  0.50287296, -1.05972362,  1.33975783,  0.5391946 ,\n",
       "         0.55846969],\n",
       "       [-0.32845878, -0.45928217, -0.43180297,  0.27088   ,  1.16729895,\n",
       "        -0.65913177]])"
      ]
     },
     "execution_count": 34,
     "metadata": {},
     "output_type": "execute_result"
    }
   ],
   "source": [
    "df_scaled"
   ]
  },
  {
   "cell_type": "markdown",
   "id": "d7e1d1aa",
   "metadata": {},
   "source": [
    "# import KMean from sklearn.cluster\n",
    "\n",
    "And write a loop for calculating within cluster sum of squared errors."
   ]
  },
  {
   "cell_type": "code",
   "execution_count": 35,
   "id": "054d331a",
   "metadata": {},
   "outputs": [],
   "source": [
    "from sklearn.cluster import KMeans"
   ]
  },
  {
   "cell_type": "code",
   "execution_count": 39,
   "id": "e9bb2ec4",
   "metadata": {},
   "outputs": [
    {
     "name": "stderr",
     "output_type": "stream",
     "text": [
      "C:\\ProgramData\\Anaconda3\\lib\\site-packages\\sklearn\\cluster\\_kmeans.py:881: UserWarning: KMeans is known to have a memory leak on Windows with MKL, when there are less chunks than available threads. You can avoid it by setting the environment variable OMP_NUM_THREADS=2.\n",
      "  warnings.warn(\n"
     ]
    },
    {
     "data": {
      "text/plain": [
       "Text(0.5, 1.0, 'The Elbow Method showing the optimal k')"
      ]
     },
     "execution_count": 39,
     "metadata": {},
     "output_type": "execute_result"
    },
    {
     "data": {
      "image/png": "[encoded data removed]",
      "text/plain": [
       "<Figure size 432x288 with 1 Axes>"
      ]
     },
     "metadata": {
      "needs_background": "light"
     },
     "output_type": "display_data"
    }
   ],
   "source": [
    "distortions = []\n",
    "\n",
    "for i in range(1,21):\n",
    "    km = KMeans(n_clusters = i, random_state = 1000, init = 'k-means++', n_init = 1000, max_iter = 500)\n",
    "    km.fit(df_scaled)\n",
    "    distortions.append(km.inertia_)\n",
    "\n",
    "plt.plot(range(1,21),distortions, marker = 'o')\n",
    "plt.xlabel('Number od Clusters')\n",
    "plt.ylabel('Distortion (Within Cluster Sum of Squared Errors)')\n",
    "plt.title('The Elbow Method showing the optimal k')\n",
    "\n"
   ]
  },
  {
   "cell_type": "code",
   "execution_count": 40,
   "id": "19d6aeae",
   "metadata": {},
   "outputs": [
    {
     "name": "stdout",
     "output_type": "stream",
     "text": [
      "[2627.9999999999986, 1900.063693499037, 1522.451811496321, 1374.2291078433188, 1239.1811054000573, 1143.0882975129625, 1048.463146742266, 970.373608226952, 896.1826776892005, 832.472969151364, 779.3373555936987, 741.1728483286579, 715.0389391093693, 690.3421798639845, 665.6744894042827, 647.5003930208461, 623.6081161844389, 603.9449742399258, 586.5591687345313, 570.5130615860875]\n"
     ]
    }
   ],
   "source": [
    "print(distortions)"
   ]
  },
  {
   "cell_type": "code",
   "execution_count": 41,
   "id": "54eebc37",
   "metadata": {},
   "outputs": [
    {
     "name": "stdout",
     "output_type": "stream",
     "text": [
      "[[ 0.87076866 -0.97883879  0.38000873 -0.77891073  0.23635858  0.60510785]\n",
      " [-0.43702597  0.55465562 -0.72948387  0.94387715  2.20250797 -0.35747435]\n",
      " [ 0.29039347  0.14795517  1.23604241 -0.59641123 -0.70048503 -0.74714425]\n",
      " [-0.95362352 -0.86282759 -0.28015421 -0.74253719 -0.01187808  1.51891269]\n",
      " [-0.11678936 -0.20043572 -0.82697437  0.63429846  0.19583089 -0.31751012]\n",
      " [ 1.49714297  1.42135886  2.61809734 -0.89343335 -2.06295198 -0.64341298]\n",
      " [ 0.93027358  1.88836765 -0.92867931  2.10656149  0.29341464 -0.76343302]\n",
      " [-0.81376234 -0.84668052  0.35502005 -0.76527708  0.34691776 -0.3705674 ]\n",
      " [-0.63019609  1.182783   -0.5776426   0.96478859 -0.16489011 -0.19384786]\n",
      " [ 1.92616794 -0.13674153  0.3616604  -0.65224177 -1.43076904  0.83668123]]\n"
     ]
    }
   ],
   "source": [
    "n = 10\n",
    "kmeans = KMeans(n_clusters = n, random_state = 1000, init = 'k-means++', n_init = 1000, max_iter = 500)\n",
    "kmeans = kmeans.fit(df_scaled)\n",
    "print(kmeans.cluster_centers_)"
   ]
  },
  {
   "cell_type": "code",
   "execution_count": 42,
   "id": "f41131f1",
   "metadata": {},
   "outputs": [
    {
     "data": {
      "text/plain": [
       "array([3, 4, 4, 4, 7, 1, 5, 7, 0, 0, 8, 1, 8, 8, 0, 2, 3, 8, 3, 2, 2, 7,\n",
       "       3, 9, 2, 4, 1, 4, 3, 4, 6, 8, 0, 8, 4, 6, 2, 0, 7, 1, 1, 8, 8, 4,\n",
       "       2, 1, 9, 2, 3, 8, 2, 2, 7, 7, 7, 9, 3, 7, 0, 8, 4, 7, 3, 1, 4, 0,\n",
       "       3, 5, 5, 0, 4, 4, 3, 7, 9, 5, 3, 8, 6, 2, 1, 4, 0, 0, 0, 3, 1, 8,\n",
       "       2, 7, 2, 5, 3, 0, 0, 8, 8, 8, 8, 8, 1, 0, 0, 7, 4, 1, 7, 7, 6, 1,\n",
       "       1, 9, 7, 7, 7, 2, 3, 9, 0, 2, 1, 8, 4, 0, 4, 2, 4, 2, 2, 0, 7, 2,\n",
       "       1, 4, 2, 7, 8, 2, 3, 9, 3, 9, 6, 7, 4, 4, 3, 2, 1, 7, 8, 3, 8, 1,\n",
       "       9, 7, 2, 3, 4, 2, 6, 0, 3, 2, 5, 4, 6, 1, 3, 2, 7, 4, 2, 8, 8, 4,\n",
       "       3, 7, 3, 0, 3, 7, 6, 2, 8, 1, 1, 8, 4, 4, 8, 4, 3, 7, 4, 6, 6, 9,\n",
       "       3, 5, 3, 5, 7, 0, 2, 2, 3, 3, 0, 3, 2, 2, 6, 7, 8, 4, 4, 8, 4, 2,\n",
       "       8, 8, 8, 8, 1, 2, 2, 5, 6, 6, 6, 7, 0, 0, 3, 0, 4, 3, 4, 4, 2, 0,\n",
       "       2, 5, 2, 6, 4, 4, 8, 4, 3, 9, 5, 2, 0, 0, 8, 4, 4, 8, 4, 4, 4, 4,\n",
       "       8, 8, 0, 7, 0, 7, 2, 4, 4, 8, 4, 1, 3, 9, 7, 3, 4, 3, 4, 6, 2, 8,\n",
       "       8, 1, 6, 1, 3, 3, 2, 9, 7, 0, 4, 4, 2, 2, 2, 4, 6, 0, 0, 0, 3, 7,\n",
       "       3, 8, 4, 4, 5, 7, 0, 9, 4, 3, 8, 4, 8, 0, 3, 3, 3, 0, 0, 9, 0, 4,\n",
       "       4, 1, 1, 2, 8, 7, 0, 3, 2, 9, 0, 2, 7, 3, 0, 7, 4, 4, 8, 8, 4, 8,\n",
       "       8, 0, 3, 0, 3, 0, 0, 4, 4, 4, 7, 3, 0, 0, 0, 2, 2, 0, 0, 3, 9, 4,\n",
       "       4, 8, 8, 4, 4, 4, 5, 8, 8, 4, 1, 4, 7, 0, 0, 6, 8, 6, 7, 2, 2, 7,\n",
       "       0, 8, 6, 6, 7, 8, 8, 8, 4, 9, 9, 9, 0, 0, 3, 2, 8, 5, 2, 2, 2, 7,\n",
       "       2, 7, 9, 4, 6, 7, 7, 3, 8, 2, 7, 9, 3, 4, 4, 7, 8, 8, 8, 4])"
      ]
     },
     "execution_count": 42,
     "metadata": {},
     "output_type": "execute_result"
    }
   ],
   "source": [
    "labels = kmeans.labels_\n",
    "labels"
   ]
  },
  {
   "cell_type": "code",
   "execution_count": 43,
   "id": "87567a3b",
   "metadata": {},
   "outputs": [
    {
     "data": {
      "text/html": [
       "<div>\n",
       "<style scoped>\n",
       "    .dataframe tbody tr th:only-of-type {\n",
       "        vertical-align: middle;\n",
       "    }\n",
       "\n",
       "    .dataframe tbody tr th {\n",
       "        vertical-align: top;\n",
       "    }\n",
       "\n",
       "    .dataframe thead th {\n",
       "        text-align: right;\n",
       "    }\n",
       "</style>\n",
       "<table border=\"1\" class=\"dataframe\">\n",
       "  <thead>\n",
       "    <tr style=\"text-align: right;\">\n",
       "      <th></th>\n",
       "      <th>GR_API</th>\n",
       "      <th>Bulk Density, gcc</th>\n",
       "      <th>Resistivity, ohm-m</th>\n",
       "      <th>Water Saturation, fraction</th>\n",
       "      <th>PhiH, ft</th>\n",
       "      <th>TVD, ft</th>\n",
       "      <th>clusters</th>\n",
       "    </tr>\n",
       "  </thead>\n",
       "  <tbody>\n",
       "    <tr>\n",
       "      <th>0</th>\n",
       "      <td>-1.316542</td>\n",
       "      <td>-1.636920</td>\n",
       "      <td>0.070534</td>\n",
       "      <td>-0.797998</td>\n",
       "      <td>0.853247</td>\n",
       "      <td>0.888564</td>\n",
       "      <td>3</td>\n",
       "    </tr>\n",
       "    <tr>\n",
       "      <th>1</th>\n",
       "      <td>0.396136</td>\n",
       "      <td>-1.190921</td>\n",
       "      <td>-0.180635</td>\n",
       "      <td>0.270880</td>\n",
       "      <td>-0.088910</td>\n",
       "      <td>-0.003779</td>\n",
       "      <td>4</td>\n",
       "    </tr>\n",
       "    <tr>\n",
       "      <th>2</th>\n",
       "      <td>0.264391</td>\n",
       "      <td>-0.815079</td>\n",
       "      <td>-1.059724</td>\n",
       "      <td>1.072538</td>\n",
       "      <td>0.225142</td>\n",
       "      <td>-0.227470</td>\n",
       "      <td>4</td>\n",
       "    </tr>\n",
       "    <tr>\n",
       "      <th>3</th>\n",
       "      <td>0.264391</td>\n",
       "      <td>-0.815079</td>\n",
       "      <td>-1.059724</td>\n",
       "      <td>1.072538</td>\n",
       "      <td>0.225142</td>\n",
       "      <td>-0.227470</td>\n",
       "      <td>4</td>\n",
       "    </tr>\n",
       "    <tr>\n",
       "      <th>4</th>\n",
       "      <td>-0.756628</td>\n",
       "      <td>-0.599596</td>\n",
       "      <td>-0.055051</td>\n",
       "      <td>0.003661</td>\n",
       "      <td>1.167299</td>\n",
       "      <td>-0.862267</td>\n",
       "      <td>7</td>\n",
       "    </tr>\n",
       "    <tr>\n",
       "      <th>...</th>\n",
       "      <td>...</td>\n",
       "      <td>...</td>\n",
       "      <td>...</td>\n",
       "      <td>...</td>\n",
       "      <td>...</td>\n",
       "      <td>...</td>\n",
       "      <td>...</td>\n",
       "    </tr>\n",
       "    <tr>\n",
       "      <th>433</th>\n",
       "      <td>-1.151862</td>\n",
       "      <td>-0.579552</td>\n",
       "      <td>0.196118</td>\n",
       "      <td>-0.530778</td>\n",
       "      <td>0.539195</td>\n",
       "      <td>-0.399167</td>\n",
       "      <td>7</td>\n",
       "    </tr>\n",
       "    <tr>\n",
       "      <th>434</th>\n",
       "      <td>-0.559012</td>\n",
       "      <td>0.878715</td>\n",
       "      <td>-0.306219</td>\n",
       "      <td>1.072538</td>\n",
       "      <td>-0.402962</td>\n",
       "      <td>0.182428</td>\n",
       "      <td>8</td>\n",
       "    </tr>\n",
       "    <tr>\n",
       "      <th>435</th>\n",
       "      <td>-0.032034</td>\n",
       "      <td>0.968917</td>\n",
       "      <td>-0.306219</td>\n",
       "      <td>0.270880</td>\n",
       "      <td>-0.717014</td>\n",
       "      <td>-1.121022</td>\n",
       "      <td>8</td>\n",
       "    </tr>\n",
       "    <tr>\n",
       "      <th>436</th>\n",
       "      <td>-0.526075</td>\n",
       "      <td>0.502873</td>\n",
       "      <td>-1.059724</td>\n",
       "      <td>1.339758</td>\n",
       "      <td>0.539195</td>\n",
       "      <td>0.558470</td>\n",
       "      <td>8</td>\n",
       "    </tr>\n",
       "    <tr>\n",
       "      <th>437</th>\n",
       "      <td>-0.328459</td>\n",
       "      <td>-0.459282</td>\n",
       "      <td>-0.431803</td>\n",
       "      <td>0.270880</td>\n",
       "      <td>1.167299</td>\n",
       "      <td>-0.659132</td>\n",
       "      <td>4</td>\n",
       "    </tr>\n",
       "  </tbody>\n",
       "</table>\n",
       "<p>438 rows × 7 columns</p>\n",
       "</div>"
      ],
      "text/plain": [
       "       GR_API  Bulk Density, gcc  Resistivity, ohm-m  \\\n",
       "0   -1.316542          -1.636920            0.070534   \n",
       "1    0.396136          -1.190921           -0.180635   \n",
       "2    0.264391          -0.815079           -1.059724   \n",
       "3    0.264391          -0.815079           -1.059724   \n",
       "4   -0.756628          -0.599596           -0.055051   \n",
       "..        ...                ...                 ...   \n",
       "433 -1.151862          -0.579552            0.196118   \n",
       "434 -0.559012           0.878715           -0.306219   \n",
       "435 -0.032034           0.968917           -0.306219   \n",
       "436 -0.526075           0.502873           -1.059724   \n",
       "437 -0.328459          -0.459282           -0.431803   \n",
       "\n",
       "     Water Saturation, fraction  PhiH, ft   TVD, ft  clusters  \n",
       "0                     -0.797998  0.853247  0.888564         3  \n",
       "1                      0.270880 -0.088910 -0.003779         4  \n",
       "2                      1.072538  0.225142 -0.227470         4  \n",
       "3                      1.072538  0.225142 -0.227470         4  \n",
       "4                      0.003661  1.167299 -0.862267         7  \n",
       "..                          ...       ...       ...       ...  \n",
       "433                   -0.530778  0.539195 -0.399167         7  \n",
       "434                    1.072538 -0.402962  0.182428         8  \n",
       "435                    0.270880 -0.717014 -1.121022         8  \n",
       "436                    1.339758  0.539195  0.558470         8  \n",
       "437                    0.270880  1.167299 -0.659132         4  \n",
       "\n",
       "[438 rows x 7 columns]"
      ]
     },
     "execution_count": 43,
     "metadata": {},
     "output_type": "execute_result"
    }
   ],
   "source": [
    "df_scaled = pd.DataFrame(df_scaled, columns = df.columns[0:6])\n",
    "df_scaled['clusters'] = labels\n",
    "df_scaled"
   ]
  },
  {
   "cell_type": "markdown",
   "id": "50c0badf",
   "metadata": {},
   "source": [
    "# unstandardize the data"
   ]
  },
  {
   "cell_type": "code",
   "execution_count": 53,
   "id": "9ad31c99",
   "metadata": {},
   "outputs": [],
   "source": [
    "df_unscaled = scaler.inverse_transform(df_scaled.iloc[:,:-1])"
   ]
  },
  {
   "cell_type": "code",
   "execution_count": 54,
   "id": "5c25418a",
   "metadata": {},
   "outputs": [
    {
     "data": {
      "text/plain": [
       "array([[1.1800e+02, 2.2096e+00, 2.3000e+01, 1.3000e-01, 2.3000e+01,\n",
       "        1.0670e+04],\n",
       "       [1.7000e+02, 2.2185e+00, 2.1000e+01, 1.7000e-01, 2.0000e+01,\n",
       "        9.9320e+03],\n",
       "       [1.6600e+02, 2.2260e+00, 1.4000e+01, 2.0000e-01, 2.1000e+01,\n",
       "        9.7470e+03],\n",
       "       ...,\n",
       "       [1.5700e+02, 2.2616e+00, 2.0000e+01, 1.7000e-01, 1.8000e+01,\n",
       "        9.0080e+03],\n",
       "       [1.4200e+02, 2.2523e+00, 1.4000e+01, 2.1000e-01, 2.2000e+01,\n",
       "        1.0397e+04],\n",
       "       [1.4800e+02, 2.2331e+00, 1.9000e+01, 1.7000e-01, 2.4000e+01,\n",
       "        9.3900e+03]])"
      ]
     },
     "execution_count": 54,
     "metadata": {},
     "output_type": "execute_result"
    }
   ],
   "source": [
    "df_unscaled"
   ]
  },
  {
   "cell_type": "code",
   "execution_count": 55,
   "id": "a20ba426",
   "metadata": {},
   "outputs": [],
   "source": [
    "df_2 = pd.DataFrame(df_unscaled,columns = df_scaled.iloc[:,:-1].columns)"
   ]
  },
  {
   "cell_type": "code",
   "execution_count": 57,
   "id": "68d81d19",
   "metadata": {},
   "outputs": [],
   "source": [
    "df_2['clusters'] = df_scaled['clusters']"
   ]
  },
  {
   "cell_type": "code",
   "execution_count": 58,
   "id": "df28c2d7",
   "metadata": {},
   "outputs": [
    {
     "data": {
      "text/html": [
       "<div>\n",
       "<style scoped>\n",
       "    .dataframe tbody tr th:only-of-type {\n",
       "        vertical-align: middle;\n",
       "    }\n",
       "\n",
       "    .dataframe tbody tr th {\n",
       "        vertical-align: top;\n",
       "    }\n",
       "\n",
       "    .dataframe thead th {\n",
       "        text-align: right;\n",
       "    }\n",
       "</style>\n",
       "<table border=\"1\" class=\"dataframe\">\n",
       "  <thead>\n",
       "    <tr style=\"text-align: right;\">\n",
       "      <th></th>\n",
       "      <th>GR_API</th>\n",
       "      <th>Bulk Density, gcc</th>\n",
       "      <th>Resistivity, ohm-m</th>\n",
       "      <th>Water Saturation, fraction</th>\n",
       "      <th>PhiH, ft</th>\n",
       "      <th>TVD, ft</th>\n",
       "      <th>clusters</th>\n",
       "    </tr>\n",
       "  </thead>\n",
       "  <tbody>\n",
       "    <tr>\n",
       "      <th>0</th>\n",
       "      <td>118.0</td>\n",
       "      <td>2.2096</td>\n",
       "      <td>23.0</td>\n",
       "      <td>0.13</td>\n",
       "      <td>23.0</td>\n",
       "      <td>10670.0</td>\n",
       "      <td>3</td>\n",
       "    </tr>\n",
       "    <tr>\n",
       "      <th>1</th>\n",
       "      <td>170.0</td>\n",
       "      <td>2.2185</td>\n",
       "      <td>21.0</td>\n",
       "      <td>0.17</td>\n",
       "      <td>20.0</td>\n",
       "      <td>9932.0</td>\n",
       "      <td>4</td>\n",
       "    </tr>\n",
       "    <tr>\n",
       "      <th>2</th>\n",
       "      <td>166.0</td>\n",
       "      <td>2.2260</td>\n",
       "      <td>14.0</td>\n",
       "      <td>0.20</td>\n",
       "      <td>21.0</td>\n",
       "      <td>9747.0</td>\n",
       "      <td>4</td>\n",
       "    </tr>\n",
       "    <tr>\n",
       "      <th>3</th>\n",
       "      <td>166.0</td>\n",
       "      <td>2.2260</td>\n",
       "      <td>14.0</td>\n",
       "      <td>0.20</td>\n",
       "      <td>21.0</td>\n",
       "      <td>9747.0</td>\n",
       "      <td>4</td>\n",
       "    </tr>\n",
       "    <tr>\n",
       "      <th>4</th>\n",
       "      <td>135.0</td>\n",
       "      <td>2.2303</td>\n",
       "      <td>22.0</td>\n",
       "      <td>0.16</td>\n",
       "      <td>24.0</td>\n",
       "      <td>9222.0</td>\n",
       "      <td>7</td>\n",
       "    </tr>\n",
       "    <tr>\n",
       "      <th>...</th>\n",
       "      <td>...</td>\n",
       "      <td>...</td>\n",
       "      <td>...</td>\n",
       "      <td>...</td>\n",
       "      <td>...</td>\n",
       "      <td>...</td>\n",
       "      <td>...</td>\n",
       "    </tr>\n",
       "    <tr>\n",
       "      <th>433</th>\n",
       "      <td>123.0</td>\n",
       "      <td>2.2307</td>\n",
       "      <td>24.0</td>\n",
       "      <td>0.14</td>\n",
       "      <td>22.0</td>\n",
       "      <td>9605.0</td>\n",
       "      <td>7</td>\n",
       "    </tr>\n",
       "    <tr>\n",
       "      <th>434</th>\n",
       "      <td>141.0</td>\n",
       "      <td>2.2598</td>\n",
       "      <td>20.0</td>\n",
       "      <td>0.20</td>\n",
       "      <td>19.0</td>\n",
       "      <td>10086.0</td>\n",
       "      <td>8</td>\n",
       "    </tr>\n",
       "    <tr>\n",
       "      <th>435</th>\n",
       "      <td>157.0</td>\n",
       "      <td>2.2616</td>\n",
       "      <td>20.0</td>\n",
       "      <td>0.17</td>\n",
       "      <td>18.0</td>\n",
       "      <td>9008.0</td>\n",
       "      <td>8</td>\n",
       "    </tr>\n",
       "    <tr>\n",
       "      <th>436</th>\n",
       "      <td>142.0</td>\n",
       "      <td>2.2523</td>\n",
       "      <td>14.0</td>\n",
       "      <td>0.21</td>\n",
       "      <td>22.0</td>\n",
       "      <td>10397.0</td>\n",
       "      <td>8</td>\n",
       "    </tr>\n",
       "    <tr>\n",
       "      <th>437</th>\n",
       "      <td>148.0</td>\n",
       "      <td>2.2331</td>\n",
       "      <td>19.0</td>\n",
       "      <td>0.17</td>\n",
       "      <td>24.0</td>\n",
       "      <td>9390.0</td>\n",
       "      <td>4</td>\n",
       "    </tr>\n",
       "  </tbody>\n",
       "</table>\n",
       "<p>438 rows × 7 columns</p>\n",
       "</div>"
      ],
      "text/plain": [
       "     GR_API  Bulk Density, gcc  Resistivity, ohm-m  \\\n",
       "0     118.0             2.2096                23.0   \n",
       "1     170.0             2.2185                21.0   \n",
       "2     166.0             2.2260                14.0   \n",
       "3     166.0             2.2260                14.0   \n",
       "4     135.0             2.2303                22.0   \n",
       "..      ...                ...                 ...   \n",
       "433   123.0             2.2307                24.0   \n",
       "434   141.0             2.2598                20.0   \n",
       "435   157.0             2.2616                20.0   \n",
       "436   142.0             2.2523                14.0   \n",
       "437   148.0             2.2331                19.0   \n",
       "\n",
       "     Water Saturation, fraction  PhiH, ft  TVD, ft  clusters  \n",
       "0                          0.13      23.0  10670.0         3  \n",
       "1                          0.17      20.0   9932.0         4  \n",
       "2                          0.20      21.0   9747.0         4  \n",
       "3                          0.20      21.0   9747.0         4  \n",
       "4                          0.16      24.0   9222.0         7  \n",
       "..                          ...       ...      ...       ...  \n",
       "433                        0.14      22.0   9605.0         7  \n",
       "434                        0.20      19.0  10086.0         8  \n",
       "435                        0.17      18.0   9008.0         8  \n",
       "436                        0.21      22.0  10397.0         8  \n",
       "437                        0.17      24.0   9390.0         4  \n",
       "\n",
       "[438 rows x 7 columns]"
      ]
     },
     "execution_count": 58,
     "metadata": {},
     "output_type": "execute_result"
    }
   ],
   "source": [
    "df_2"
   ]
  },
  {
   "cell_type": "markdown",
   "id": "8b2bd1ee",
   "metadata": {},
   "source": [
    "# Groupby"
   ]
  },
  {
   "cell_type": "code",
   "execution_count": 59,
   "id": "2d0ac3d3",
   "metadata": {},
   "outputs": [
    {
     "data": {
      "text/html": [
       "<div>\n",
       "<style scoped>\n",
       "    .dataframe tbody tr th:only-of-type {\n",
       "        vertical-align: middle;\n",
       "    }\n",
       "\n",
       "    .dataframe tbody tr th {\n",
       "        vertical-align: top;\n",
       "    }\n",
       "\n",
       "    .dataframe thead th {\n",
       "        text-align: right;\n",
       "    }\n",
       "</style>\n",
       "<table border=\"1\" class=\"dataframe\">\n",
       "  <thead>\n",
       "    <tr style=\"text-align: right;\">\n",
       "      <th></th>\n",
       "      <th>GR_API</th>\n",
       "      <th>Bulk Density, gcc</th>\n",
       "      <th>Resistivity, ohm-m</th>\n",
       "      <th>Water Saturation, fraction</th>\n",
       "      <th>PhiH, ft</th>\n",
       "      <th>TVD, ft</th>\n",
       "    </tr>\n",
       "    <tr>\n",
       "      <th>clusters</th>\n",
       "      <th></th>\n",
       "      <th></th>\n",
       "      <th></th>\n",
       "      <th></th>\n",
       "      <th></th>\n",
       "      <th></th>\n",
       "    </tr>\n",
       "  </thead>\n",
       "  <tbody>\n",
       "    <tr>\n",
       "      <th>0</th>\n",
       "      <td>184.410714</td>\n",
       "      <td>2.222732</td>\n",
       "      <td>25.464286</td>\n",
       "      <td>0.130714</td>\n",
       "      <td>21.035714</td>\n",
       "      <td>10435.571429</td>\n",
       "    </tr>\n",
       "    <tr>\n",
       "      <th>1</th>\n",
       "      <td>144.703704</td>\n",
       "      <td>2.253333</td>\n",
       "      <td>16.629630</td>\n",
       "      <td>0.195185</td>\n",
       "      <td>27.296296</td>\n",
       "      <td>9639.481481</td>\n",
       "    </tr>\n",
       "    <tr>\n",
       "      <th>2</th>\n",
       "      <td>166.789474</td>\n",
       "      <td>2.245218</td>\n",
       "      <td>32.280702</td>\n",
       "      <td>0.137544</td>\n",
       "      <td>18.052632</td>\n",
       "      <td>9317.210526</td>\n",
       "    </tr>\n",
       "    <tr>\n",
       "      <th>3</th>\n",
       "      <td>129.018868</td>\n",
       "      <td>2.225047</td>\n",
       "      <td>20.207547</td>\n",
       "      <td>0.132075</td>\n",
       "      <td>20.245283</td>\n",
       "      <td>11191.320755</td>\n",
       "    </tr>\n",
       "    <tr>\n",
       "      <th>4</th>\n",
       "      <td>154.426667</td>\n",
       "      <td>2.238265</td>\n",
       "      <td>15.853333</td>\n",
       "      <td>0.183600</td>\n",
       "      <td>20.906667</td>\n",
       "      <td>9672.533333</td>\n",
       "    </tr>\n",
       "    <tr>\n",
       "      <th>5</th>\n",
       "      <td>203.428571</td>\n",
       "      <td>2.270629</td>\n",
       "      <td>43.285714</td>\n",
       "      <td>0.126429</td>\n",
       "      <td>13.714286</td>\n",
       "      <td>9403.000000</td>\n",
       "    </tr>\n",
       "    <tr>\n",
       "      <th>6</th>\n",
       "      <td>186.217391</td>\n",
       "      <td>2.279948</td>\n",
       "      <td>15.043478</td>\n",
       "      <td>0.238696</td>\n",
       "      <td>21.217391</td>\n",
       "      <td>9303.739130</td>\n",
       "    </tr>\n",
       "    <tr>\n",
       "      <th>7</th>\n",
       "      <td>133.265306</td>\n",
       "      <td>2.225369</td>\n",
       "      <td>25.265306</td>\n",
       "      <td>0.131224</td>\n",
       "      <td>21.387755</td>\n",
       "      <td>9628.653061</td>\n",
       "    </tr>\n",
       "    <tr>\n",
       "      <th>8</th>\n",
       "      <td>138.838710</td>\n",
       "      <td>2.265868</td>\n",
       "      <td>17.838710</td>\n",
       "      <td>0.195968</td>\n",
       "      <td>19.758065</td>\n",
       "      <td>9774.806452</td>\n",
       "    </tr>\n",
       "    <tr>\n",
       "      <th>9</th>\n",
       "      <td>216.454545</td>\n",
       "      <td>2.239536</td>\n",
       "      <td>25.318182</td>\n",
       "      <td>0.135455</td>\n",
       "      <td>15.727273</td>\n",
       "      <td>10627.090909</td>\n",
       "    </tr>\n",
       "  </tbody>\n",
       "</table>\n",
       "</div>"
      ],
      "text/plain": [
       "              GR_API  Bulk Density, gcc  Resistivity, ohm-m  \\\n",
       "clusters                                                      \n",
       "0         184.410714           2.222732           25.464286   \n",
       "1         144.703704           2.253333           16.629630   \n",
       "2         166.789474           2.245218           32.280702   \n",
       "3         129.018868           2.225047           20.207547   \n",
       "4         154.426667           2.238265           15.853333   \n",
       "5         203.428571           2.270629           43.285714   \n",
       "6         186.217391           2.279948           15.043478   \n",
       "7         133.265306           2.225369           25.265306   \n",
       "8         138.838710           2.265868           17.838710   \n",
       "9         216.454545           2.239536           25.318182   \n",
       "\n",
       "          Water Saturation, fraction   PhiH, ft       TVD, ft  \n",
       "clusters                                                       \n",
       "0                           0.130714  21.035714  10435.571429  \n",
       "1                           0.195185  27.296296   9639.481481  \n",
       "2                           0.137544  18.052632   9317.210526  \n",
       "3                           0.132075  20.245283  11191.320755  \n",
       "4                           0.183600  20.906667   9672.533333  \n",
       "5                           0.126429  13.714286   9403.000000  \n",
       "6                           0.238696  21.217391   9303.739130  \n",
       "7                           0.131224  21.387755   9628.653061  \n",
       "8                           0.195968  19.758065   9774.806452  \n",
       "9                           0.135455  15.727273  10627.090909  "
      ]
     },
     "execution_count": 59,
     "metadata": {},
     "output_type": "execute_result"
    }
   ],
   "source": [
    "Group_by = df_2.groupby(by = 'clusters').mean()\n",
    "Group_by"
   ]
  },
  {
   "cell_type": "code",
   "execution_count": 60,
   "id": "34e6054c",
   "metadata": {},
   "outputs": [
    {
     "data": {
      "text/html": [
       "<div>\n",
       "<style scoped>\n",
       "    .dataframe tbody tr th:only-of-type {\n",
       "        vertical-align: middle;\n",
       "    }\n",
       "\n",
       "    .dataframe tbody tr th {\n",
       "        vertical-align: top;\n",
       "    }\n",
       "\n",
       "    .dataframe thead th {\n",
       "        text-align: right;\n",
       "    }\n",
       "</style>\n",
       "<table border=\"1\" class=\"dataframe\">\n",
       "  <thead>\n",
       "    <tr style=\"text-align: right;\">\n",
       "      <th></th>\n",
       "      <th>GR_API</th>\n",
       "      <th>Bulk Density, gcc</th>\n",
       "      <th>Resistivity, ohm-m</th>\n",
       "      <th>Water Saturation, fraction</th>\n",
       "      <th>PhiH, ft</th>\n",
       "      <th>TVD, ft</th>\n",
       "    </tr>\n",
       "    <tr>\n",
       "      <th>clusters</th>\n",
       "      <th></th>\n",
       "      <th></th>\n",
       "      <th></th>\n",
       "      <th></th>\n",
       "      <th></th>\n",
       "      <th></th>\n",
       "    </tr>\n",
       "  </thead>\n",
       "  <tbody>\n",
       "    <tr>\n",
       "      <th>0</th>\n",
       "      <td>56</td>\n",
       "      <td>56</td>\n",
       "      <td>56</td>\n",
       "      <td>56</td>\n",
       "      <td>56</td>\n",
       "      <td>56</td>\n",
       "    </tr>\n",
       "    <tr>\n",
       "      <th>1</th>\n",
       "      <td>27</td>\n",
       "      <td>27</td>\n",
       "      <td>27</td>\n",
       "      <td>27</td>\n",
       "      <td>27</td>\n",
       "      <td>27</td>\n",
       "    </tr>\n",
       "    <tr>\n",
       "      <th>2</th>\n",
       "      <td>57</td>\n",
       "      <td>57</td>\n",
       "      <td>57</td>\n",
       "      <td>57</td>\n",
       "      <td>57</td>\n",
       "      <td>57</td>\n",
       "    </tr>\n",
       "    <tr>\n",
       "      <th>3</th>\n",
       "      <td>53</td>\n",
       "      <td>53</td>\n",
       "      <td>53</td>\n",
       "      <td>53</td>\n",
       "      <td>53</td>\n",
       "      <td>53</td>\n",
       "    </tr>\n",
       "    <tr>\n",
       "      <th>4</th>\n",
       "      <td>75</td>\n",
       "      <td>75</td>\n",
       "      <td>75</td>\n",
       "      <td>75</td>\n",
       "      <td>75</td>\n",
       "      <td>75</td>\n",
       "    </tr>\n",
       "    <tr>\n",
       "      <th>5</th>\n",
       "      <td>14</td>\n",
       "      <td>14</td>\n",
       "      <td>14</td>\n",
       "      <td>14</td>\n",
       "      <td>14</td>\n",
       "      <td>14</td>\n",
       "    </tr>\n",
       "    <tr>\n",
       "      <th>6</th>\n",
       "      <td>23</td>\n",
       "      <td>23</td>\n",
       "      <td>23</td>\n",
       "      <td>23</td>\n",
       "      <td>23</td>\n",
       "      <td>23</td>\n",
       "    </tr>\n",
       "    <tr>\n",
       "      <th>7</th>\n",
       "      <td>49</td>\n",
       "      <td>49</td>\n",
       "      <td>49</td>\n",
       "      <td>49</td>\n",
       "      <td>49</td>\n",
       "      <td>49</td>\n",
       "    </tr>\n",
       "    <tr>\n",
       "      <th>8</th>\n",
       "      <td>62</td>\n",
       "      <td>62</td>\n",
       "      <td>62</td>\n",
       "      <td>62</td>\n",
       "      <td>62</td>\n",
       "      <td>62</td>\n",
       "    </tr>\n",
       "    <tr>\n",
       "      <th>9</th>\n",
       "      <td>22</td>\n",
       "      <td>22</td>\n",
       "      <td>22</td>\n",
       "      <td>22</td>\n",
       "      <td>22</td>\n",
       "      <td>22</td>\n",
       "    </tr>\n",
       "  </tbody>\n",
       "</table>\n",
       "</div>"
      ],
      "text/plain": [
       "          GR_API  Bulk Density, gcc  Resistivity, ohm-m  \\\n",
       "clusters                                                  \n",
       "0             56                 56                  56   \n",
       "1             27                 27                  27   \n",
       "2             57                 57                  57   \n",
       "3             53                 53                  53   \n",
       "4             75                 75                  75   \n",
       "5             14                 14                  14   \n",
       "6             23                 23                  23   \n",
       "7             49                 49                  49   \n",
       "8             62                 62                  62   \n",
       "9             22                 22                  22   \n",
       "\n",
       "          Water Saturation, fraction  PhiH, ft  TVD, ft  \n",
       "clusters                                                 \n",
       "0                                 56        56       56  \n",
       "1                                 27        27       27  \n",
       "2                                 57        57       57  \n",
       "3                                 53        53       53  \n",
       "4                                 75        75       75  \n",
       "5                                 14        14       14  \n",
       "6                                 23        23       23  \n",
       "7                                 49        49       49  \n",
       "8                                 62        62       62  \n",
       "9                                 22        22       22  "
      ]
     },
     "execution_count": 60,
     "metadata": {},
     "output_type": "execute_result"
    }
   ],
   "source": [
    "df_2.groupby(by = 'clusters').count()"
   ]
  },
  {
   "cell_type": "code",
   "execution_count": null,
   "id": "dc7183f0",
   "metadata": {},
   "outputs": [],
   "source": []
  }
 ],
 "metadata": {
  "kernelspec": {
   "display_name": "Python 3 (ipykernel)",
   "language": "python",
   "name": "python3"
  },
  "language_info": {
   "codemirror_mode": {
    "name": "ipython",
    "version": 3
   },
   "file_extension": ".py",
   "mimetype": "text/x-python",
   "name": "python",
   "nbconvert_exporter": "python",
   "pygments_lexer": "ipython3",
   "version": "3.9.7"
  }
 },
 "nbformat": 4,
 "nbformat_minor": 5
}
