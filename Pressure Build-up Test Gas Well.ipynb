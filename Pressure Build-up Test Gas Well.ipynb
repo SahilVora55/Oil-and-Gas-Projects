{
 "cells": [
  {
   "cell_type": "markdown",
   "id": "6241d9ff",
   "metadata": {},
   "source": [
    "# *Well Test Analysis of Gas Well*"
   ]
  },
  {
   "cell_type": "code",
   "execution_count": 1,
   "id": "57cac94d",
   "metadata": {},
   "outputs": [],
   "source": [
    "import pandas as pd\n",
    "import numpy as np\n",
    "import matplotlib.pyplot as plt\n",
    "\n",
    "from scipy.optimize import curve_fit"
   ]
  },
  {
   "cell_type": "code",
   "execution_count": 2,
   "id": "385c3127",
   "metadata": {},
   "outputs": [],
   "source": [
    "import warnings\n",
    "warnings.filterwarnings('ignore')"
   ]
  },
  {
   "cell_type": "markdown",
   "id": "b5887a4d",
   "metadata": {},
   "source": [
    "#### Q.)  A pressure-buildup test was run on a gas well in a newly discovered reservoir. Known and calculated data is summarized in the following tabel. Determine effective Permeability(k) to gas and Skin Factor(S)."
   ]
  },
  {
   "cell_type": "markdown",
   "id": "0eab77ea",
   "metadata": {},
   "source": [
    "  $h = 28 ft$\n",
    "\n",
    " $   r_w = 0.3 ft $\n",
    " \n",
    "  $  phi = 0.18 $\n",
    "  \n",
    "   $ t_p = 2000 hrs. $\n",
    "   \n",
    "   $(S.G.)_gas = 0.7 $\n",
    "    \n",
    "   $T = 640 R (180 degree F) $\n",
    "    \n",
    "   $u_g = 0.01885 cp at avg. reservoir pressure. $\n",
    "    \n",
    "   $q_g = 5256 Mscf/D $\n",
    "    \n",
    "   $B_g = 0.962 bbl/Mscf $\n",
    "    \n",
    "   $P_i = 2906 psia $\n",
    "    \n",
    "   $pai = 1718.59 psi $\n",
    "    \n",
    "   $Z = 0.8678 $\n",
    "    \n",
    "   $c_t = 2.238 * 10^-4 psia^-1 $"
   ]
  },
  {
   "cell_type": "code",
   "execution_count": 3,
   "id": "5080a5fa",
   "metadata": {},
   "outputs": [],
   "source": [
    "Press = pd.read_excel(r'C:\\Users\\sahil\\OneDrive\\Desktop\\EDVANTAGE\\DATA\\Well Test/well_test.xlsx')"
   ]
  },
  {
   "cell_type": "code",
   "execution_count": 4,
   "id": "f70763b5",
   "metadata": {},
   "outputs": [
    {
     "data": {
      "text/html": [
       "<div>\n",
       "<style scoped>\n",
       "    .dataframe tbody tr th:only-of-type {\n",
       "        vertical-align: middle;\n",
       "    }\n",
       "\n",
       "    .dataframe tbody tr th {\n",
       "        vertical-align: top;\n",
       "    }\n",
       "\n",
       "    .dataframe thead th {\n",
       "        text-align: right;\n",
       "    }\n",
       "</style>\n",
       "<table border=\"1\" class=\"dataframe\">\n",
       "  <thead>\n",
       "    <tr style=\"text-align: right;\">\n",
       "      <th></th>\n",
       "      <th>Shut in Time, hrs</th>\n",
       "      <th>Shut in Pressure, Psia</th>\n",
       "    </tr>\n",
       "  </thead>\n",
       "  <tbody>\n",
       "    <tr>\n",
       "      <th>0</th>\n",
       "      <td>0.01</td>\n",
       "      <td>2038</td>\n",
       "    </tr>\n",
       "    <tr>\n",
       "      <th>1</th>\n",
       "      <td>0.02</td>\n",
       "      <td>2108</td>\n",
       "    </tr>\n",
       "    <tr>\n",
       "      <th>2</th>\n",
       "      <td>0.03</td>\n",
       "      <td>2135</td>\n",
       "    </tr>\n",
       "    <tr>\n",
       "      <th>3</th>\n",
       "      <td>0.04</td>\n",
       "      <td>2148</td>\n",
       "    </tr>\n",
       "    <tr>\n",
       "      <th>4</th>\n",
       "      <td>0.05</td>\n",
       "      <td>2156</td>\n",
       "    </tr>\n",
       "  </tbody>\n",
       "</table>\n",
       "</div>"
      ],
      "text/plain": [
       "   Shut in Time, hrs  Shut in Pressure, Psia\n",
       "0               0.01                    2038\n",
       "1               0.02                    2108\n",
       "2               0.03                    2135\n",
       "3               0.04                    2148\n",
       "4               0.05                    2156"
      ]
     },
     "execution_count": 4,
     "metadata": {},
     "output_type": "execute_result"
    }
   ],
   "source": [
    "Press.head()"
   ]
  },
  {
   "cell_type": "code",
   "execution_count": 5,
   "id": "221467e8",
   "metadata": {},
   "outputs": [],
   "source": [
    "PVT = pd.read_excel(r'C:\\Users\\sahil\\OneDrive\\Desktop\\EDVANTAGE\\DATA\\Well Test/well_test.xlsx','PVT')"
   ]
  },
  {
   "cell_type": "code",
   "execution_count": 6,
   "id": "b2af4dc1",
   "metadata": {},
   "outputs": [
    {
     "data": {
      "text/html": [
       "<div>\n",
       "<style scoped>\n",
       "    .dataframe tbody tr th:only-of-type {\n",
       "        vertical-align: middle;\n",
       "    }\n",
       "\n",
       "    .dataframe tbody tr th {\n",
       "        vertical-align: top;\n",
       "    }\n",
       "\n",
       "    .dataframe thead th {\n",
       "        text-align: right;\n",
       "    }\n",
       "</style>\n",
       "<table border=\"1\" class=\"dataframe\">\n",
       "  <thead>\n",
       "    <tr style=\"text-align: right;\">\n",
       "      <th></th>\n",
       "      <th>P (psia)</th>\n",
       "      <th>ug (cp)</th>\n",
       "      <th>Z</th>\n",
       "    </tr>\n",
       "  </thead>\n",
       "  <tbody>\n",
       "    <tr>\n",
       "      <th>0</th>\n",
       "      <td>0</td>\n",
       "      <td>0.013</td>\n",
       "      <td>1.000</td>\n",
       "    </tr>\n",
       "    <tr>\n",
       "      <th>1</th>\n",
       "      <td>400</td>\n",
       "      <td>0.013</td>\n",
       "      <td>0.937</td>\n",
       "    </tr>\n",
       "    <tr>\n",
       "      <th>2</th>\n",
       "      <td>800</td>\n",
       "      <td>0.014</td>\n",
       "      <td>0.882</td>\n",
       "    </tr>\n",
       "    <tr>\n",
       "      <th>3</th>\n",
       "      <td>1200</td>\n",
       "      <td>0.015</td>\n",
       "      <td>0.832</td>\n",
       "    </tr>\n",
       "    <tr>\n",
       "      <th>4</th>\n",
       "      <td>1600</td>\n",
       "      <td>0.017</td>\n",
       "      <td>0.794</td>\n",
       "    </tr>\n",
       "    <tr>\n",
       "      <th>5</th>\n",
       "      <td>2000</td>\n",
       "      <td>0.018</td>\n",
       "      <td>0.770</td>\n",
       "    </tr>\n",
       "    <tr>\n",
       "      <th>6</th>\n",
       "      <td>2400</td>\n",
       "      <td>0.020</td>\n",
       "      <td>0.763</td>\n",
       "    </tr>\n",
       "    <tr>\n",
       "      <th>7</th>\n",
       "      <td>2800</td>\n",
       "      <td>0.022</td>\n",
       "      <td>0.775</td>\n",
       "    </tr>\n",
       "    <tr>\n",
       "      <th>8</th>\n",
       "      <td>3200</td>\n",
       "      <td>0.023</td>\n",
       "      <td>0.797</td>\n",
       "    </tr>\n",
       "    <tr>\n",
       "      <th>9</th>\n",
       "      <td>3600</td>\n",
       "      <td>0.025</td>\n",
       "      <td>0.827</td>\n",
       "    </tr>\n",
       "    <tr>\n",
       "      <th>10</th>\n",
       "      <td>4000</td>\n",
       "      <td>0.027</td>\n",
       "      <td>0.860</td>\n",
       "    </tr>\n",
       "    <tr>\n",
       "      <th>11</th>\n",
       "      <td>4400</td>\n",
       "      <td>0.028</td>\n",
       "      <td>0.896</td>\n",
       "    </tr>\n",
       "  </tbody>\n",
       "</table>\n",
       "</div>"
      ],
      "text/plain": [
       "    P (psia)  ug (cp)      Z\n",
       "0          0    0.013  1.000\n",
       "1        400    0.013  0.937\n",
       "2        800    0.014  0.882\n",
       "3       1200    0.015  0.832\n",
       "4       1600    0.017  0.794\n",
       "5       2000    0.018  0.770\n",
       "6       2400    0.020  0.763\n",
       "7       2800    0.022  0.775\n",
       "8       3200    0.023  0.797\n",
       "9       3600    0.025  0.827\n",
       "10      4000    0.027  0.860\n",
       "11      4400    0.028  0.896"
      ]
     },
     "execution_count": 6,
     "metadata": {},
     "output_type": "execute_result"
    }
   ],
   "source": [
    "PVT"
   ]
  },
  {
   "cell_type": "code",
   "execution_count": 7,
   "id": "6bcd8691",
   "metadata": {},
   "outputs": [],
   "source": [
    "PVT['2P/uz'] = 2*PVT['P (psia)']/(PVT['ug (cp)']*PVT['Z'])"
   ]
  },
  {
   "cell_type": "code",
   "execution_count": 8,
   "id": "ec5c6767",
   "metadata": {},
   "outputs": [
    {
     "data": {
      "text/html": [
       "<div>\n",
       "<style scoped>\n",
       "    .dataframe tbody tr th:only-of-type {\n",
       "        vertical-align: middle;\n",
       "    }\n",
       "\n",
       "    .dataframe tbody tr th {\n",
       "        vertical-align: top;\n",
       "    }\n",
       "\n",
       "    .dataframe thead th {\n",
       "        text-align: right;\n",
       "    }\n",
       "</style>\n",
       "<table border=\"1\" class=\"dataframe\">\n",
       "  <thead>\n",
       "    <tr style=\"text-align: right;\">\n",
       "      <th></th>\n",
       "      <th>P (psia)</th>\n",
       "      <th>ug (cp)</th>\n",
       "      <th>Z</th>\n",
       "      <th>2P/uz</th>\n",
       "    </tr>\n",
       "  </thead>\n",
       "  <tbody>\n",
       "    <tr>\n",
       "      <th>0</th>\n",
       "      <td>0</td>\n",
       "      <td>0.013</td>\n",
       "      <td>1.000</td>\n",
       "      <td>0.000000</td>\n",
       "    </tr>\n",
       "    <tr>\n",
       "      <th>1</th>\n",
       "      <td>400</td>\n",
       "      <td>0.013</td>\n",
       "      <td>0.937</td>\n",
       "      <td>65676.052869</td>\n",
       "    </tr>\n",
       "    <tr>\n",
       "      <th>2</th>\n",
       "      <td>800</td>\n",
       "      <td>0.014</td>\n",
       "      <td>0.882</td>\n",
       "      <td>129575.639780</td>\n",
       "    </tr>\n",
       "    <tr>\n",
       "      <th>3</th>\n",
       "      <td>1200</td>\n",
       "      <td>0.015</td>\n",
       "      <td>0.832</td>\n",
       "      <td>192307.692308</td>\n",
       "    </tr>\n",
       "    <tr>\n",
       "      <th>4</th>\n",
       "      <td>1600</td>\n",
       "      <td>0.017</td>\n",
       "      <td>0.794</td>\n",
       "      <td>237072.158838</td>\n",
       "    </tr>\n",
       "    <tr>\n",
       "      <th>5</th>\n",
       "      <td>2000</td>\n",
       "      <td>0.018</td>\n",
       "      <td>0.770</td>\n",
       "      <td>288600.288600</td>\n",
       "    </tr>\n",
       "    <tr>\n",
       "      <th>6</th>\n",
       "      <td>2400</td>\n",
       "      <td>0.020</td>\n",
       "      <td>0.763</td>\n",
       "      <td>314547.837484</td>\n",
       "    </tr>\n",
       "    <tr>\n",
       "      <th>7</th>\n",
       "      <td>2800</td>\n",
       "      <td>0.022</td>\n",
       "      <td>0.775</td>\n",
       "      <td>328445.747801</td>\n",
       "    </tr>\n",
       "    <tr>\n",
       "      <th>8</th>\n",
       "      <td>3200</td>\n",
       "      <td>0.023</td>\n",
       "      <td>0.797</td>\n",
       "      <td>349135.344498</td>\n",
       "    </tr>\n",
       "    <tr>\n",
       "      <th>9</th>\n",
       "      <td>3600</td>\n",
       "      <td>0.025</td>\n",
       "      <td>0.827</td>\n",
       "      <td>348246.674728</td>\n",
       "    </tr>\n",
       "    <tr>\n",
       "      <th>10</th>\n",
       "      <td>4000</td>\n",
       "      <td>0.027</td>\n",
       "      <td>0.860</td>\n",
       "      <td>344530.577089</td>\n",
       "    </tr>\n",
       "    <tr>\n",
       "      <th>11</th>\n",
       "      <td>4400</td>\n",
       "      <td>0.028</td>\n",
       "      <td>0.896</td>\n",
       "      <td>350765.306122</td>\n",
       "    </tr>\n",
       "  </tbody>\n",
       "</table>\n",
       "</div>"
      ],
      "text/plain": [
       "    P (psia)  ug (cp)      Z          2P/uz\n",
       "0          0    0.013  1.000       0.000000\n",
       "1        400    0.013  0.937   65676.052869\n",
       "2        800    0.014  0.882  129575.639780\n",
       "3       1200    0.015  0.832  192307.692308\n",
       "4       1600    0.017  0.794  237072.158838\n",
       "5       2000    0.018  0.770  288600.288600\n",
       "6       2400    0.020  0.763  314547.837484\n",
       "7       2800    0.022  0.775  328445.747801\n",
       "8       3200    0.023  0.797  349135.344498\n",
       "9       3600    0.025  0.827  348246.674728\n",
       "10      4000    0.027  0.860  344530.577089\n",
       "11      4400    0.028  0.896  350765.306122"
      ]
     },
     "execution_count": 8,
     "metadata": {},
     "output_type": "execute_result"
    }
   ],
   "source": [
    "PVT"
   ]
  },
  {
   "cell_type": "code",
   "execution_count": 9,
   "id": "78727d22",
   "metadata": {},
   "outputs": [],
   "source": [
    "PVT['Avrage']=np.nan"
   ]
  },
  {
   "cell_type": "code",
   "execution_count": 10,
   "id": "97ce752a",
   "metadata": {},
   "outputs": [],
   "source": [
    "PVT['Avrage'][0]=0"
   ]
  },
  {
   "cell_type": "code",
   "execution_count": 11,
   "id": "8ca99d12",
   "metadata": {},
   "outputs": [],
   "source": [
    "for i in PVT.index:\n",
    "    if i>0:\n",
    "        PVT['Avrage'][i] = (PVT['2P/uz'][i]+PVT['2P/uz'][i-1])/2"
   ]
  },
  {
   "cell_type": "code",
   "execution_count": 12,
   "id": "4a77e754",
   "metadata": {},
   "outputs": [],
   "source": [
    "PVT['2P/ugZ*dP'] = PVT['Avrage']*(PVT['P (psia)'][1]-PVT['P (psia)'][0])"
   ]
  },
  {
   "cell_type": "code",
   "execution_count": 13,
   "id": "531aeb9e",
   "metadata": {},
   "outputs": [
    {
     "data": {
      "text/html": [
       "<div>\n",
       "<style scoped>\n",
       "    .dataframe tbody tr th:only-of-type {\n",
       "        vertical-align: middle;\n",
       "    }\n",
       "\n",
       "    .dataframe tbody tr th {\n",
       "        vertical-align: top;\n",
       "    }\n",
       "\n",
       "    .dataframe thead th {\n",
       "        text-align: right;\n",
       "    }\n",
       "</style>\n",
       "<table border=\"1\" class=\"dataframe\">\n",
       "  <thead>\n",
       "    <tr style=\"text-align: right;\">\n",
       "      <th></th>\n",
       "      <th>P (psia)</th>\n",
       "      <th>ug (cp)</th>\n",
       "      <th>Z</th>\n",
       "      <th>2P/uz</th>\n",
       "      <th>Avrage</th>\n",
       "      <th>2P/ugZ*dP</th>\n",
       "    </tr>\n",
       "  </thead>\n",
       "  <tbody>\n",
       "    <tr>\n",
       "      <th>0</th>\n",
       "      <td>0</td>\n",
       "      <td>0.013</td>\n",
       "      <td>1.000</td>\n",
       "      <td>0.000000</td>\n",
       "      <td>0.000000</td>\n",
       "      <td>0.000000e+00</td>\n",
       "    </tr>\n",
       "    <tr>\n",
       "      <th>1</th>\n",
       "      <td>400</td>\n",
       "      <td>0.013</td>\n",
       "      <td>0.937</td>\n",
       "      <td>65676.052869</td>\n",
       "      <td>32838.026435</td>\n",
       "      <td>1.313521e+07</td>\n",
       "    </tr>\n",
       "    <tr>\n",
       "      <th>2</th>\n",
       "      <td>800</td>\n",
       "      <td>0.014</td>\n",
       "      <td>0.882</td>\n",
       "      <td>129575.639780</td>\n",
       "      <td>97625.846324</td>\n",
       "      <td>3.905034e+07</td>\n",
       "    </tr>\n",
       "    <tr>\n",
       "      <th>3</th>\n",
       "      <td>1200</td>\n",
       "      <td>0.015</td>\n",
       "      <td>0.832</td>\n",
       "      <td>192307.692308</td>\n",
       "      <td>160941.666044</td>\n",
       "      <td>6.437667e+07</td>\n",
       "    </tr>\n",
       "    <tr>\n",
       "      <th>4</th>\n",
       "      <td>1600</td>\n",
       "      <td>0.017</td>\n",
       "      <td>0.794</td>\n",
       "      <td>237072.158838</td>\n",
       "      <td>214689.925573</td>\n",
       "      <td>8.587597e+07</td>\n",
       "    </tr>\n",
       "  </tbody>\n",
       "</table>\n",
       "</div>"
      ],
      "text/plain": [
       "   P (psia)  ug (cp)      Z          2P/uz         Avrage     2P/ugZ*dP\n",
       "0         0    0.013  1.000       0.000000       0.000000  0.000000e+00\n",
       "1       400    0.013  0.937   65676.052869   32838.026435  1.313521e+07\n",
       "2       800    0.014  0.882  129575.639780   97625.846324  3.905034e+07\n",
       "3      1200    0.015  0.832  192307.692308  160941.666044  6.437667e+07\n",
       "4      1600    0.017  0.794  237072.158838  214689.925573  8.587597e+07"
      ]
     },
     "execution_count": 13,
     "metadata": {},
     "output_type": "execute_result"
    }
   ],
   "source": [
    "PVT.head()"
   ]
  },
  {
   "cell_type": "code",
   "execution_count": 14,
   "id": "b4b7c99c",
   "metadata": {},
   "outputs": [],
   "source": [
    "PVT['m(P)']=np.nan\n",
    "PVT['m(P)'][0] = 0"
   ]
  },
  {
   "cell_type": "code",
   "execution_count": 15,
   "id": "ff9aab68",
   "metadata": {},
   "outputs": [],
   "source": [
    "for i in PVT.index:\n",
    "    if i>0:\n",
    "        PVT['m(P)'][i] = PVT['2P/ugZ*dP'][i]+PVT['m(P)'][i-1]"
   ]
  },
  {
   "cell_type": "code",
   "execution_count": 16,
   "id": "e1e9a044",
   "metadata": {},
   "outputs": [
    {
     "data": {
      "text/html": [
       "<div>\n",
       "<style scoped>\n",
       "    .dataframe tbody tr th:only-of-type {\n",
       "        vertical-align: middle;\n",
       "    }\n",
       "\n",
       "    .dataframe tbody tr th {\n",
       "        vertical-align: top;\n",
       "    }\n",
       "\n",
       "    .dataframe thead th {\n",
       "        text-align: right;\n",
       "    }\n",
       "</style>\n",
       "<table border=\"1\" class=\"dataframe\">\n",
       "  <thead>\n",
       "    <tr style=\"text-align: right;\">\n",
       "      <th></th>\n",
       "      <th>P (psia)</th>\n",
       "      <th>ug (cp)</th>\n",
       "      <th>Z</th>\n",
       "      <th>2P/uz</th>\n",
       "      <th>Avrage</th>\n",
       "      <th>2P/ugZ*dP</th>\n",
       "      <th>m(P)</th>\n",
       "    </tr>\n",
       "  </thead>\n",
       "  <tbody>\n",
       "    <tr>\n",
       "      <th>0</th>\n",
       "      <td>0</td>\n",
       "      <td>0.013</td>\n",
       "      <td>1.000</td>\n",
       "      <td>0.000000</td>\n",
       "      <td>0.000000</td>\n",
       "      <td>0.000000e+00</td>\n",
       "      <td>0.000000e+00</td>\n",
       "    </tr>\n",
       "    <tr>\n",
       "      <th>1</th>\n",
       "      <td>400</td>\n",
       "      <td>0.013</td>\n",
       "      <td>0.937</td>\n",
       "      <td>65676.052869</td>\n",
       "      <td>32838.026435</td>\n",
       "      <td>1.313521e+07</td>\n",
       "      <td>1.313521e+07</td>\n",
       "    </tr>\n",
       "    <tr>\n",
       "      <th>2</th>\n",
       "      <td>800</td>\n",
       "      <td>0.014</td>\n",
       "      <td>0.882</td>\n",
       "      <td>129575.639780</td>\n",
       "      <td>97625.846324</td>\n",
       "      <td>3.905034e+07</td>\n",
       "      <td>5.218555e+07</td>\n",
       "    </tr>\n",
       "    <tr>\n",
       "      <th>3</th>\n",
       "      <td>1200</td>\n",
       "      <td>0.015</td>\n",
       "      <td>0.832</td>\n",
       "      <td>192307.692308</td>\n",
       "      <td>160941.666044</td>\n",
       "      <td>6.437667e+07</td>\n",
       "      <td>1.165622e+08</td>\n",
       "    </tr>\n",
       "    <tr>\n",
       "      <th>4</th>\n",
       "      <td>1600</td>\n",
       "      <td>0.017</td>\n",
       "      <td>0.794</td>\n",
       "      <td>237072.158838</td>\n",
       "      <td>214689.925573</td>\n",
       "      <td>8.587597e+07</td>\n",
       "      <td>2.024382e+08</td>\n",
       "    </tr>\n",
       "  </tbody>\n",
       "</table>\n",
       "</div>"
      ],
      "text/plain": [
       "   P (psia)  ug (cp)      Z          2P/uz         Avrage     2P/ugZ*dP  \\\n",
       "0         0    0.013  1.000       0.000000       0.000000  0.000000e+00   \n",
       "1       400    0.013  0.937   65676.052869   32838.026435  1.313521e+07   \n",
       "2       800    0.014  0.882  129575.639780   97625.846324  3.905034e+07   \n",
       "3      1200    0.015  0.832  192307.692308  160941.666044  6.437667e+07   \n",
       "4      1600    0.017  0.794  237072.158838  214689.925573  8.587597e+07   \n",
       "\n",
       "           m(P)  \n",
       "0  0.000000e+00  \n",
       "1  1.313521e+07  \n",
       "2  5.218555e+07  \n",
       "3  1.165622e+08  \n",
       "4  2.024382e+08  "
      ]
     },
     "execution_count": 16,
     "metadata": {},
     "output_type": "execute_result"
    }
   ],
   "source": [
    "PVT.head()"
   ]
  },
  {
   "cell_type": "code",
   "execution_count": 17,
   "id": "61bb1500",
   "metadata": {},
   "outputs": [
    {
     "data": {
      "text/html": [
       "<div>\n",
       "<style scoped>\n",
       "    .dataframe tbody tr th:only-of-type {\n",
       "        vertical-align: middle;\n",
       "    }\n",
       "\n",
       "    .dataframe tbody tr th {\n",
       "        vertical-align: top;\n",
       "    }\n",
       "\n",
       "    .dataframe thead th {\n",
       "        text-align: right;\n",
       "    }\n",
       "</style>\n",
       "<table border=\"1\" class=\"dataframe\">\n",
       "  <thead>\n",
       "    <tr style=\"text-align: right;\">\n",
       "      <th></th>\n",
       "      <th>Shut in Time, hrs</th>\n",
       "      <th>Shut in Pressure, Psia</th>\n",
       "    </tr>\n",
       "  </thead>\n",
       "  <tbody>\n",
       "    <tr>\n",
       "      <th>0</th>\n",
       "      <td>0.01</td>\n",
       "      <td>2038</td>\n",
       "    </tr>\n",
       "    <tr>\n",
       "      <th>1</th>\n",
       "      <td>0.02</td>\n",
       "      <td>2108</td>\n",
       "    </tr>\n",
       "    <tr>\n",
       "      <th>2</th>\n",
       "      <td>0.03</td>\n",
       "      <td>2135</td>\n",
       "    </tr>\n",
       "    <tr>\n",
       "      <th>3</th>\n",
       "      <td>0.04</td>\n",
       "      <td>2148</td>\n",
       "    </tr>\n",
       "    <tr>\n",
       "      <th>4</th>\n",
       "      <td>0.05</td>\n",
       "      <td>2156</td>\n",
       "    </tr>\n",
       "  </tbody>\n",
       "</table>\n",
       "</div>"
      ],
      "text/plain": [
       "   Shut in Time, hrs  Shut in Pressure, Psia\n",
       "0               0.01                    2038\n",
       "1               0.02                    2108\n",
       "2               0.03                    2135\n",
       "3               0.04                    2148\n",
       "4               0.05                    2156"
      ]
     },
     "execution_count": 17,
     "metadata": {},
     "output_type": "execute_result"
    }
   ],
   "source": [
    "Press.head()"
   ]
  },
  {
   "cell_type": "markdown",
   "id": "b802acd4",
   "metadata": {},
   "source": [
    "### Horner Time = $(tp + detla(t))/delta(t)$"
   ]
  },
  {
   "cell_type": "code",
   "execution_count": 18,
   "id": "d959141f",
   "metadata": {},
   "outputs": [],
   "source": [
    "Press['Horner time'] = np.zeros(31)\n",
    "tp = 2000   # hours"
   ]
  },
  {
   "cell_type": "code",
   "execution_count": 19,
   "id": "9fe5d74b",
   "metadata": {},
   "outputs": [],
   "source": [
    "for i in Press.index:\n",
    "    Press['Horner time'][i] = (tp + Press['Shut in Time, hrs'][i])/Press['Shut in Time, hrs'][i]"
   ]
  },
  {
   "cell_type": "code",
   "execution_count": 20,
   "id": "099eff74",
   "metadata": {},
   "outputs": [
    {
     "data": {
      "text/html": [
       "<div>\n",
       "<style scoped>\n",
       "    .dataframe tbody tr th:only-of-type {\n",
       "        vertical-align: middle;\n",
       "    }\n",
       "\n",
       "    .dataframe tbody tr th {\n",
       "        vertical-align: top;\n",
       "    }\n",
       "\n",
       "    .dataframe thead th {\n",
       "        text-align: right;\n",
       "    }\n",
       "</style>\n",
       "<table border=\"1\" class=\"dataframe\">\n",
       "  <thead>\n",
       "    <tr style=\"text-align: right;\">\n",
       "      <th></th>\n",
       "      <th>Shut in Time, hrs</th>\n",
       "      <th>Shut in Pressure, Psia</th>\n",
       "      <th>Horner time</th>\n",
       "    </tr>\n",
       "  </thead>\n",
       "  <tbody>\n",
       "    <tr>\n",
       "      <th>0</th>\n",
       "      <td>0.01</td>\n",
       "      <td>2038</td>\n",
       "      <td>200001.000000</td>\n",
       "    </tr>\n",
       "    <tr>\n",
       "      <th>1</th>\n",
       "      <td>0.02</td>\n",
       "      <td>2108</td>\n",
       "      <td>100001.000000</td>\n",
       "    </tr>\n",
       "    <tr>\n",
       "      <th>2</th>\n",
       "      <td>0.03</td>\n",
       "      <td>2135</td>\n",
       "      <td>66667.666667</td>\n",
       "    </tr>\n",
       "    <tr>\n",
       "      <th>3</th>\n",
       "      <td>0.04</td>\n",
       "      <td>2148</td>\n",
       "      <td>50001.000000</td>\n",
       "    </tr>\n",
       "    <tr>\n",
       "      <th>4</th>\n",
       "      <td>0.05</td>\n",
       "      <td>2156</td>\n",
       "      <td>40001.000000</td>\n",
       "    </tr>\n",
       "  </tbody>\n",
       "</table>\n",
       "</div>"
      ],
      "text/plain": [
       "   Shut in Time, hrs  Shut in Pressure, Psia    Horner time\n",
       "0               0.01                    2038  200001.000000\n",
       "1               0.02                    2108  100001.000000\n",
       "2               0.03                    2135   66667.666667\n",
       "3               0.04                    2148   50001.000000\n",
       "4               0.05                    2156   40001.000000"
      ]
     },
     "execution_count": 20,
     "metadata": {},
     "output_type": "execute_result"
    }
   ],
   "source": [
    "Press.head()"
   ]
  },
  {
   "cell_type": "markdown",
   "id": "88f0653f",
   "metadata": {},
   "source": [
    "### Now We have to find out Psuedo Pressure for given Pressure from m(P) vs. Pressure Plot."
   ]
  },
  {
   "cell_type": "code",
   "execution_count": 21,
   "id": "eb5d5659",
   "metadata": {},
   "outputs": [
    {
     "data": {
      "image/png": "[encoded data removed]",
      "text/plain": [
       "<Figure size 432x288 with 1 Axes>"
      ]
     },
     "metadata": {
      "needs_background": "light"
     },
     "output_type": "display_data"
    }
   ],
   "source": [
    "plt.plot(PVT['P (psia)'],PVT['m(P)'],lw=2)\n",
    "plt.xlim(2000,2400)\n",
    "plt.ylim(200000000,500000000)\n",
    "plt.xlabel('P, psia',size=13)\n",
    "plt.ylabel('m(P)',size=13)\n",
    "plt.grid(alpha=0.3)\n",
    "for i in Press.index:\n",
    "    plt.axvline(Press['Shut in Pressure, Psia'][i],lw=1,c='g',ls='--')"
   ]
  },
  {
   "cell_type": "code",
   "execution_count": 22,
   "id": "d10f9cdf",
   "metadata": {},
   "outputs": [],
   "source": [
    "def linear(x, a, c):\n",
    "    return a*x+c"
   ]
  },
  {
   "cell_type": "code",
   "execution_count": 23,
   "id": "2622344a",
   "metadata": {},
   "outputs": [],
   "source": [
    "param = curve_fit(linear,PVT['P (psia)'][3:],PVT['m(P)'][3:])"
   ]
  },
  {
   "cell_type": "code",
   "execution_count": 24,
   "id": "bf666a99",
   "metadata": {},
   "outputs": [],
   "source": [
    "m,c = param[0][0],param[0][1]"
   ]
  },
  {
   "cell_type": "code",
   "execution_count": 25,
   "id": "c14d5044",
   "metadata": {},
   "outputs": [
    {
     "data": {
      "text/plain": [
       "0    -3.057348e+08\n",
       "1    -1.792735e+08\n",
       "2    -5.281230e+07\n",
       "3     7.364893e+07\n",
       "4     2.001102e+08\n",
       "5     3.265714e+08\n",
       "6     4.530326e+08\n",
       "7     5.794938e+08\n",
       "8     7.059551e+08\n",
       "9     8.324163e+08\n",
       "10    9.588775e+08\n",
       "11    1.085339e+09\n",
       "Name: P (psia), dtype: float64"
      ]
     },
     "execution_count": 25,
     "metadata": {},
     "output_type": "execute_result"
    }
   ],
   "source": [
    "m*PVT['P (psia)']+c"
   ]
  },
  {
   "cell_type": "code",
   "execution_count": 26,
   "id": "60f238bc",
   "metadata": {},
   "outputs": [
    {
     "data": {
      "image/png": "[encoded data removed]",
      "text/plain": [
       "<Figure size 432x288 with 1 Axes>"
      ]
     },
     "metadata": {
      "needs_background": "light"
     },
     "output_type": "display_data"
    }
   ],
   "source": [
    "plt.plot(PVT['P (psia)'],PVT['m(P)'],lw=2)\n",
    "plt.plot(PVT['P (psia)'],m*PVT['P (psia)']+c,lw=2)\n",
    "plt.xlabel('P, psia',size=13)\n",
    "plt.ylabel('m(P)',size=13)\n",
    "plt.grid(alpha=0.7)"
   ]
  },
  {
   "cell_type": "code",
   "execution_count": 27,
   "id": "6433b1fa",
   "metadata": {},
   "outputs": [],
   "source": [
    "Press['m(P)'] = m*Press['Shut in Pressure, Psia']+c"
   ]
  },
  {
   "cell_type": "code",
   "execution_count": 28,
   "id": "9d2b44f4",
   "metadata": {},
   "outputs": [
    {
     "data": {
      "text/html": [
       "<div>\n",
       "<style scoped>\n",
       "    .dataframe tbody tr th:only-of-type {\n",
       "        vertical-align: middle;\n",
       "    }\n",
       "\n",
       "    .dataframe tbody tr th {\n",
       "        vertical-align: top;\n",
       "    }\n",
       "\n",
       "    .dataframe thead th {\n",
       "        text-align: right;\n",
       "    }\n",
       "</style>\n",
       "<table border=\"1\" class=\"dataframe\">\n",
       "  <thead>\n",
       "    <tr style=\"text-align: right;\">\n",
       "      <th></th>\n",
       "      <th>Shut in Time, hrs</th>\n",
       "      <th>Shut in Pressure, Psia</th>\n",
       "      <th>Horner time</th>\n",
       "      <th>m(P)</th>\n",
       "    </tr>\n",
       "  </thead>\n",
       "  <tbody>\n",
       "    <tr>\n",
       "      <th>0</th>\n",
       "      <td>0.01</td>\n",
       "      <td>2038</td>\n",
       "      <td>200001.000000</td>\n",
       "      <td>3.385852e+08</td>\n",
       "    </tr>\n",
       "    <tr>\n",
       "      <th>1</th>\n",
       "      <td>0.02</td>\n",
       "      <td>2108</td>\n",
       "      <td>100001.000000</td>\n",
       "      <td>3.607159e+08</td>\n",
       "    </tr>\n",
       "    <tr>\n",
       "      <th>2</th>\n",
       "      <td>0.03</td>\n",
       "      <td>2135</td>\n",
       "      <td>66667.666667</td>\n",
       "      <td>3.692521e+08</td>\n",
       "    </tr>\n",
       "    <tr>\n",
       "      <th>3</th>\n",
       "      <td>0.04</td>\n",
       "      <td>2148</td>\n",
       "      <td>50001.000000</td>\n",
       "      <td>3.733620e+08</td>\n",
       "    </tr>\n",
       "    <tr>\n",
       "      <th>4</th>\n",
       "      <td>0.05</td>\n",
       "      <td>2156</td>\n",
       "      <td>40001.000000</td>\n",
       "      <td>3.758913e+08</td>\n",
       "    </tr>\n",
       "  </tbody>\n",
       "</table>\n",
       "</div>"
      ],
      "text/plain": [
       "   Shut in Time, hrs  Shut in Pressure, Psia    Horner time          m(P)\n",
       "0               0.01                    2038  200001.000000  3.385852e+08\n",
       "1               0.02                    2108  100001.000000  3.607159e+08\n",
       "2               0.03                    2135   66667.666667  3.692521e+08\n",
       "3               0.04                    2148   50001.000000  3.733620e+08\n",
       "4               0.05                    2156   40001.000000  3.758913e+08"
      ]
     },
     "execution_count": 28,
     "metadata": {},
     "output_type": "execute_result"
    }
   ],
   "source": [
    "Press.head()"
   ]
  },
  {
   "cell_type": "code",
   "execution_count": 29,
   "id": "a1ea3e99",
   "metadata": {},
   "outputs": [
    {
     "data": {
      "image/png": "[encoded data removed]",
      "text/plain": [
       "<Figure size 864x432 with 1 Axes>"
      ]
     },
     "metadata": {
      "needs_background": "light"
     },
     "output_type": "display_data"
    }
   ],
   "source": [
    "plt.figure(figsize=(12,6))\n",
    "plt.plot(Press['Shut in Pressure, Psia'],Press['m(P)'],'b')\n",
    "plt.scatter(Press['Shut in Pressure, Psia'],Press['m(P)'],c='g',marker='*')\n",
    "plt.xlabel('P, psia',size=15)\n",
    "plt.ylabel('m(P)',size=15)\n",
    "for i in Press.index:\n",
    "    plt.axvline(Press['Shut in Pressure, Psia'][i],lw=1,c='g',ls='--')"
   ]
  },
  {
   "cell_type": "code",
   "execution_count": 30,
   "id": "bae2ee94",
   "metadata": {},
   "outputs": [],
   "source": [
    "h = 28 # ft\n",
    "\n",
    "r_w = 0.3 # ft\n",
    " \n",
    "phi = 0.18\n",
    "  \n",
    "t_p = 2000 #hrs.\n",
    "   \n",
    "SG_gas = 0.7 \n",
    "    \n",
    "T = 640 #R (180 degree F) \n",
    "    \n",
    "u_g = 0.01885 #cp at avg. reservoir pressure. \n",
    "    \n",
    "q_g = 5256 #Mscf/D \n",
    "    \n",
    "B_g = 0.962 #bbl/Mscf \n",
    "    \n",
    "P_i = 2906 #psia \n",
    "    \n",
    "pai = 1718.59 #psi \n",
    "    \n",
    "Z = 0.8678 \n",
    "    \n",
    "c_t = 2.238*(10**(-4)) #psia^-1"
   ]
  },
  {
   "cell_type": "code",
   "execution_count": 31,
   "id": "9803fb4b",
   "metadata": {},
   "outputs": [],
   "source": [
    "Press['Horner time log'] = np.log(Press['Horner time'])"
   ]
  },
  {
   "cell_type": "code",
   "execution_count": 32,
   "id": "21c7ee6f",
   "metadata": {},
   "outputs": [
    {
     "data": {
      "image/png": "[encoded data removed]",
      "text/plain": [
       "<Figure size 720x432 with 1 Axes>"
      ]
     },
     "metadata": {
      "needs_background": "light"
     },
     "output_type": "display_data"
    }
   ],
   "source": [
    "plt.figure(figsize=(10,6))\n",
    "plt.scatter(Press['Horner time'],Press['m(P)'],color='g')\n",
    "plt.semilogx()\n",
    "plt.xlabel('Horner Time log scale',size=12)\n",
    "plt.ylabel('Psuedo Pressure, m(P)',size=12)\n",
    "plt.grid()"
   ]
  },
  {
   "cell_type": "code",
   "execution_count": 33,
   "id": "de31dd79",
   "metadata": {},
   "outputs": [],
   "source": [
    "parameter = curve_fit(linear,Press['Horner time log'][4:],Press['m(P)'][4:])"
   ]
  },
  {
   "cell_type": "code",
   "execution_count": 34,
   "id": "0041b0db",
   "metadata": {},
   "outputs": [],
   "source": [
    "m1,c1 = parameter[0][0],parameter[0][1]"
   ]
  },
  {
   "cell_type": "code",
   "execution_count": 35,
   "id": "22e62844",
   "metadata": {},
   "outputs": [],
   "source": [
    "linefit = m1*Press['Horner time log']+c1"
   ]
  },
  {
   "cell_type": "code",
   "execution_count": 36,
   "id": "f7361aed",
   "metadata": {},
   "outputs": [
    {
     "data": {
      "image/png": "[encoded data removed]",
      "text/plain": [
       "<Figure size 720x432 with 1 Axes>"
      ]
     },
     "metadata": {
      "needs_background": "light"
     },
     "output_type": "display_data"
    }
   ],
   "source": [
    "plt.figure(figsize=(10,6))\n",
    "plt.semilogx(Press['Horner time'],Press['m(P)'],color='g',ls='dotted',lw=6)\n",
    "plt.semilogx(Press['Horner time'],linefit,ls='--',c='r')\n",
    "plt.xlabel('Horner Time log scale',size=12)\n",
    "plt.ylabel('Psuedo Pressure, m(P)',size=12)\n",
    "plt.grid(True, which='both', color='black', linewidth=0.1)"
   ]
  },
  {
   "cell_type": "markdown",
   "id": "646cd730",
   "metadata": {},
   "source": [
    "### Slope we find from this graph is\n"
   ]
  },
  {
   "cell_type": "code",
   "execution_count": 37,
   "id": "642b7b4e",
   "metadata": {},
   "outputs": [
    {
     "data": {
      "text/plain": [
       "-6523506.084589064"
      ]
     },
     "execution_count": 37,
     "metadata": {},
     "output_type": "execute_result"
    }
   ],
   "source": [
    "m = parameter[0][0]\n",
    "m"
   ]
  },
  {
   "cell_type": "markdown",
   "id": "1d97c554",
   "metadata": {},
   "source": [
    "### Permeability (k):"
   ]
  },
  {
   "cell_type": "markdown",
   "id": "477f4e11",
   "metadata": {},
   "source": [
    "*We can calculate Permeability using slope m.*"
   ]
  },
  {
   "cell_type": "markdown",
   "id": "025fc11a",
   "metadata": {},
   "source": [
    "### $ m = 1637Q_gB_gT/kh $"
   ]
  },
  {
   "cell_type": "code",
   "execution_count": 38,
   "id": "8dd4cf13",
   "metadata": {},
   "outputs": [],
   "source": [
    "B_g = 0.962 #bbl/Mscf"
   ]
  },
  {
   "cell_type": "code",
   "execution_count": 39,
   "id": "d4373bbd",
   "metadata": {},
   "outputs": [],
   "source": [
    "Bg = B_g*5.6/1000  # ft^3/SCf"
   ]
  },
  {
   "cell_type": "code",
   "execution_count": 40,
   "id": "175e4e35",
   "metadata": {},
   "outputs": [
    {
     "data": {
      "text/plain": [
       "0.005387199999999999"
      ]
     },
     "execution_count": 40,
     "metadata": {},
     "output_type": "execute_result"
    }
   ],
   "source": [
    "Bg"
   ]
  },
  {
   "cell_type": "code",
   "execution_count": 41,
   "id": "27b1bef1",
   "metadata": {},
   "outputs": [
    {
     "data": {
      "text/plain": [
       "-15020927.864430735"
      ]
     },
     "execution_count": 41,
     "metadata": {},
     "output_type": "execute_result"
    }
   ],
   "source": [
    "m_cycle=m*np.log(10)\n",
    "m_cycle"
   ]
  },
  {
   "cell_type": "code",
   "execution_count": 42,
   "id": "e15d3fe2",
   "metadata": {},
   "outputs": [],
   "source": [
    "k = 1637*q_g*1000*Bg*T/(abs(m_cycle)*h)"
   ]
  },
  {
   "cell_type": "code",
   "execution_count": 43,
   "id": "92b20ac1",
   "metadata": {},
   "outputs": [
    {
     "data": {
      "text/plain": [
       "70.53299365752275"
      ]
     },
     "execution_count": 43,
     "metadata": {},
     "output_type": "execute_result"
    }
   ],
   "source": [
    "k"
   ]
  },
  {
   "cell_type": "code",
   "execution_count": 44,
   "id": "de911b59",
   "metadata": {},
   "outputs": [
    {
     "name": "stdout",
     "output_type": "stream",
     "text": [
      "Permeability = 70.53299365752275 mD\n"
     ]
    }
   ],
   "source": [
    "print('Permeability =',k,'mD')"
   ]
  },
  {
   "cell_type": "markdown",
   "id": "22989be9",
   "metadata": {},
   "source": [
    "### Skin Factor (S'):"
   ]
  },
  {
   "cell_type": "markdown",
   "id": "209638b8",
   "metadata": {},
   "source": [
    "$ S' = 1.151[{(m(P_1hr)-m(P_wf))/|m|} - log(k/phi u_i C_t r_w^2) + 3.23] $"
   ]
  },
  {
   "cell_type": "code",
   "execution_count": 45,
   "id": "fb57227d",
   "metadata": {},
   "outputs": [
    {
     "data": {
      "text/plain": [
       "2001.0"
      ]
     },
     "execution_count": 45,
     "metadata": {},
     "output_type": "execute_result"
    }
   ],
   "source": [
    "t1 = 1 #hr\n",
    "\n",
    "t_horner = (tp + t1 )/t1\n",
    "\n",
    "t_horner"
   ]
  },
  {
   "cell_type": "code",
   "execution_count": 46,
   "id": "f7e478e7",
   "metadata": {},
   "outputs": [],
   "source": [
    "m_P_1hr = m1*np.log(t_horner) + c1"
   ]
  },
  {
   "cell_type": "code",
   "execution_count": 47,
   "id": "007cce59",
   "metadata": {},
   "outputs": [
    {
     "data": {
      "text/plain": [
       "396817286.45897883"
      ]
     },
     "execution_count": 47,
     "metadata": {},
     "output_type": "execute_result"
    }
   ],
   "source": [
    "m_P_1hr"
   ]
  },
  {
   "cell_type": "code",
   "execution_count": 48,
   "id": "64f1bd65",
   "metadata": {},
   "outputs": [],
   "source": [
    "S = 1.151*(((m_P_1hr-Press['m(P)'][0])/abs(m_cycle)) - np.log(k/(phi*u_g*c_t*r_w**2)) + 3.23)"
   ]
  },
  {
   "cell_type": "code",
   "execution_count": 49,
   "id": "29393176",
   "metadata": {},
   "outputs": [
    {
     "data": {
      "text/plain": [
       "-15.708957066537048"
      ]
     },
     "execution_count": 49,
     "metadata": {},
     "output_type": "execute_result"
    }
   ],
   "source": [
    "S"
   ]
  },
  {
   "cell_type": "code",
   "execution_count": 50,
   "id": "5c30c7eb",
   "metadata": {},
   "outputs": [
    {
     "name": "stdout",
     "output_type": "stream",
     "text": [
      "Combine Skin Factor for Gas Well is = -15.708957066537048\n"
     ]
    }
   ],
   "source": [
    "print('Combine Skin Factor for Gas Well is =',S)"
   ]
  },
  {
   "cell_type": "markdown",
   "id": "cc6a255e",
   "metadata": {},
   "source": [
    "**Results of this Well-Test:**"
   ]
  },
  {
   "cell_type": "markdown",
   "id": "1e66dfdf",
   "metadata": {},
   "source": [
    "**Permeability = 70.53299365752275 mD**\n",
    "\n",
    "**Combine Skin Factor for Gas Well is = -15.708957066537048**"
   ]
  }
 ],
 "metadata": {
  "kernelspec": {
   "display_name": "Python 3 (ipykernel)",
   "language": "python",
   "name": "python3"
  },
  "language_info": {
   "codemirror_mode": {
    "name": "ipython",
    "version": 3
   },
   "file_extension": ".py",
   "mimetype": "text/x-python",
   "name": "python",
   "nbconvert_exporter": "python",
   "pygments_lexer": "ipython3",
   "version": "3.9.7"
  }
 },
 "nbformat": 4,
 "nbformat_minor": 5
}
