{
 "cells": [
  {
   "cell_type": "code",
   "execution_count": 1,
   "id": "28382365",
   "metadata": {},
   "outputs": [],
   "source": [
    "import pandas as pd"
   ]
  },
  {
   "cell_type": "code",
   "execution_count": 2,
   "id": "1df4cf06",
   "metadata": {},
   "outputs": [],
   "source": [
    "import numpy as np"
   ]
  },
  {
   "cell_type": "code",
   "execution_count": 3,
   "id": "5533fdd8",
   "metadata": {},
   "outputs": [],
   "source": [
    "porosities = np.array([0.25,0.31,0.10])\n"
   ]
  },
  {
   "cell_type": "code",
   "execution_count": 4,
   "id": "6748de5a",
   "metadata": {},
   "outputs": [
    {
     "data": {
      "text/plain": [
       "array([0.25, 0.31, 0.1 ])"
      ]
     },
     "execution_count": 4,
     "metadata": {},
     "output_type": "execute_result"
    }
   ],
   "source": [
    "porosities"
   ]
  },
  {
   "cell_type": "code",
   "execution_count": 5,
   "id": "f7fd6335",
   "metadata": {},
   "outputs": [],
   "source": [
    "poro_series = pd.Series(data = porosities,index=['A','B','c'], dtype = float)"
   ]
  },
  {
   "cell_type": "code",
   "execution_count": 6,
   "id": "f24322b4",
   "metadata": {},
   "outputs": [
    {
     "data": {
      "text/plain": [
       "A    0.25\n",
       "B    0.31\n",
       "c    0.10\n",
       "dtype: float64"
      ]
     },
     "execution_count": 6,
     "metadata": {},
     "output_type": "execute_result"
    }
   ],
   "source": [
    "poro_series"
   ]
  },
  {
   "cell_type": "code",
   "execution_count": 7,
   "id": "19403982",
   "metadata": {},
   "outputs": [],
   "source": [
    "poro_series = pd.Series(data = porosities,index=['A','B','c'], dtype = float, name='MySeries')"
   ]
  },
  {
   "cell_type": "code",
   "execution_count": 8,
   "id": "9c36e74b",
   "metadata": {},
   "outputs": [
    {
     "data": {
      "text/plain": [
       "A    0.25\n",
       "B    0.31\n",
       "c    0.10\n",
       "Name: MySeries, dtype: float64"
      ]
     },
     "execution_count": 8,
     "metadata": {},
     "output_type": "execute_result"
    }
   ],
   "source": [
    "poro_series"
   ]
  },
  {
   "cell_type": "code",
   "execution_count": 9,
   "id": "b34e2c3a",
   "metadata": {},
   "outputs": [],
   "source": [
    "depth_vice_poro_series = pd.Series(np.array([0.31,0.27,0.25]), index=[1000,1500,2000], name = 'phi_vs_depth')"
   ]
  },
  {
   "cell_type": "code",
   "execution_count": 10,
   "id": "972c71d6",
   "metadata": {},
   "outputs": [
    {
     "data": {
      "text/plain": [
       "1000    0.31\n",
       "1500    0.27\n",
       "2000    0.25\n",
       "Name: phi_vs_depth, dtype: float64"
      ]
     },
     "execution_count": 10,
     "metadata": {},
     "output_type": "execute_result"
    }
   ],
   "source": [
    "depth_vice_poro_series"
   ]
  },
  {
   "cell_type": "code",
   "execution_count": null,
   "id": "8853a302",
   "metadata": {},
   "outputs": [],
   "source": [
    "depth_vice_poro_series.plot()"
   ]
  },
  {
   "cell_type": "markdown",
   "id": "9b5d25fe",
   "metadata": {},
   "source": [
    "# Creating series using a Dictionary"
   ]
  },
  {
   "cell_type": "code",
   "execution_count": null,
   "id": "1d54c67b",
   "metadata": {},
   "outputs": [],
   "source": [
    "my_fields_perms = {'rockA':120, 'rockB':100, 'rockC':80}"
   ]
  },
  {
   "cell_type": "code",
   "execution_count": null,
   "id": "45b6af93",
   "metadata": {},
   "outputs": [],
   "source": [
    "type(my_fields_perms)"
   ]
  },
  {
   "cell_type": "code",
   "execution_count": null,
   "id": "ed54bf68",
   "metadata": {},
   "outputs": [],
   "source": [
    "pd.Series(data=my_fields_perms, name='Dict_to_Series')"
   ]
  },
  {
   "cell_type": "code",
   "execution_count": null,
   "id": "3473ec58",
   "metadata": {},
   "outputs": [],
   "source": [
    "pd.Series(data=my_fields_perms, name='Dict_to_Series').plot(kind='bar')"
   ]
  },
  {
   "cell_type": "code",
   "execution_count": null,
   "id": "9637666b",
   "metadata": {},
   "outputs": [],
   "source": []
  },
  {
   "cell_type": "code",
   "execution_count": null,
   "id": "addb05fc",
   "metadata": {},
   "outputs": [],
   "source": []
  },
  {
   "cell_type": "markdown",
   "id": "7dfdd10d",
   "metadata": {},
   "source": [
    "# Pandas DataFrames"
   ]
  },
  {
   "cell_type": "code",
   "execution_count": null,
   "id": "ed18bdda",
   "metadata": {},
   "outputs": [],
   "source": [
    "common_depth_index = [1000,1500,2000]\n",
    "\n",
    "poro_series_1 = pd.Series(data=np.array([0.35, 0.31, 0.27]), index = common_depth_index)\n",
    "\n",
    "poro_series_2 = pd.Series(data=np.array([0.32, 0.30, 0.23]), index = common_depth_index)\n"
   ]
  },
  {
   "cell_type": "code",
   "execution_count": null,
   "id": "2e502676",
   "metadata": {},
   "outputs": [],
   "source": [
    "pd.DataFrame([poro_series_1, poro_series_2])"
   ]
  },
  {
   "cell_type": "code",
   "execution_count": null,
   "id": "97a5e776",
   "metadata": {},
   "outputs": [],
   "source": []
  },
  {
   "cell_type": "markdown",
   "id": "b860d59c",
   "metadata": {},
   "source": [
    "# Using a 2D np array + Row+Column Lable to make a DataFrame"
   ]
  },
  {
   "cell_type": "code",
   "execution_count": null,
   "id": "66464415",
   "metadata": {},
   "outputs": [],
   "source": [
    "np.random.seed(5)\n",
    "my_perms = np.random.randint(low=10,high=500, size=9).reshape(3,3)\n",
    "\n",
    "\n",
    "my_perms"
   ]
  },
  {
   "cell_type": "code",
   "execution_count": null,
   "id": "1e6a8cd3",
   "metadata": {},
   "outputs": [],
   "source": [
    "pd.DataFrame(my_perms)"
   ]
  },
  {
   "cell_type": "code",
   "execution_count": null,
   "id": "929ff1d6",
   "metadata": {},
   "outputs": [],
   "source": [
    "pd.DataFrame(my_perms, columns = ['c1','c2','c3'])"
   ]
  },
  {
   "cell_type": "code",
   "execution_count": null,
   "id": "81cf56e9",
   "metadata": {},
   "outputs": [],
   "source": [
    "pd.DataFrame(my_perms, columns = ['k1','k2','k3'], index = common_depth_index)"
   ]
  },
  {
   "cell_type": "markdown",
   "id": "ba9142b8",
   "metadata": {},
   "source": [
    "# Creating a DF using a Dictionary"
   ]
  },
  {
   "cell_type": "code",
   "execution_count": null,
   "id": "7c7a881c",
   "metadata": {},
   "outputs": [],
   "source": [
    "my_fields_data = {'depth':[1000,1500,2000], 'poro(%)':[35,30,25], 'perm(mD)':[500,450,150]}"
   ]
  },
  {
   "cell_type": "code",
   "execution_count": null,
   "id": "07f1bc0d",
   "metadata": {},
   "outputs": [],
   "source": [
    "my_fields_data"
   ]
  },
  {
   "cell_type": "code",
   "execution_count": null,
   "id": "14333353",
   "metadata": {},
   "outputs": [],
   "source": [
    "pd.DataFrame(my_fields_data)"
   ]
  },
  {
   "cell_type": "code",
   "execution_count": null,
   "id": "2a317173",
   "metadata": {},
   "outputs": [],
   "source": [
    "df_field = pd.DataFrame(my_fields_data, common_depth_index)\n",
    "\n",
    "df_field"
   ]
  },
  {
   "cell_type": "code",
   "execution_count": null,
   "id": "c38d5677",
   "metadata": {},
   "outputs": [],
   "source": [
    "pd.DataFrame(my_fields_data, common_depth_index).plot()"
   ]
  },
  {
   "cell_type": "code",
   "execution_count": null,
   "id": "ee196ca7",
   "metadata": {},
   "outputs": [],
   "source": [
    "pd.DataFrame(my_fields_data, common_depth_index).plot(subplots=True, figsize = (12,6))"
   ]
  },
  {
   "cell_type": "code",
   "execution_count": null,
   "id": "3647da17",
   "metadata": {},
   "outputs": [],
   "source": [
    "df_field.describe()"
   ]
  },
  {
   "cell_type": "markdown",
   "id": "198897b8",
   "metadata": {},
   "source": [
    "# Accessing Columns and Rows"
   ]
  },
  {
   "cell_type": "code",
   "execution_count": null,
   "id": "6e039a2c",
   "metadata": {},
   "outputs": [],
   "source": [
    "df_field"
   ]
  },
  {
   "cell_type": "code",
   "execution_count": null,
   "id": "22aa6872",
   "metadata": {},
   "outputs": [],
   "source": [
    "df_field['poro(%)']"
   ]
  },
  {
   "cell_type": "code",
   "execution_count": null,
   "id": "a980f6a7",
   "metadata": {},
   "outputs": [],
   "source": [
    "type(df_field['poro(%)'])"
   ]
  },
  {
   "cell_type": "code",
   "execution_count": null,
   "id": "5df72adf",
   "metadata": {
    "scrolled": false
   },
   "outputs": [],
   "source": [
    "df_field['perm(mD)'].plot(figsize = (8,2))"
   ]
  },
  {
   "cell_type": "code",
   "execution_count": null,
   "id": "e26a90f2",
   "metadata": {},
   "outputs": [],
   "source": [
    "df_field[['poro(%)','perm(mD)']]"
   ]
  },
  {
   "cell_type": "code",
   "execution_count": null,
   "id": "71254047",
   "metadata": {},
   "outputs": [],
   "source": [
    "df_field[['poro(%)','perm(mD)']].plot()"
   ]
  },
  {
   "cell_type": "markdown",
   "id": "32bba216",
   "metadata": {},
   "source": [
    "# Accessing Rows"
   ]
  },
  {
   "cell_type": "code",
   "execution_count": null,
   "id": "a7cfe373",
   "metadata": {},
   "outputs": [],
   "source": [
    "my_perms"
   ]
  },
  {
   "cell_type": "code",
   "execution_count": null,
   "id": "87852570",
   "metadata": {},
   "outputs": [],
   "source": [
    "my_perms[2,2]"
   ]
  },
  {
   "cell_type": "code",
   "execution_count": null,
   "id": "e7bba43c",
   "metadata": {},
   "outputs": [],
   "source": [
    "df_field"
   ]
  },
  {
   "cell_type": "code",
   "execution_count": null,
   "id": "363b46ac",
   "metadata": {},
   "outputs": [],
   "source": [
    "df_field.loc[1500:2000,'poro(%)':'perm(mD)']"
   ]
  },
  {
   "cell_type": "code",
   "execution_count": null,
   "id": "9250ca31",
   "metadata": {},
   "outputs": [],
   "source": [
    "df_field.loc[2000:2000,'depth':'perm(mD)']"
   ]
  },
  {
   "cell_type": "code",
   "execution_count": null,
   "id": "45bd0186",
   "metadata": {},
   "outputs": [],
   "source": [
    "df_field.loc[2000:2000,:]"
   ]
  },
  {
   "cell_type": "code",
   "execution_count": null,
   "id": "41ecc9c6",
   "metadata": {},
   "outputs": [],
   "source": [
    "df_field.loc[2000,:]"
   ]
  },
  {
   "cell_type": "markdown",
   "id": "9e2c7e03",
   "metadata": {},
   "source": [
    "# loc = start and end are included"
   ]
  },
  {
   "cell_type": "markdown",
   "id": "06cf22e2",
   "metadata": {},
   "source": [
    "# iloc -- end is excluded"
   ]
  },
  {
   "cell_type": "code",
   "execution_count": null,
   "id": "68c3b522",
   "metadata": {},
   "outputs": [],
   "source": [
    "df_field"
   ]
  },
  {
   "cell_type": "code",
   "execution_count": null,
   "id": "b5f1b909",
   "metadata": {},
   "outputs": [],
   "source": [
    "df_field.iloc[0,1]"
   ]
  },
  {
   "cell_type": "code",
   "execution_count": null,
   "id": "3a00d6fb",
   "metadata": {},
   "outputs": [],
   "source": [
    "df_field.iloc[0:1,:]"
   ]
  },
  {
   "cell_type": "code",
   "execution_count": null,
   "id": "d3e1e809",
   "metadata": {},
   "outputs": [],
   "source": [
    "df_field.iloc[1:,1:]"
   ]
  },
  {
   "cell_type": "markdown",
   "id": "93d8b5ca",
   "metadata": {},
   "source": [
    "# creating new columns"
   ]
  },
  {
   "cell_type": "code",
   "execution_count": null,
   "id": "d3a804c7",
   "metadata": {},
   "outputs": [],
   "source": [
    "df_field"
   ]
  },
  {
   "cell_type": "code",
   "execution_count": null,
   "id": "19cf56ee",
   "metadata": {},
   "outputs": [],
   "source": [
    "df_field['PoroPermProduct'] = (0.01*df_field['poro(%)'])*df_field['perm(mD)']"
   ]
  },
  {
   "cell_type": "code",
   "execution_count": null,
   "id": "4dfbb26a",
   "metadata": {},
   "outputs": [],
   "source": [
    "df_field['PoroPermProduct']"
   ]
  },
  {
   "cell_type": "code",
   "execution_count": null,
   "id": "45136adc",
   "metadata": {},
   "outputs": [],
   "source": [
    "df_field"
   ]
  },
  {
   "cell_type": "code",
   "execution_count": null,
   "id": "6cd47e31",
   "metadata": {},
   "outputs": [],
   "source": [
    "geothermal_grad = 0.13\n",
    "\n",
    "df_field['Temp(C)'] = df_field['depth']*geothermal_grad\n"
   ]
  },
  {
   "cell_type": "code",
   "execution_count": null,
   "id": "61892651",
   "metadata": {},
   "outputs": [],
   "source": [
    "df_field"
   ]
  },
  {
   "cell_type": "code",
   "execution_count": null,
   "id": "fd9e25ec",
   "metadata": {},
   "outputs": [],
   "source": [
    "df_field['Rubbish'] = df_field['depth']*-1000"
   ]
  },
  {
   "cell_type": "code",
   "execution_count": null,
   "id": "59e72a0b",
   "metadata": {},
   "outputs": [],
   "source": [
    "df_field"
   ]
  },
  {
   "cell_type": "markdown",
   "id": "1af74ca4",
   "metadata": {},
   "source": [
    "# how to drop a column"
   ]
  },
  {
   "cell_type": "code",
   "execution_count": null,
   "id": "0e00b819",
   "metadata": {},
   "outputs": [],
   "source": [
    "df_field.drop('Rubbish', axis='columns', inplace=True)"
   ]
  },
  {
   "cell_type": "code",
   "execution_count": null,
   "id": "c4eba85d",
   "metadata": {},
   "outputs": [],
   "source": [
    "df_field"
   ]
  },
  {
   "cell_type": "markdown",
   "id": "cc612260",
   "metadata": {},
   "source": [
    "## Conditional Selection"
   ]
  },
  {
   "cell_type": "code",
   "execution_count": null,
   "id": "c5f44d28",
   "metadata": {
    "scrolled": true
   },
   "outputs": [],
   "source": [
    "df_field"
   ]
  },
  {
   "cell_type": "code",
   "execution_count": null,
   "id": "0c226299",
   "metadata": {},
   "outputs": [],
   "source": [
    "df_field[df_field['poro(%)']>=30]"
   ]
  },
  {
   "cell_type": "code",
   "execution_count": null,
   "id": "51f3b2fb",
   "metadata": {},
   "outputs": [],
   "source": [
    "poro_threshold = float(input('Enter Poro(%) Threshold: '))\n",
    "\n",
    "df_field[df_field['poro(%)'] >= poro_threshold]"
   ]
  },
  {
   "cell_type": "code",
   "execution_count": null,
   "id": "5b33b0fe",
   "metadata": {},
   "outputs": [],
   "source": [
    "poro_threshhold = float(input('Enter Poro(%) Threshold: '))\n",
    "perm_threshhold = float(input('Enter Perm(mD) Threshold: '))\n",
    "\n",
    "df_field[(df_field['poro(%)'] >= poro_threshhold)  & (df_field['perm(mD)'] >= perm_threshhold)]"
   ]
  },
  {
   "cell_type": "markdown",
   "id": "1185a474",
   "metadata": {},
   "source": [
    "# Input & Output"
   ]
  },
  {
   "cell_type": "code",
   "execution_count": null,
   "id": "5d6bc8fe",
   "metadata": {},
   "outputs": [],
   "source": [
    "df_field.to_csv('PoroPermData_1405.csv')"
   ]
  },
  {
   "cell_type": "code",
   "execution_count": null,
   "id": "4ec25f3d",
   "metadata": {},
   "outputs": [],
   "source": [
    "pd.read_csv('PoroPermData_1405.csv', index_col=0)"
   ]
  },
  {
   "cell_type": "code",
   "execution_count": null,
   "id": "12fd300e",
   "metadata": {},
   "outputs": [],
   "source": [
    "import pandas as pd"
   ]
  },
  {
   "cell_type": "code",
   "execution_count": null,
   "id": "2d9ff50a",
   "metadata": {},
   "outputs": [],
   "source": [
    "import numpy as np"
   ]
  },
  {
   "cell_type": "markdown",
   "id": "c7f5d88b",
   "metadata": {},
   "source": [
    "##   1) GroupBy\n",
    "##   2) Joining Tables / Merging Tables"
   ]
  },
  {
   "cell_type": "code",
   "execution_count": null,
   "id": "e1c82471",
   "metadata": {},
   "outputs": [],
   "source": [
    "df_lith_poro_perm = {'LITH':['SST', 'SST', 'LST', 'LST', 'SST', 'LST'], \n",
    "                    'PORO(%)': [31, 22, 10, 9, 24, 11]}\n",
    "\n",
    "df_lith_poro_perm = pd.DataFrame(df_lith_poro_perm)\n",
    "\n",
    "df_lith_poro_perm"
   ]
  },
  {
   "cell_type": "markdown",
   "id": "ed737a57",
   "metadata": {},
   "source": [
    "LITH - Catagarical Data\n",
    "\n",
    "PORO - Numeric/Continuous Data"
   ]
  },
  {
   "cell_type": "code",
   "execution_count": null,
   "id": "f4dc8d87",
   "metadata": {},
   "outputs": [],
   "source": [
    "# how to find average porosity for SST or LST"
   ]
  },
  {
   "cell_type": "markdown",
   "id": "3bedf99e",
   "metadata": {},
   "source": [
    "## Assume that $ K = 0.15*phi^2 $"
   ]
  },
  {
   "cell_type": "code",
   "execution_count": null,
   "id": "f6a0140a",
   "metadata": {},
   "outputs": [],
   "source": [
    "df_lith_poro_perm['Perm(mD)'] = 0.15*(df_lith_poro_perm['PORO(%)']**2)"
   ]
  },
  {
   "cell_type": "code",
   "execution_count": null,
   "id": "66132ee3",
   "metadata": {},
   "outputs": [],
   "source": [
    "df_lith_poro_perm"
   ]
  },
  {
   "cell_type": "markdown",
   "id": "2967fe8f",
   "metadata": {},
   "source": [
    "#### I want to calculate average poro and perm for all the lithology that exist in my dataset"
   ]
  },
  {
   "cell_type": "code",
   "execution_count": null,
   "id": "2fd93b74",
   "metadata": {},
   "outputs": [],
   "source": [
    "df_lith_poro_perm['LITH'].unique()"
   ]
  },
  {
   "cell_type": "code",
   "execution_count": null,
   "id": "7328a87f",
   "metadata": {},
   "outputs": [],
   "source": [
    "df_lith_poro_perm['LITH'].nunique()"
   ]
  },
  {
   "cell_type": "markdown",
   "id": "fb27c017",
   "metadata": {},
   "source": [
    "## Lets implement groupby"
   ]
  },
  {
   "cell_type": "code",
   "execution_count": null,
   "id": "e09a5c2a",
   "metadata": {},
   "outputs": [],
   "source": []
  },
  {
   "cell_type": "code",
   "execution_count": null,
   "id": "aaa8fb04",
   "metadata": {},
   "outputs": [],
   "source": [
    "df_lith_poro_perm.groupby(by='LITH').agg(np.mean)[['PORO(%)']]"
   ]
  },
  {
   "cell_type": "code",
   "execution_count": null,
   "id": "69168dc1",
   "metadata": {},
   "outputs": [],
   "source": [
    "df_lith_poro_perm.groupby(by = 'LITH').agg(np.mean)[['Perm(mD)']]"
   ]
  },
  {
   "cell_type": "code",
   "execution_count": null,
   "id": "5cea91b2",
   "metadata": {},
   "outputs": [],
   "source": [
    "df_lith_poro_perm.groupby(by = 'LITH').agg(np.mean)[['PORO(%)','Perm(mD)']]"
   ]
  },
  {
   "cell_type": "code",
   "execution_count": null,
   "id": "debc4b2c",
   "metadata": {},
   "outputs": [],
   "source": [
    "df_lith_poro_perm['LITH'].value_counts()"
   ]
  },
  {
   "cell_type": "code",
   "execution_count": null,
   "id": "ebed5856",
   "metadata": {},
   "outputs": [],
   "source": [
    "df_lith_poro_perm.groupby('LITH').agg(np.mean)[['PORO(%)','Perm(mD)']]"
   ]
  },
  {
   "cell_type": "code",
   "execution_count": null,
   "id": "805c7407",
   "metadata": {},
   "outputs": [],
   "source": [
    "df_lith_poro_perm[df_lith_poro_perm['LITH'] == 'SST']"
   ]
  },
  {
   "cell_type": "code",
   "execution_count": null,
   "id": "8b011049",
   "metadata": {},
   "outputs": [],
   "source": [
    "df_lith_poro_perm[df_lith_poro_perm['LITH'] == 'SST'].groupby('LITH').agg(np.mean)[['PORO(%)','Perm(mD)']]"
   ]
  },
  {
   "cell_type": "code",
   "execution_count": null,
   "id": "0f4af000",
   "metadata": {
    "scrolled": false
   },
   "outputs": [],
   "source": [
    "df_lith_poro_perm['LITH'] == 'SST'"
   ]
  },
  {
   "cell_type": "markdown",
   "id": "f88d5db8",
   "metadata": {},
   "source": [
    "## Joining/Marging Tables"
   ]
  },
  {
   "cell_type": "code",
   "execution_count": null,
   "id": "a75d6df1",
   "metadata": {},
   "outputs": [],
   "source": [
    "df1 = pd.DataFrame({'Names':['A', 'B', 'C'], 'Math_Marks':[60, 70, 90]})\n",
    "df2 = pd.DataFrame({'Names':['B', 'C', 'D', 'E'], 'Science_Marks':[80,95,20,60]})\n",
    "df1"
   ]
  },
  {
   "cell_type": "code",
   "execution_count": null,
   "id": "faa28334",
   "metadata": {},
   "outputs": [],
   "source": [
    "df2"
   ]
  },
  {
   "cell_type": "code",
   "execution_count": null,
   "id": "d9a0c3d7",
   "metadata": {},
   "outputs": [],
   "source": [
    "base_table = df1\n",
    "\n",
    "additional_details_table = df2\n",
    "\n",
    "\n",
    "joined_table = base_table.merge(right = additional_details_table, on = 'Names', how = 'left')"
   ]
  },
  {
   "cell_type": "code",
   "execution_count": null,
   "id": "af8f3705",
   "metadata": {},
   "outputs": [],
   "source": [
    "joined_table"
   ]
  },
  {
   "cell_type": "code",
   "execution_count": null,
   "id": "ba1d61b7",
   "metadata": {},
   "outputs": [],
   "source": [
    "joined_table = additional_details_table.merge(right = base_table, on = 'Names', how = 'left')"
   ]
  },
  {
   "cell_type": "code",
   "execution_count": null,
   "id": "a31eeac2",
   "metadata": {},
   "outputs": [],
   "source": [
    "joined_table"
   ]
  },
  {
   "cell_type": "code",
   "execution_count": null,
   "id": "02ab495a",
   "metadata": {},
   "outputs": [],
   "source": [
    "base_table.merge(right = additional_details_table, on = 'Names', how = 'inner')"
   ]
  },
  {
   "cell_type": "code",
   "execution_count": null,
   "id": "918cf9fb",
   "metadata": {},
   "outputs": [],
   "source": [
    "base_table.merge(right = additional_details_table, on = 'Names', how = 'outer')"
   ]
  },
  {
   "cell_type": "markdown",
   "id": "94ce5d6c",
   "metadata": {},
   "source": [
    "# Visualization using Python"
   ]
  },
  {
   "cell_type": "markdown",
   "id": "f5bd2ce9",
   "metadata": {},
   "source": [
    "## **01. Matplotlib**"
   ]
  },
  {
   "cell_type": "code",
   "execution_count": null,
   "id": "9f8cc8d3",
   "metadata": {},
   "outputs": [],
   "source": [
    "import matplotlib.pyplot as plt\n",
    "import seaborn as sns"
   ]
  },
  {
   "cell_type": "code",
   "execution_count": null,
   "id": "eb54c8f0",
   "metadata": {},
   "outputs": [],
   "source": [
    "# Exercise 1 : Rel Perm Plots in Python"
   ]
  },
  {
   "cell_type": "code",
   "execution_count": null,
   "id": "f90a0bcb",
   "metadata": {},
   "outputs": [],
   "source": [
    "sw = np.linspace(0,1,100)"
   ]
  },
  {
   "cell_type": "code",
   "execution_count": null,
   "id": "017ae23b",
   "metadata": {},
   "outputs": [],
   "source": [
    "Krw = sw**3\n",
    "Kro = (1-sw)**3"
   ]
  },
  {
   "cell_type": "code",
   "execution_count": null,
   "id": "b6cfdb69",
   "metadata": {},
   "outputs": [],
   "source": [
    "# step-1 Krw vs Sw plot"
   ]
  },
  {
   "cell_type": "code",
   "execution_count": null,
   "id": "7cbc4448",
   "metadata": {},
   "outputs": [],
   "source": [
    "plt.plot(sw, Krw);"
   ]
  },
  {
   "cell_type": "code",
   "execution_count": null,
   "id": "1e6a9a9b",
   "metadata": {},
   "outputs": [],
   "source": [
    "plt.plot(sw,Kro)"
   ]
  },
  {
   "cell_type": "code",
   "execution_count": null,
   "id": "6a0bf69c",
   "metadata": {},
   "outputs": [],
   "source": [
    "plt.plot(sw, Krw);\n",
    "plt.plot(sw,Kro);"
   ]
  },
  {
   "cell_type": "code",
   "execution_count": null,
   "id": "9f419b98",
   "metadata": {},
   "outputs": [],
   "source": [
    "plt.plot(sw, Krw);\n",
    "plt.plot(sw,Kro);\n",
    "\n",
    "plt.xlabel('sw(fraction)');"
   ]
  },
  {
   "cell_type": "code",
   "execution_count": null,
   "id": "78b8deb7",
   "metadata": {},
   "outputs": [],
   "source": [
    "plt.plot(sw, Krw);\n",
    "plt.plot(sw,Kro);\n",
    "\n",
    "plt.xlabel('sw(fraction)');\n",
    "plt.ylabel('Real Perm (fraction)');"
   ]
  },
  {
   "cell_type": "code",
   "execution_count": null,
   "id": "9bbfb721",
   "metadata": {},
   "outputs": [],
   "source": [
    "plt.plot(sw, Krw);\n",
    "plt.plot(sw,Kro);\n",
    "\n",
    "plt.xlabel('sw(fraction)');\n",
    "plt.ylabel('Real Perm (fraction)');\n",
    "\n",
    "plt.grid();"
   ]
  },
  {
   "cell_type": "code",
   "execution_count": null,
   "id": "70406474",
   "metadata": {
    "scrolled": true
   },
   "outputs": [],
   "source": [
    "plt.plot(sw, Krw, label = 'Krw (Water Rel Perm)');\n",
    "plt.plot(sw,Kro, label = 'Kro (Oil Rel Perm)');\n",
    "\n",
    "plt.xlabel('sw(fraction)');\n",
    "plt.ylabel('Real Perm (fraction)');\n",
    "\n",
    "plt.grid();\n",
    "plt.legend();"
   ]
  },
  {
   "cell_type": "code",
   "execution_count": null,
   "id": "e082a6f6",
   "metadata": {},
   "outputs": [],
   "source": [
    "plt.figure(figsize = (8,6))\n",
    "\n",
    "plt.plot(sw, Krw, label = 'Krw (Water Rel Perm)');\n",
    "plt.plot(sw,Kro, label = 'Kro (Oil Rel Perm)');\n",
    "\n",
    "plt.xlabel('sw(fraction)');\n",
    "plt.ylabel('Real Perm (fraction)');\n",
    "\n",
    "plt.grid();\n",
    "plt.legend();"
   ]
  },
  {
   "cell_type": "code",
   "execution_count": null,
   "id": "3bb3589f",
   "metadata": {},
   "outputs": [],
   "source": [
    "plt.figure(figsize = (8,6))\n",
    "\n",
    "plt.plot(sw, Krw, label = 'Krw (Water Rel Perm)',color = 'darkblue');\n",
    "plt.plot(sw,Kro, label = 'Kro (Oil Rel Perm)', color = 'brown');\n",
    "\n",
    "plt.xlabel('sw(fraction)');\n",
    "plt.ylabel('Real Perm (fraction)');\n",
    "\n",
    "plt.grid();\n",
    "plt.legend();"
   ]
  },
  {
   "cell_type": "code",
   "execution_count": null,
   "id": "3c84173e",
   "metadata": {},
   "outputs": [],
   "source": [
    "plt.figure(figsize = (8,6))\n",
    "\n",
    "plt.plot(sw, Krw, label = 'Krw (Water Rel Perm)',color = 'darkblue',lw = 3);\n",
    "plt.plot(sw,Kro, label = 'Kro (Oil Rel Perm)', color = 'brown', lw = 3);\n",
    "\n",
    "plt.xlabel('sw(fraction)');\n",
    "plt.ylabel('Real Perm (fraction)');\n",
    "\n",
    "plt.grid();\n",
    "plt.legend();"
   ]
  },
  {
   "cell_type": "code",
   "execution_count": null,
   "id": "40fc434f",
   "metadata": {},
   "outputs": [],
   "source": [
    "plt.figure(figsize = (8,6))\n",
    "\n",
    "plt.plot(sw, Krw, label = 'Krw (Water Rel Perm)',color = 'darkblue',lw = 3);\n",
    "plt.plot(sw,Kro, label = 'Kro (Oil Rel Perm)', color = 'brown', lw = 3);\n",
    "\n",
    "plt.xlabel('sw(fraction)');\n",
    "plt.ylabel('Real Perm (fraction)');\n",
    "\n",
    "plt.grid();\n",
    "plt.legend();\n",
    "plt.title('REL PERM PLOT')"
   ]
  },
  {
   "cell_type": "code",
   "execution_count": null,
   "id": "802a9adf",
   "metadata": {},
   "outputs": [],
   "source": [
    "plt.figure(figsize = (8,6))\n",
    "plt.style.use('Solarize_Light2')\n",
    "\n",
    "plt.plot(sw, Krw, label = 'Krw (Water Rel Perm)',color = 'darkblue',lw = 3);\n",
    "plt.plot(sw,Kro, label = 'Kro (Oil Rel Perm)', color = 'brown', lw = 3);\n",
    "\n",
    "plt.xlabel('sw(fraction)');\n",
    "plt.ylabel('Real Perm (fraction)');\n",
    "\n",
    "plt.grid();\n",
    "plt.legend();\n",
    "plt.title('REL PERM PLOT')"
   ]
  },
  {
   "cell_type": "code",
   "execution_count": null,
   "id": "3b51e59c",
   "metadata": {
    "scrolled": false
   },
   "outputs": [],
   "source": [
    "plt.style.available"
   ]
  },
  {
   "cell_type": "code",
   "execution_count": null,
   "id": "9d951fec",
   "metadata": {},
   "outputs": [],
   "source": []
  },
  {
   "cell_type": "code",
   "execution_count": null,
   "id": "ad5c6d2f",
   "metadata": {},
   "outputs": [],
   "source": []
  },
  {
   "cell_type": "code",
   "execution_count": null,
   "id": "e7a1a0a9",
   "metadata": {},
   "outputs": [],
   "source": []
  }
 ],
 "metadata": {
  "kernelspec": {
   "display_name": "Python 3 (ipykernel)",
   "language": "python",
   "name": "python3"
  },
  "language_info": {
   "codemirror_mode": {
    "name": "ipython",
    "version": 3
   },
   "file_extension": ".py",
   "mimetype": "text/x-python",
   "name": "python",
   "nbconvert_exporter": "python",
   "pygments_lexer": "ipython3",
   "version": "3.9.7"
  }
 },
 "nbformat": 4,
 "nbformat_minor": 5
}
