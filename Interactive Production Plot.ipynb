{
 "cells": [
  {
   "cell_type": "code",
   "execution_count": 1,
   "id": "d5d6eaee",
   "metadata": {},
   "outputs": [],
   "source": [
    "import pandas as pd\n",
    "import numpy as np\n",
    "import matplotlib.pyplot as plt\n",
    "import seaborn as sns"
   ]
  },
  {
   "cell_type": "code",
   "execution_count": 2,
   "id": "ba6989b7",
   "metadata": {},
   "outputs": [],
   "source": [
    "df = pd.read_csv('C:/Users/sahil/OneDrive/Desktop/EDVANTAGE/Notebook-R-Oil-and-Gas-master/Production_Data.csv')"
   ]
  },
  {
   "cell_type": "code",
   "execution_count": 3,
   "id": "4a027d58",
   "metadata": {},
   "outputs": [
    {
     "data": {
      "text/html": [
       "<div>\n",
       "<style scoped>\n",
       "    .dataframe tbody tr th:only-of-type {\n",
       "        vertical-align: middle;\n",
       "    }\n",
       "\n",
       "    .dataframe tbody tr th {\n",
       "        vertical-align: top;\n",
       "    }\n",
       "\n",
       "    .dataframe thead th {\n",
       "        text-align: right;\n",
       "    }\n",
       "</style>\n",
       "<table border=\"1\" class=\"dataframe\">\n",
       "  <thead>\n",
       "    <tr style=\"text-align: right;\">\n",
       "      <th></th>\n",
       "      <th>DATE</th>\n",
       "      <th>WELL</th>\n",
       "      <th>GAS(MMSCF)</th>\n",
       "      <th>WATER(STB)</th>\n",
       "      <th>OIL(STB)</th>\n",
       "      <th>MONTH</th>\n",
       "    </tr>\n",
       "  </thead>\n",
       "  <tbody>\n",
       "    <tr>\n",
       "      <th>0</th>\n",
       "      <td>1975/12</td>\n",
       "      <td>WELL-101</td>\n",
       "      <td>0.0859</td>\n",
       "      <td>0.0007</td>\n",
       "      <td>0.1359</td>\n",
       "      <td>1.0</td>\n",
       "    </tr>\n",
       "    <tr>\n",
       "      <th>1</th>\n",
       "      <td>1976/1</td>\n",
       "      <td>WELL-101</td>\n",
       "      <td>0.2225</td>\n",
       "      <td>0.0021</td>\n",
       "      <td>0.4188</td>\n",
       "      <td>2.0</td>\n",
       "    </tr>\n",
       "    <tr>\n",
       "      <th>2</th>\n",
       "      <td>1976/2</td>\n",
       "      <td>WELL-101</td>\n",
       "      <td>0.2137</td>\n",
       "      <td>0.0019</td>\n",
       "      <td>0.3618</td>\n",
       "      <td>3.0</td>\n",
       "    </tr>\n",
       "    <tr>\n",
       "      <th>3</th>\n",
       "      <td>1976/3</td>\n",
       "      <td>WELL-101</td>\n",
       "      <td>0.2119</td>\n",
       "      <td>0.0019</td>\n",
       "      <td>0.3585</td>\n",
       "      <td>4.0</td>\n",
       "    </tr>\n",
       "    <tr>\n",
       "      <th>4</th>\n",
       "      <td>1976/4</td>\n",
       "      <td>WELL-101</td>\n",
       "      <td>0.2113</td>\n",
       "      <td>0.0019</td>\n",
       "      <td>0.3592</td>\n",
       "      <td>5.0</td>\n",
       "    </tr>\n",
       "  </tbody>\n",
       "</table>\n",
       "</div>"
      ],
      "text/plain": [
       "      DATE      WELL  GAS(MMSCF)  WATER(STB)  OIL(STB)  MONTH\n",
       "0  1975/12  WELL-101      0.0859      0.0007    0.1359    1.0\n",
       "1   1976/1  WELL-101      0.2225      0.0021    0.4188    2.0\n",
       "2   1976/2  WELL-101      0.2137      0.0019    0.3618    3.0\n",
       "3   1976/3  WELL-101      0.2119      0.0019    0.3585    4.0\n",
       "4   1976/4  WELL-101      0.2113      0.0019    0.3592    5.0"
      ]
     },
     "execution_count": 3,
     "metadata": {},
     "output_type": "execute_result"
    }
   ],
   "source": [
    "df.head()"
   ]
  },
  {
   "cell_type": "code",
   "execution_count": 6,
   "id": "b5822dc3",
   "metadata": {},
   "outputs": [],
   "source": [
    "well_name = df['WELL'].unique()"
   ]
  },
  {
   "cell_type": "code",
   "execution_count": 7,
   "id": "47e60913",
   "metadata": {},
   "outputs": [],
   "source": [
    "lenth = len(well_name)"
   ]
  },
  {
   "cell_type": "code",
   "execution_count": 15,
   "id": "2c25e213",
   "metadata": {},
   "outputs": [],
   "source": [
    "well = []\n",
    "\n",
    "for i in range(lenth):\n",
    "    well.append(df[df['WELL'] == well_name[i]])"
   ]
  },
  {
   "cell_type": "code",
   "execution_count": 21,
   "id": "d0caadb5",
   "metadata": {},
   "outputs": [
    {
     "data": {
      "text/plain": [
       "<matplotlib.collections.PathCollection at 0x2149f541520>"
      ]
     },
     "execution_count": 21,
     "metadata": {},
     "output_type": "execute_result"
    },
    {
     "data": {
      "image/png": "[encoded data removed]",
      "text/plain": [
       "<Figure size 432x288 with 1 Axes>"
      ]
     },
     "metadata": {
      "needs_background": "light"
     },
     "output_type": "display_data"
    }
   ],
   "source": [
    "plt.scatter(well[1]['MONTH'],well[1]['OIL(STB)'])"
   ]
  },
  {
   "cell_type": "code",
   "execution_count": null,
   "id": "ce1bf14a",
   "metadata": {},
   "outputs": [],
   "source": []
  },
  {
   "cell_type": "code",
   "execution_count": null,
   "id": "31e99238",
   "metadata": {},
   "outputs": [],
   "source": []
  }
 ],
 "metadata": {
  "kernelspec": {
   "display_name": "Python 3 (ipykernel)",
   "language": "python",
   "name": "python3"
  },
  "language_info": {
   "codemirror_mode": {
    "name": "ipython",
    "version": 3
   },
   "file_extension": ".py",
   "mimetype": "text/x-python",
   "name": "python",
   "nbconvert_exporter": "python",
   "pygments_lexer": "ipython3",
   "version": "3.9.7"
  }
 },
 "nbformat": 4,
 "nbformat_minor": 5
}
