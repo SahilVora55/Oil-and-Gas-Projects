{
 "cells": [
  {
   "cell_type": "code",
   "execution_count": 1,
   "id": "2898a8c7",
   "metadata": {},
   "outputs": [],
   "source": [
    "import pandas as pd\n",
    "import numpy as np\n",
    "import matplotlib.pyplot as plt\n",
    "import seaborn as sns\n",
    "import datetime"
   ]
  },
  {
   "cell_type": "code",
   "execution_count": 2,
   "id": "b59a6a70",
   "metadata": {},
   "outputs": [],
   "source": [
    "df = pd.read_csv('Volve-Daily-Production-Data.csv', thousands=',')"
   ]
  },
  {
   "cell_type": "code",
   "execution_count": 3,
   "id": "181a1dcf",
   "metadata": {
    "scrolled": true
   },
   "outputs": [
    {
     "name": "stdout",
     "output_type": "stream",
     "text": [
      "<class 'pandas.core.frame.DataFrame'>\n",
      "RangeIndex: 15634 entries, 0 to 15633\n",
      "Data columns (total 24 columns):\n",
      " #   Column                    Non-Null Count  Dtype  \n",
      "---  ------                    --------------  -----  \n",
      " 0   DATEPRD                   15634 non-null  object \n",
      " 1   WELL_BORE_CODE            15634 non-null  object \n",
      " 2   NPD_WELL_BORE_CODE        15634 non-null  int64  \n",
      " 3   NPD_WELL_BORE_NAME        15634 non-null  object \n",
      " 4   NPD_FIELD_CODE            15634 non-null  int64  \n",
      " 5   NPD_FIELD_NAME            15634 non-null  object \n",
      " 6   NPD_FACILITY_CODE         15634 non-null  int64  \n",
      " 7   NPD_FACILITY_NAME         15634 non-null  object \n",
      " 8   ON_STREAM_HRS             15349 non-null  float64\n",
      " 9   AVG_DOWNHOLE_PRESSURE     8980 non-null   float64\n",
      " 10  AVG_DOWNHOLE_TEMPERATURE  8980 non-null   float64\n",
      " 11  AVG_DP_TUBING             8980 non-null   float64\n",
      " 12  AVG_ANNULUS_PRESS         7890 non-null   float64\n",
      " 13  AVG_CHOKE_SIZE_P          8919 non-null   float64\n",
      " 14  AVG_CHOKE_UOM             9161 non-null   object \n",
      " 15  AVG_WHP_P                 9155 non-null   float64\n",
      " 16  AVG_WHT_P                 9146 non-null   float64\n",
      " 17  DP_CHOKE_SIZE             15340 non-null  float64\n",
      " 18  BORE_OIL_VOL              9161 non-null   float64\n",
      " 19  BORE_GAS_VOL              9161 non-null   float64\n",
      " 20  BORE_WAT_VOL              9161 non-null   float64\n",
      " 21  BORE_WI_VOL               5706 non-null   float64\n",
      " 22  FLOW_KIND                 15634 non-null  object \n",
      " 23  WELL_TYPE                 15634 non-null  object \n",
      "dtypes: float64(13), int64(3), object(8)\n",
      "memory usage: 2.9+ MB\n"
     ]
    }
   ],
   "source": [
    "df.info()"
   ]
  },
  {
   "cell_type": "code",
   "execution_count": 4,
   "id": "b5863b53",
   "metadata": {},
   "outputs": [
    {
     "data": {
      "text/html": [
       "<div>\n",
       "<style scoped>\n",
       "    .dataframe tbody tr th:only-of-type {\n",
       "        vertical-align: middle;\n",
       "    }\n",
       "\n",
       "    .dataframe tbody tr th {\n",
       "        vertical-align: top;\n",
       "    }\n",
       "\n",
       "    .dataframe thead th {\n",
       "        text-align: right;\n",
       "    }\n",
       "</style>\n",
       "<table border=\"1\" class=\"dataframe\">\n",
       "  <thead>\n",
       "    <tr style=\"text-align: right;\">\n",
       "      <th></th>\n",
       "      <th>DATEPRD</th>\n",
       "      <th>WELL_BORE_CODE</th>\n",
       "      <th>NPD_WELL_BORE_CODE</th>\n",
       "      <th>NPD_WELL_BORE_NAME</th>\n",
       "      <th>NPD_FIELD_CODE</th>\n",
       "      <th>NPD_FIELD_NAME</th>\n",
       "      <th>NPD_FACILITY_CODE</th>\n",
       "      <th>NPD_FACILITY_NAME</th>\n",
       "      <th>ON_STREAM_HRS</th>\n",
       "      <th>AVG_DOWNHOLE_PRESSURE</th>\n",
       "      <th>...</th>\n",
       "      <th>AVG_CHOKE_UOM</th>\n",
       "      <th>AVG_WHP_P</th>\n",
       "      <th>AVG_WHT_P</th>\n",
       "      <th>DP_CHOKE_SIZE</th>\n",
       "      <th>BORE_OIL_VOL</th>\n",
       "      <th>BORE_GAS_VOL</th>\n",
       "      <th>BORE_WAT_VOL</th>\n",
       "      <th>BORE_WI_VOL</th>\n",
       "      <th>FLOW_KIND</th>\n",
       "      <th>WELL_TYPE</th>\n",
       "    </tr>\n",
       "  </thead>\n",
       "  <tbody>\n",
       "    <tr>\n",
       "      <th>0</th>\n",
       "      <td>07-Apr-14</td>\n",
       "      <td>NO 15/9-F-1 C</td>\n",
       "      <td>7405</td>\n",
       "      <td>15/9-F-1 C</td>\n",
       "      <td>3420717</td>\n",
       "      <td>VOLVE</td>\n",
       "      <td>369304</td>\n",
       "      <td>MÆRSK INSPIRER</td>\n",
       "      <td>0.0</td>\n",
       "      <td>0.0</td>\n",
       "      <td>...</td>\n",
       "      <td>%</td>\n",
       "      <td>0.0</td>\n",
       "      <td>0.0</td>\n",
       "      <td>0.0</td>\n",
       "      <td>0.0</td>\n",
       "      <td>0.0</td>\n",
       "      <td>0.0</td>\n",
       "      <td>NaN</td>\n",
       "      <td>production</td>\n",
       "      <td>WI</td>\n",
       "    </tr>\n",
       "    <tr>\n",
       "      <th>1</th>\n",
       "      <td>08-Apr-14</td>\n",
       "      <td>NO 15/9-F-1 C</td>\n",
       "      <td>7405</td>\n",
       "      <td>15/9-F-1 C</td>\n",
       "      <td>3420717</td>\n",
       "      <td>VOLVE</td>\n",
       "      <td>369304</td>\n",
       "      <td>MÆRSK INSPIRER</td>\n",
       "      <td>0.0</td>\n",
       "      <td>NaN</td>\n",
       "      <td>...</td>\n",
       "      <td>%</td>\n",
       "      <td>0.0</td>\n",
       "      <td>0.0</td>\n",
       "      <td>0.0</td>\n",
       "      <td>0.0</td>\n",
       "      <td>0.0</td>\n",
       "      <td>0.0</td>\n",
       "      <td>NaN</td>\n",
       "      <td>production</td>\n",
       "      <td>OP</td>\n",
       "    </tr>\n",
       "    <tr>\n",
       "      <th>2</th>\n",
       "      <td>09-Apr-14</td>\n",
       "      <td>NO 15/9-F-1 C</td>\n",
       "      <td>7405</td>\n",
       "      <td>15/9-F-1 C</td>\n",
       "      <td>3420717</td>\n",
       "      <td>VOLVE</td>\n",
       "      <td>369304</td>\n",
       "      <td>MÆRSK INSPIRER</td>\n",
       "      <td>0.0</td>\n",
       "      <td>NaN</td>\n",
       "      <td>...</td>\n",
       "      <td>%</td>\n",
       "      <td>0.0</td>\n",
       "      <td>0.0</td>\n",
       "      <td>0.0</td>\n",
       "      <td>0.0</td>\n",
       "      <td>0.0</td>\n",
       "      <td>0.0</td>\n",
       "      <td>NaN</td>\n",
       "      <td>production</td>\n",
       "      <td>OP</td>\n",
       "    </tr>\n",
       "  </tbody>\n",
       "</table>\n",
       "<p>3 rows × 24 columns</p>\n",
       "</div>"
      ],
      "text/plain": [
       "     DATEPRD WELL_BORE_CODE  NPD_WELL_BORE_CODE NPD_WELL_BORE_NAME  \\\n",
       "0  07-Apr-14  NO 15/9-F-1 C                7405         15/9-F-1 C   \n",
       "1  08-Apr-14  NO 15/9-F-1 C                7405         15/9-F-1 C   \n",
       "2  09-Apr-14  NO 15/9-F-1 C                7405         15/9-F-1 C   \n",
       "\n",
       "   NPD_FIELD_CODE NPD_FIELD_NAME  NPD_FACILITY_CODE NPD_FACILITY_NAME  \\\n",
       "0         3420717          VOLVE             369304    MÆRSK INSPIRER   \n",
       "1         3420717          VOLVE             369304    MÆRSK INSPIRER   \n",
       "2         3420717          VOLVE             369304    MÆRSK INSPIRER   \n",
       "\n",
       "   ON_STREAM_HRS  AVG_DOWNHOLE_PRESSURE  ...  AVG_CHOKE_UOM  AVG_WHP_P  \\\n",
       "0            0.0                    0.0  ...              %        0.0   \n",
       "1            0.0                    NaN  ...              %        0.0   \n",
       "2            0.0                    NaN  ...              %        0.0   \n",
       "\n",
       "   AVG_WHT_P  DP_CHOKE_SIZE BORE_OIL_VOL  BORE_GAS_VOL  BORE_WAT_VOL  \\\n",
       "0        0.0            0.0          0.0           0.0           0.0   \n",
       "1        0.0            0.0          0.0           0.0           0.0   \n",
       "2        0.0            0.0          0.0           0.0           0.0   \n",
       "\n",
       "   BORE_WI_VOL   FLOW_KIND  WELL_TYPE  \n",
       "0          NaN  production         WI  \n",
       "1          NaN  production         OP  \n",
       "2          NaN  production         OP  \n",
       "\n",
       "[3 rows x 24 columns]"
      ]
     },
     "execution_count": 4,
     "metadata": {},
     "output_type": "execute_result"
    }
   ],
   "source": [
    "df.head(3)"
   ]
  },
  {
   "cell_type": "code",
   "execution_count": 5,
   "id": "d29900a9",
   "metadata": {},
   "outputs": [],
   "source": [
    "df = df[['DATEPRD','WELL_BORE_CODE', 'BORE_OIL_VOL']]"
   ]
  },
  {
   "cell_type": "code",
   "execution_count": 6,
   "id": "e27e1de1",
   "metadata": {},
   "outputs": [
    {
     "data": {
      "text/html": [
       "<div>\n",
       "<style scoped>\n",
       "    .dataframe tbody tr th:only-of-type {\n",
       "        vertical-align: middle;\n",
       "    }\n",
       "\n",
       "    .dataframe tbody tr th {\n",
       "        vertical-align: top;\n",
       "    }\n",
       "\n",
       "    .dataframe thead th {\n",
       "        text-align: right;\n",
       "    }\n",
       "</style>\n",
       "<table border=\"1\" class=\"dataframe\">\n",
       "  <thead>\n",
       "    <tr style=\"text-align: right;\">\n",
       "      <th></th>\n",
       "      <th>DATEPRD</th>\n",
       "      <th>WELL_BORE_CODE</th>\n",
       "      <th>BORE_OIL_VOL</th>\n",
       "    </tr>\n",
       "  </thead>\n",
       "  <tbody>\n",
       "    <tr>\n",
       "      <th>0</th>\n",
       "      <td>07-Apr-14</td>\n",
       "      <td>NO 15/9-F-1 C</td>\n",
       "      <td>0.0</td>\n",
       "    </tr>\n",
       "    <tr>\n",
       "      <th>1</th>\n",
       "      <td>08-Apr-14</td>\n",
       "      <td>NO 15/9-F-1 C</td>\n",
       "      <td>0.0</td>\n",
       "    </tr>\n",
       "    <tr>\n",
       "      <th>2</th>\n",
       "      <td>09-Apr-14</td>\n",
       "      <td>NO 15/9-F-1 C</td>\n",
       "      <td>0.0</td>\n",
       "    </tr>\n",
       "    <tr>\n",
       "      <th>3</th>\n",
       "      <td>10-Apr-14</td>\n",
       "      <td>NO 15/9-F-1 C</td>\n",
       "      <td>0.0</td>\n",
       "    </tr>\n",
       "    <tr>\n",
       "      <th>4</th>\n",
       "      <td>11-Apr-14</td>\n",
       "      <td>NO 15/9-F-1 C</td>\n",
       "      <td>0.0</td>\n",
       "    </tr>\n",
       "  </tbody>\n",
       "</table>\n",
       "</div>"
      ],
      "text/plain": [
       "     DATEPRD WELL_BORE_CODE  BORE_OIL_VOL\n",
       "0  07-Apr-14  NO 15/9-F-1 C           0.0\n",
       "1  08-Apr-14  NO 15/9-F-1 C           0.0\n",
       "2  09-Apr-14  NO 15/9-F-1 C           0.0\n",
       "3  10-Apr-14  NO 15/9-F-1 C           0.0\n",
       "4  11-Apr-14  NO 15/9-F-1 C           0.0"
      ]
     },
     "execution_count": 6,
     "metadata": {},
     "output_type": "execute_result"
    }
   ],
   "source": [
    "df.head()"
   ]
  },
  {
   "cell_type": "code",
   "execution_count": 7,
   "id": "90cc2766",
   "metadata": {},
   "outputs": [
    {
     "data": {
      "text/plain": [
       "array(['NO 15/9-F-1 C', 'NO 15/9-F-11 H', 'NO 15/9-F-12 H',\n",
       "       'NO 15/9-F-14 H', 'NO 15/9-F-15 D', 'NO 15/9-F-4 AH',\n",
       "       'NO 15/9-F-5 AH'], dtype=object)"
      ]
     },
     "execution_count": 7,
     "metadata": {},
     "output_type": "execute_result"
    }
   ],
   "source": [
    "well_codes = df.WELL_BORE_CODE.unique()\n",
    "well_codes"
   ]
  },
  {
   "cell_type": "code",
   "execution_count": 8,
   "id": "6893c01a",
   "metadata": {
    "scrolled": true
   },
   "outputs": [
    {
     "data": {
      "image/png": "[encoded data removed]",
      "text/plain": [
       "<Figure size 432x288 with 1 Axes>"
      ]
     },
     "metadata": {
      "needs_background": "light"
     },
     "output_type": "display_data"
    },
    {
     "data": {
      "image/png": "[encoded data removed]",
      "text/plain": [
       "<Figure size 432x288 with 1 Axes>"
      ]
     },
     "metadata": {
      "needs_background": "light"
     },
     "output_type": "display_data"
    },
    {
     "data": {
      "image/png": "[encoded data removed]",
      "text/plain": [
       "<Figure size 432x288 with 1 Axes>"
      ]
     },
     "metadata": {
      "needs_background": "light"
     },
     "output_type": "display_data"
    },
    {
     "data": {
      "image/png": "[encoded data removed]",
      "text/plain": [
       "<Figure size 432x288 with 1 Axes>"
      ]
     },
     "metadata": {
      "needs_background": "light"
     },
     "output_type": "display_data"
    },
    {
     "data": {
      "image/png": "[encoded data removed]",
      "text/plain": [
       "<Figure size 432x288 with 1 Axes>"
      ]
     },
     "metadata": {
      "needs_background": "light"
     },
     "output_type": "display_data"
    },
    {
     "data": {
      "image/png": "[encoded data removed]",
      "text/plain": [
       "<Figure size 432x288 with 1 Axes>"
      ]
     },
     "metadata": {
      "needs_background": "light"
     },
     "output_type": "display_data"
    },
    {
     "data": {
      "image/png": "[encoded data removed]",
      "text/plain": [
       "<Figure size 432x288 with 1 Axes>"
      ]
     },
     "metadata": {
      "needs_background": "light"
     },
     "output_type": "display_data"
    },
    {
     "data": {
      "text/plain": [
       "<Figure size 432x288 with 0 Axes>"
      ]
     },
     "metadata": {},
     "output_type": "display_data"
    }
   ],
   "source": [
    "nwells = len(well_codes)\n",
    "df_wells = []\n",
    "\n",
    "for i in range (nwells):\n",
    "    df_wells.append(df[df['WELL_BORE_CODE'] == well_codes[i]])\n",
    "    df_wells[i] = df_wells[i].drop(columns = 'WELL_BORE_CODE')\n",
    "    df_wells[i]['DATEPRD'] = pd.to_numeric(pd.to_datetime(df_wells[i]['DATEPRD']))\n",
    "    df_wells[i]['DATEPRD'] = (df_wells[i]['DATEPRD'].values - \\\n",
    "                              df_wells[i]['DATEPRD'].values[0]) / 86400000000000\n",
    "    df_wells[i] = df_wells[i].rename(columns={'DATEPRD': 'DAY_OF_PROD', \n",
    "                                              'BORE_OIL_VOL': 'OIL_VOL_PROD'})\n",
    "    \n",
    "    plt.plot(df_wells[i]['DAY_OF_PROD'], df_wells[i]['OIL_VOL_PROD'])\n",
    "    plt.title(well_codes[i])\n",
    "    plt.show()\n",
    "    plt.tight_layout()"
   ]
  },
  {
   "cell_type": "markdown",
   "id": "e62cdb26",
   "metadata": {},
   "source": [
    "## Integrity check: Make sure there are no missing days in the oil production data for these two wells."
   ]
  },
  {
   "cell_type": "code",
   "execution_count": 9,
   "id": "ecc2aabf",
   "metadata": {},
   "outputs": [
    {
     "name": "stdout",
     "output_type": "stream",
     "text": [
      "      DAY_OF_PROD  OIL_VOL_PROD\n",
      "1911          0.0         285.0\n",
      "1912          1.0        1870.0\n",
      "1913          2.0        3124.0\n",
      "1914          3.0        2608.0\n",
      "1915          4.0        3052.0\n",
      "...           ...           ...\n",
      "4962       3136.0           0.0\n",
      "4963       3137.0           0.0\n",
      "4964       3138.0           0.0\n",
      "4965       3139.0           0.0\n",
      "4966       3140.0           0.0\n",
      "\n",
      "[3056 rows x 2 columns]       DAY_OF_PROD  OIL_VOL_PROD\n",
      "4967          0.0           0.0\n",
      "4968          1.0           0.0\n",
      "4969          2.0           0.0\n",
      "4970          3.0           0.0\n",
      "4971          4.0           0.0\n",
      "...           ...           ...\n",
      "8018       3136.0           0.0\n",
      "8019       3137.0           0.0\n",
      "8020       3138.0           0.0\n",
      "8021       3139.0           0.0\n",
      "8022       3140.0           0.0\n",
      "\n",
      "[3056 rows x 2 columns]\n"
     ]
    }
   ],
   "source": [
    "print(df_wells[2], df_wells[3])"
   ]
  },
  {
   "cell_type": "code",
   "execution_count": 10,
   "id": "290921bb",
   "metadata": {},
   "outputs": [
    {
     "name": "stdout",
     "output_type": "stream",
     "text": [
      "75.0\n",
      "77.0\n",
      "missing day(s): 1.0\n",
      "176.0\n",
      "178.0\n",
      "missing day(s): 1.0\n",
      "447.0\n",
      "449.0\n",
      "missing day(s): 1.0\n",
      "537.0\n",
      "539.0\n",
      "missing day(s): 1.0\n",
      "566.0\n",
      "568.0\n",
      "missing day(s): 1.0\n",
      "746.0\n",
      "749.0\n",
      "missing day(s): 2.0\n",
      "753.0\n",
      "755.0\n",
      "missing day(s): 1.0\n",
      "915.0\n",
      "917.0\n",
      "missing day(s): 1.0\n",
      "917.0\n",
      "920.0\n",
      "missing day(s): 2.0\n",
      "923.0\n",
      "925.0\n",
      "missing day(s): 1.0\n",
      "1085.0\n",
      "1089.0\n",
      "missing day(s): 3.0\n",
      "1224.0\n",
      "1228.0\n",
      "missing day(s): 3.0\n",
      "1228.0\n",
      "1232.0\n",
      "missing day(s): 3.0\n",
      "1232.0\n",
      "1235.0\n",
      "missing day(s): 2.0\n",
      "1239.0\n",
      "1241.0\n",
      "missing day(s): 1.0\n",
      "1245.0\n",
      "1247.0\n",
      "missing day(s): 1.0\n",
      "1252.0\n",
      "1254.0\n",
      "missing day(s): 1.0\n",
      "1341.0\n",
      "1345.0\n",
      "missing day(s): 3.0\n",
      "1350.0\n",
      "1352.0\n",
      "missing day(s): 1.0\n",
      "1381.0\n",
      "1385.0\n",
      "missing day(s): 3.0\n",
      "1385.0\n",
      "1389.0\n",
      "missing day(s): 3.0\n",
      "1389.0\n",
      "1392.0\n",
      "missing day(s): 2.0\n",
      "1395.0\n",
      "1397.0\n",
      "missing day(s): 1.0\n",
      "1400.0\n",
      "1402.0\n",
      "missing day(s): 1.0\n",
      "1411.0\n",
      "1413.0\n",
      "missing day(s): 1.0\n",
      "1420.0\n",
      "1432.0\n",
      "missing day(s): 11.0\n",
      "1443.0\n",
      "1445.0\n",
      "missing day(s): 1.0\n",
      "1644.0\n",
      "1646.0\n",
      "missing day(s): 1.0\n",
      "1648.0\n",
      "1650.0\n",
      "missing day(s): 1.0\n",
      "1665.0\n",
      "1669.0\n",
      "missing day(s): 3.0\n",
      "1669.0\n",
      "1673.0\n",
      "missing day(s): 3.0\n",
      "1673.0\n",
      "1677.0\n",
      "missing day(s): 3.0\n",
      "1679.0\n",
      "1681.0\n",
      "missing day(s): 1.0\n",
      "1681.0\n",
      "1683.0\n",
      "missing day(s): 1.0\n",
      "1683.0\n",
      "1685.0\n",
      "missing day(s): 1.0\n",
      "1685.0\n",
      "1687.0\n",
      "missing day(s): 1.0\n",
      "1689.0\n",
      "1691.0\n",
      "missing day(s): 1.0\n",
      "1706.0\n",
      "1711.0\n",
      "missing day(s): 4.0\n",
      "1850.0\n",
      "1853.0\n",
      "missing day(s): 2.0\n",
      "1854.0\n",
      "1856.0\n",
      "missing day(s): 1.0\n",
      "1875.0\n",
      "1877.0\n",
      "missing day(s): 1.0\n",
      "1879.0\n",
      "1883.0\n",
      "missing day(s): 3.0\n",
      "1958.0\n",
      "1961.0\n",
      "missing day(s): 2.0\n",
      "2045.0\n",
      "2047.0\n",
      "missing day(s): 1.0\n",
      "2178.0\n",
      "2180.0\n",
      "missing day(s): 1.0\n",
      "2186.0\n",
      "2188.0\n",
      "missing day(s): 1.0\n",
      "75.0\n",
      "77.0\n",
      "missing day(s): 1.0\n",
      "176.0\n",
      "178.0\n",
      "missing day(s): 1.0\n",
      "447.0\n",
      "449.0\n",
      "missing day(s): 1.0\n",
      "537.0\n",
      "539.0\n",
      "missing day(s): 1.0\n",
      "566.0\n",
      "568.0\n",
      "missing day(s): 1.0\n",
      "746.0\n",
      "749.0\n",
      "missing day(s): 2.0\n",
      "753.0\n",
      "755.0\n",
      "missing day(s): 1.0\n",
      "915.0\n",
      "917.0\n",
      "missing day(s): 1.0\n",
      "917.0\n",
      "920.0\n",
      "missing day(s): 2.0\n",
      "923.0\n",
      "925.0\n",
      "missing day(s): 1.0\n",
      "1085.0\n",
      "1089.0\n",
      "missing day(s): 3.0\n",
      "1224.0\n",
      "1228.0\n",
      "missing day(s): 3.0\n",
      "1228.0\n",
      "1232.0\n",
      "missing day(s): 3.0\n",
      "1232.0\n",
      "1235.0\n",
      "missing day(s): 2.0\n",
      "1239.0\n",
      "1241.0\n",
      "missing day(s): 1.0\n",
      "1245.0\n",
      "1247.0\n",
      "missing day(s): 1.0\n",
      "1252.0\n",
      "1254.0\n",
      "missing day(s): 1.0\n",
      "1341.0\n",
      "1345.0\n",
      "missing day(s): 3.0\n",
      "1350.0\n",
      "1352.0\n",
      "missing day(s): 1.0\n",
      "1381.0\n",
      "1385.0\n",
      "missing day(s): 3.0\n",
      "1385.0\n",
      "1389.0\n",
      "missing day(s): 3.0\n",
      "1389.0\n",
      "1392.0\n",
      "missing day(s): 2.0\n",
      "1395.0\n",
      "1397.0\n",
      "missing day(s): 1.0\n",
      "1400.0\n",
      "1402.0\n",
      "missing day(s): 1.0\n",
      "1411.0\n",
      "1413.0\n",
      "missing day(s): 1.0\n",
      "1420.0\n",
      "1432.0\n",
      "missing day(s): 11.0\n",
      "1443.0\n",
      "1445.0\n",
      "missing day(s): 1.0\n",
      "1644.0\n",
      "1646.0\n",
      "missing day(s): 1.0\n",
      "1648.0\n",
      "1650.0\n",
      "missing day(s): 1.0\n",
      "1665.0\n",
      "1669.0\n",
      "missing day(s): 3.0\n",
      "1669.0\n",
      "1673.0\n",
      "missing day(s): 3.0\n",
      "1673.0\n",
      "1677.0\n",
      "missing day(s): 3.0\n",
      "1679.0\n",
      "1681.0\n",
      "missing day(s): 1.0\n",
      "1681.0\n",
      "1683.0\n",
      "missing day(s): 1.0\n",
      "1683.0\n",
      "1685.0\n",
      "missing day(s): 1.0\n",
      "1685.0\n",
      "1687.0\n",
      "missing day(s): 1.0\n",
      "1689.0\n",
      "1691.0\n",
      "missing day(s): 1.0\n",
      "1706.0\n",
      "1711.0\n",
      "missing day(s): 4.0\n",
      "1850.0\n",
      "1853.0\n",
      "missing day(s): 2.0\n",
      "1854.0\n",
      "1856.0\n",
      "missing day(s): 1.0\n",
      "1875.0\n",
      "1877.0\n",
      "missing day(s): 1.0\n",
      "1879.0\n",
      "1883.0\n",
      "missing day(s): 3.0\n",
      "1958.0\n",
      "1961.0\n",
      "missing day(s): 2.0\n",
      "2045.0\n",
      "2047.0\n",
      "missing day(s): 1.0\n",
      "2178.0\n",
      "2180.0\n",
      "missing day(s): 1.0\n",
      "2186.0\n",
      "2188.0\n",
      "missing day(s): 1.0\n"
     ]
    }
   ],
   "source": [
    "for i in [2,3]:\n",
    "    days = df_wells[i]['DAY_OF_PROD'].values\n",
    "    for j in range(1,len(days)):\n",
    "        diff = days[j] - days[j-1]\n",
    "        if diff>1:\n",
    "            print(days[j-1])\n",
    "            print(days[j])\n",
    "            print(f'missing day(s): {diff-1}')"
   ]
  },
  {
   "cell_type": "markdown",
   "id": "882846b3",
   "metadata": {},
   "source": [
    "##  fill missing days with prevoius values"
   ]
  },
  {
   "cell_type": "code",
   "execution_count": 11,
   "id": "5cbe7714",
   "metadata": {},
   "outputs": [],
   "source": [
    "for i in range (nwells):\n",
    "    df_wells[i].fillna(method='bfill',inplace=True)"
   ]
  },
  {
   "cell_type": "code",
   "execution_count": 12,
   "id": "8dcf3e1d",
   "metadata": {},
   "outputs": [],
   "source": [
    "well_2 = df_wells[2]\n",
    "well_3 = df_wells[3]"
   ]
  },
  {
   "cell_type": "code",
   "execution_count": 13,
   "id": "dc6d6a3b",
   "metadata": {},
   "outputs": [
    {
     "data": {
      "text/plain": [
       "<AxesSubplot:>"
      ]
     },
     "execution_count": 13,
     "metadata": {},
     "output_type": "execute_result"
    },
    {
     "data": {
      "image/png": "[encoded data removed]",
      "text/plain": [
       "<Figure size 432x288 with 1 Axes>"
      ]
     },
     "metadata": {
      "needs_background": "light"
     },
     "output_type": "display_data"
    }
   ],
   "source": [
    "well_2['OIL_VOL_PROD'].plot()\n",
    "well_3['OIL_VOL_PROD'].plot()"
   ]
  },
  {
   "cell_type": "code",
   "execution_count": 14,
   "id": "e66b2bd9",
   "metadata": {},
   "outputs": [],
   "source": [
    "df = pd.read_csv('Volve-Daily-Production-Data.csv', thousands=',')"
   ]
  },
  {
   "cell_type": "code",
   "execution_count": 15,
   "id": "75267760",
   "metadata": {},
   "outputs": [
    {
     "data": {
      "text/html": [
       "<div>\n",
       "<style scoped>\n",
       "    .dataframe tbody tr th:only-of-type {\n",
       "        vertical-align: middle;\n",
       "    }\n",
       "\n",
       "    .dataframe tbody tr th {\n",
       "        vertical-align: top;\n",
       "    }\n",
       "\n",
       "    .dataframe thead th {\n",
       "        text-align: right;\n",
       "    }\n",
       "</style>\n",
       "<table border=\"1\" class=\"dataframe\">\n",
       "  <thead>\n",
       "    <tr style=\"text-align: right;\">\n",
       "      <th></th>\n",
       "      <th>DATEPRD</th>\n",
       "      <th>WELL_BORE_CODE</th>\n",
       "      <th>NPD_WELL_BORE_CODE</th>\n",
       "      <th>NPD_WELL_BORE_NAME</th>\n",
       "      <th>NPD_FIELD_CODE</th>\n",
       "      <th>NPD_FIELD_NAME</th>\n",
       "      <th>NPD_FACILITY_CODE</th>\n",
       "      <th>NPD_FACILITY_NAME</th>\n",
       "      <th>ON_STREAM_HRS</th>\n",
       "      <th>AVG_DOWNHOLE_PRESSURE</th>\n",
       "      <th>...</th>\n",
       "      <th>AVG_CHOKE_UOM</th>\n",
       "      <th>AVG_WHP_P</th>\n",
       "      <th>AVG_WHT_P</th>\n",
       "      <th>DP_CHOKE_SIZE</th>\n",
       "      <th>BORE_OIL_VOL</th>\n",
       "      <th>BORE_GAS_VOL</th>\n",
       "      <th>BORE_WAT_VOL</th>\n",
       "      <th>BORE_WI_VOL</th>\n",
       "      <th>FLOW_KIND</th>\n",
       "      <th>WELL_TYPE</th>\n",
       "    </tr>\n",
       "  </thead>\n",
       "  <tbody>\n",
       "    <tr>\n",
       "      <th>0</th>\n",
       "      <td>07-Apr-14</td>\n",
       "      <td>NO 15/9-F-1 C</td>\n",
       "      <td>7405</td>\n",
       "      <td>15/9-F-1 C</td>\n",
       "      <td>3420717</td>\n",
       "      <td>VOLVE</td>\n",
       "      <td>369304</td>\n",
       "      <td>MÆRSK INSPIRER</td>\n",
       "      <td>0.0</td>\n",
       "      <td>0.0</td>\n",
       "      <td>...</td>\n",
       "      <td>%</td>\n",
       "      <td>0.0</td>\n",
       "      <td>0.0</td>\n",
       "      <td>0.0</td>\n",
       "      <td>0.0</td>\n",
       "      <td>0.0</td>\n",
       "      <td>0.0</td>\n",
       "      <td>NaN</td>\n",
       "      <td>production</td>\n",
       "      <td>WI</td>\n",
       "    </tr>\n",
       "    <tr>\n",
       "      <th>1</th>\n",
       "      <td>08-Apr-14</td>\n",
       "      <td>NO 15/9-F-1 C</td>\n",
       "      <td>7405</td>\n",
       "      <td>15/9-F-1 C</td>\n",
       "      <td>3420717</td>\n",
       "      <td>VOLVE</td>\n",
       "      <td>369304</td>\n",
       "      <td>MÆRSK INSPIRER</td>\n",
       "      <td>0.0</td>\n",
       "      <td>NaN</td>\n",
       "      <td>...</td>\n",
       "      <td>%</td>\n",
       "      <td>0.0</td>\n",
       "      <td>0.0</td>\n",
       "      <td>0.0</td>\n",
       "      <td>0.0</td>\n",
       "      <td>0.0</td>\n",
       "      <td>0.0</td>\n",
       "      <td>NaN</td>\n",
       "      <td>production</td>\n",
       "      <td>OP</td>\n",
       "    </tr>\n",
       "    <tr>\n",
       "      <th>2</th>\n",
       "      <td>09-Apr-14</td>\n",
       "      <td>NO 15/9-F-1 C</td>\n",
       "      <td>7405</td>\n",
       "      <td>15/9-F-1 C</td>\n",
       "      <td>3420717</td>\n",
       "      <td>VOLVE</td>\n",
       "      <td>369304</td>\n",
       "      <td>MÆRSK INSPIRER</td>\n",
       "      <td>0.0</td>\n",
       "      <td>NaN</td>\n",
       "      <td>...</td>\n",
       "      <td>%</td>\n",
       "      <td>0.0</td>\n",
       "      <td>0.0</td>\n",
       "      <td>0.0</td>\n",
       "      <td>0.0</td>\n",
       "      <td>0.0</td>\n",
       "      <td>0.0</td>\n",
       "      <td>NaN</td>\n",
       "      <td>production</td>\n",
       "      <td>OP</td>\n",
       "    </tr>\n",
       "  </tbody>\n",
       "</table>\n",
       "<p>3 rows × 24 columns</p>\n",
       "</div>"
      ],
      "text/plain": [
       "     DATEPRD WELL_BORE_CODE  NPD_WELL_BORE_CODE NPD_WELL_BORE_NAME  \\\n",
       "0  07-Apr-14  NO 15/9-F-1 C                7405         15/9-F-1 C   \n",
       "1  08-Apr-14  NO 15/9-F-1 C                7405         15/9-F-1 C   \n",
       "2  09-Apr-14  NO 15/9-F-1 C                7405         15/9-F-1 C   \n",
       "\n",
       "   NPD_FIELD_CODE NPD_FIELD_NAME  NPD_FACILITY_CODE NPD_FACILITY_NAME  \\\n",
       "0         3420717          VOLVE             369304    MÆRSK INSPIRER   \n",
       "1         3420717          VOLVE             369304    MÆRSK INSPIRER   \n",
       "2         3420717          VOLVE             369304    MÆRSK INSPIRER   \n",
       "\n",
       "   ON_STREAM_HRS  AVG_DOWNHOLE_PRESSURE  ...  AVG_CHOKE_UOM  AVG_WHP_P  \\\n",
       "0            0.0                    0.0  ...              %        0.0   \n",
       "1            0.0                    NaN  ...              %        0.0   \n",
       "2            0.0                    NaN  ...              %        0.0   \n",
       "\n",
       "   AVG_WHT_P  DP_CHOKE_SIZE BORE_OIL_VOL  BORE_GAS_VOL  BORE_WAT_VOL  \\\n",
       "0        0.0            0.0          0.0           0.0           0.0   \n",
       "1        0.0            0.0          0.0           0.0           0.0   \n",
       "2        0.0            0.0          0.0           0.0           0.0   \n",
       "\n",
       "   BORE_WI_VOL   FLOW_KIND  WELL_TYPE  \n",
       "0          NaN  production         WI  \n",
       "1          NaN  production         OP  \n",
       "2          NaN  production         OP  \n",
       "\n",
       "[3 rows x 24 columns]"
      ]
     },
     "execution_count": 15,
     "metadata": {},
     "output_type": "execute_result"
    }
   ],
   "source": [
    "df.head(3)"
   ]
  },
  {
   "cell_type": "code",
   "execution_count": 16,
   "id": "4ba03024",
   "metadata": {},
   "outputs": [
    {
     "data": {
      "text/plain": [
       "Index(['DATEPRD', 'WELL_BORE_CODE', 'NPD_WELL_BORE_CODE', 'NPD_WELL_BORE_NAME',\n",
       "       'NPD_FIELD_CODE', 'NPD_FIELD_NAME', 'NPD_FACILITY_CODE',\n",
       "       'NPD_FACILITY_NAME', 'ON_STREAM_HRS', 'AVG_DOWNHOLE_PRESSURE',\n",
       "       'AVG_DOWNHOLE_TEMPERATURE', 'AVG_DP_TUBING', 'AVG_ANNULUS_PRESS',\n",
       "       'AVG_CHOKE_SIZE_P', 'AVG_CHOKE_UOM', 'AVG_WHP_P', 'AVG_WHT_P',\n",
       "       'DP_CHOKE_SIZE', 'BORE_OIL_VOL', 'BORE_GAS_VOL', 'BORE_WAT_VOL',\n",
       "       'BORE_WI_VOL', 'FLOW_KIND', 'WELL_TYPE'],\n",
       "      dtype='object')"
      ]
     },
     "execution_count": 16,
     "metadata": {},
     "output_type": "execute_result"
    }
   ],
   "source": [
    "df.columns"
   ]
  },
  {
   "cell_type": "code",
   "execution_count": 17,
   "id": "cdcf2323",
   "metadata": {},
   "outputs": [],
   "source": [
    "import datetime\n",
    "\n",
    "df['DATEPRD'] = pd.to_datetime(df['DATEPRD'])"
   ]
  },
  {
   "cell_type": "code",
   "execution_count": 18,
   "id": "f966caec",
   "metadata": {},
   "outputs": [
    {
     "data": {
      "text/plain": [
       "array(['NO 15/9-F-1 C', 'NO 15/9-F-11 H', 'NO 15/9-F-12 H',\n",
       "       'NO 15/9-F-14 H', 'NO 15/9-F-15 D', 'NO 15/9-F-4 AH',\n",
       "       'NO 15/9-F-5 AH'], dtype=object)"
      ]
     },
     "execution_count": 18,
     "metadata": {},
     "output_type": "execute_result"
    }
   ],
   "source": [
    "well_codes = df.WELL_BORE_CODE.unique()\n",
    "well_codes"
   ]
  },
  {
   "cell_type": "code",
   "execution_count": 19,
   "id": "e7b037bd",
   "metadata": {
    "scrolled": true
   },
   "outputs": [
    {
     "data": {
      "text/plain": [
       "[<matplotlib.lines.Line2D at 0x1d8e3d01700>]"
      ]
     },
     "execution_count": 19,
     "metadata": {},
     "output_type": "execute_result"
    },
    {
     "data": {
      "image/png": "[encoded data removed]",
      "text/plain": [
       "<Figure size 432x288 with 1 Axes>"
      ]
     },
     "metadata": {
      "needs_background": "light"
     },
     "output_type": "display_data"
    }
   ],
   "source": [
    "plt.plot(df['DATEPRD'],df['BORE_OIL_VOL'],linestyle = '--')"
   ]
  },
  {
   "cell_type": "code",
   "execution_count": 20,
   "id": "009e7e5d",
   "metadata": {},
   "outputs": [],
   "source": [
    "df = df[['DATEPRD','WELL_BORE_CODE','ON_STREAM_HRS','AVG_DOWNHOLE_PRESSURE','AVG_DOWNHOLE_TEMPERATURE','AVG_DP_TUBING','AVG_ANNULUS_PRESS','AVG_CHOKE_SIZE_P','AVG_WHP_P','AVG_WHT_P','DP_CHOKE_SIZE','BORE_OIL_VOL', 'BORE_GAS_VOL', 'BORE_WAT_VOL',\n",
    "       'BORE_WI_VOL','FLOW_KIND']]"
   ]
  },
  {
   "cell_type": "code",
   "execution_count": 21,
   "id": "fa6d55d5",
   "metadata": {},
   "outputs": [],
   "source": [
    "nwells = len(well_codes)\n",
    "df_wells = []\n",
    "\n",
    "for i in range (nwells):\n",
    "    df_wells.append(df[df['WELL_BORE_CODE'] == well_codes[i]])\n",
    "    df_wells[i] = df_wells[i].drop(columns = 'WELL_BORE_CODE')"
   ]
  },
  {
   "cell_type": "code",
   "execution_count": 22,
   "id": "05d1a2d4",
   "metadata": {},
   "outputs": [],
   "source": [
    "well2 = df_wells[2]\n",
    "well3 = df_wells[3]"
   ]
  },
  {
   "cell_type": "code",
   "execution_count": 23,
   "id": "653ce02e",
   "metadata": {},
   "outputs": [
    {
     "data": {
      "text/html": [
       "<div>\n",
       "<style scoped>\n",
       "    .dataframe tbody tr th:only-of-type {\n",
       "        vertical-align: middle;\n",
       "    }\n",
       "\n",
       "    .dataframe tbody tr th {\n",
       "        vertical-align: top;\n",
       "    }\n",
       "\n",
       "    .dataframe thead th {\n",
       "        text-align: right;\n",
       "    }\n",
       "</style>\n",
       "<table border=\"1\" class=\"dataframe\">\n",
       "  <thead>\n",
       "    <tr style=\"text-align: right;\">\n",
       "      <th></th>\n",
       "      <th>DATEPRD</th>\n",
       "      <th>ON_STREAM_HRS</th>\n",
       "      <th>AVG_DOWNHOLE_PRESSURE</th>\n",
       "      <th>AVG_DOWNHOLE_TEMPERATURE</th>\n",
       "      <th>AVG_DP_TUBING</th>\n",
       "      <th>AVG_ANNULUS_PRESS</th>\n",
       "      <th>AVG_CHOKE_SIZE_P</th>\n",
       "      <th>AVG_WHP_P</th>\n",
       "      <th>AVG_WHT_P</th>\n",
       "      <th>DP_CHOKE_SIZE</th>\n",
       "      <th>BORE_OIL_VOL</th>\n",
       "      <th>BORE_GAS_VOL</th>\n",
       "      <th>BORE_WAT_VOL</th>\n",
       "      <th>BORE_WI_VOL</th>\n",
       "      <th>FLOW_KIND</th>\n",
       "    </tr>\n",
       "  </thead>\n",
       "  <tbody>\n",
       "    <tr>\n",
       "      <th>1911</th>\n",
       "      <td>2008-02-12</td>\n",
       "      <td>11.50</td>\n",
       "      <td>308.056</td>\n",
       "      <td>104.418</td>\n",
       "      <td>201.250</td>\n",
       "      <td>18.640</td>\n",
       "      <td>14.48443</td>\n",
       "      <td>106.806</td>\n",
       "      <td>16.295</td>\n",
       "      <td>92.475</td>\n",
       "      <td>285.0</td>\n",
       "      <td>38889.0</td>\n",
       "      <td>385.0</td>\n",
       "      <td>NaN</td>\n",
       "      <td>production</td>\n",
       "    </tr>\n",
       "    <tr>\n",
       "      <th>1912</th>\n",
       "      <td>2008-02-13</td>\n",
       "      <td>24.00</td>\n",
       "      <td>303.034</td>\n",
       "      <td>105.403</td>\n",
       "      <td>182.145</td>\n",
       "      <td>16.467</td>\n",
       "      <td>22.83299</td>\n",
       "      <td>120.889</td>\n",
       "      <td>53.374</td>\n",
       "      <td>89.620</td>\n",
       "      <td>1870.0</td>\n",
       "      <td>285246.0</td>\n",
       "      <td>7.0</td>\n",
       "      <td>NaN</td>\n",
       "      <td>production</td>\n",
       "    </tr>\n",
       "    <tr>\n",
       "      <th>1913</th>\n",
       "      <td>2008-02-14</td>\n",
       "      <td>22.50</td>\n",
       "      <td>295.586</td>\n",
       "      <td>105.775</td>\n",
       "      <td>181.868</td>\n",
       "      <td>12.660</td>\n",
       "      <td>31.24997</td>\n",
       "      <td>113.718</td>\n",
       "      <td>72.738</td>\n",
       "      <td>80.120</td>\n",
       "      <td>3124.0</td>\n",
       "      <td>509955.0</td>\n",
       "      <td>1.0</td>\n",
       "      <td>NaN</td>\n",
       "      <td>production</td>\n",
       "    </tr>\n",
       "    <tr>\n",
       "      <th>1914</th>\n",
       "      <td>2008-02-15</td>\n",
       "      <td>23.15</td>\n",
       "      <td>297.663</td>\n",
       "      <td>105.752</td>\n",
       "      <td>180.832</td>\n",
       "      <td>5.264</td>\n",
       "      <td>28.51893</td>\n",
       "      <td>116.831</td>\n",
       "      <td>69.996</td>\n",
       "      <td>84.251</td>\n",
       "      <td>2608.0</td>\n",
       "      <td>383427.0</td>\n",
       "      <td>1.0</td>\n",
       "      <td>NaN</td>\n",
       "      <td>production</td>\n",
       "    </tr>\n",
       "    <tr>\n",
       "      <th>1915</th>\n",
       "      <td>2008-02-16</td>\n",
       "      <td>24.00</td>\n",
       "      <td>295.936</td>\n",
       "      <td>105.811</td>\n",
       "      <td>180.501</td>\n",
       "      <td>12.385</td>\n",
       "      <td>30.22790</td>\n",
       "      <td>115.434</td>\n",
       "      <td>71.518</td>\n",
       "      <td>82.359</td>\n",
       "      <td>3052.0</td>\n",
       "      <td>418474.0</td>\n",
       "      <td>5.0</td>\n",
       "      <td>NaN</td>\n",
       "      <td>production</td>\n",
       "    </tr>\n",
       "    <tr>\n",
       "      <th>...</th>\n",
       "      <td>...</td>\n",
       "      <td>...</td>\n",
       "      <td>...</td>\n",
       "      <td>...</td>\n",
       "      <td>...</td>\n",
       "      <td>...</td>\n",
       "      <td>...</td>\n",
       "      <td>...</td>\n",
       "      <td>...</td>\n",
       "      <td>...</td>\n",
       "      <td>...</td>\n",
       "      <td>...</td>\n",
       "      <td>...</td>\n",
       "      <td>...</td>\n",
       "      <td>...</td>\n",
       "    </tr>\n",
       "    <tr>\n",
       "      <th>4962</th>\n",
       "      <td>2016-09-13</td>\n",
       "      <td>0.00</td>\n",
       "      <td>0.000</td>\n",
       "      <td>0.000</td>\n",
       "      <td>0.000</td>\n",
       "      <td>19.959</td>\n",
       "      <td>0.99291</td>\n",
       "      <td>0.000</td>\n",
       "      <td>0.000</td>\n",
       "      <td>0.013</td>\n",
       "      <td>0.0</td>\n",
       "      <td>0.0</td>\n",
       "      <td>0.0</td>\n",
       "      <td>NaN</td>\n",
       "      <td>production</td>\n",
       "    </tr>\n",
       "    <tr>\n",
       "      <th>4963</th>\n",
       "      <td>2016-09-14</td>\n",
       "      <td>0.00</td>\n",
       "      <td>0.000</td>\n",
       "      <td>0.000</td>\n",
       "      <td>0.000</td>\n",
       "      <td>19.959</td>\n",
       "      <td>0.97304</td>\n",
       "      <td>0.000</td>\n",
       "      <td>0.000</td>\n",
       "      <td>0.016</td>\n",
       "      <td>0.0</td>\n",
       "      <td>0.0</td>\n",
       "      <td>0.0</td>\n",
       "      <td>NaN</td>\n",
       "      <td>production</td>\n",
       "    </tr>\n",
       "    <tr>\n",
       "      <th>4964</th>\n",
       "      <td>2016-09-15</td>\n",
       "      <td>0.00</td>\n",
       "      <td>0.000</td>\n",
       "      <td>0.000</td>\n",
       "      <td>0.000</td>\n",
       "      <td>19.959</td>\n",
       "      <td>0.97778</td>\n",
       "      <td>0.000</td>\n",
       "      <td>0.000</td>\n",
       "      <td>0.024</td>\n",
       "      <td>0.0</td>\n",
       "      <td>0.0</td>\n",
       "      <td>0.0</td>\n",
       "      <td>NaN</td>\n",
       "      <td>production</td>\n",
       "    </tr>\n",
       "    <tr>\n",
       "      <th>4965</th>\n",
       "      <td>2016-09-16</td>\n",
       "      <td>0.00</td>\n",
       "      <td>0.000</td>\n",
       "      <td>0.000</td>\n",
       "      <td>0.000</td>\n",
       "      <td>19.959</td>\n",
       "      <td>0.96101</td>\n",
       "      <td>0.000</td>\n",
       "      <td>0.000</td>\n",
       "      <td>0.025</td>\n",
       "      <td>0.0</td>\n",
       "      <td>0.0</td>\n",
       "      <td>0.0</td>\n",
       "      <td>NaN</td>\n",
       "      <td>production</td>\n",
       "    </tr>\n",
       "    <tr>\n",
       "      <th>4966</th>\n",
       "      <td>2016-09-17</td>\n",
       "      <td>0.00</td>\n",
       "      <td>0.000</td>\n",
       "      <td>0.000</td>\n",
       "      <td>0.000</td>\n",
       "      <td>19.959</td>\n",
       "      <td>0.90339</td>\n",
       "      <td>0.000</td>\n",
       "      <td>0.000</td>\n",
       "      <td>0.026</td>\n",
       "      <td>0.0</td>\n",
       "      <td>0.0</td>\n",
       "      <td>0.0</td>\n",
       "      <td>NaN</td>\n",
       "      <td>production</td>\n",
       "    </tr>\n",
       "  </tbody>\n",
       "</table>\n",
       "<p>3056 rows × 15 columns</p>\n",
       "</div>"
      ],
      "text/plain": [
       "        DATEPRD  ON_STREAM_HRS  AVG_DOWNHOLE_PRESSURE  \\\n",
       "1911 2008-02-12          11.50                308.056   \n",
       "1912 2008-02-13          24.00                303.034   \n",
       "1913 2008-02-14          22.50                295.586   \n",
       "1914 2008-02-15          23.15                297.663   \n",
       "1915 2008-02-16          24.00                295.936   \n",
       "...         ...            ...                    ...   \n",
       "4962 2016-09-13           0.00                  0.000   \n",
       "4963 2016-09-14           0.00                  0.000   \n",
       "4964 2016-09-15           0.00                  0.000   \n",
       "4965 2016-09-16           0.00                  0.000   \n",
       "4966 2016-09-17           0.00                  0.000   \n",
       "\n",
       "      AVG_DOWNHOLE_TEMPERATURE  AVG_DP_TUBING  AVG_ANNULUS_PRESS  \\\n",
       "1911                   104.418        201.250             18.640   \n",
       "1912                   105.403        182.145             16.467   \n",
       "1913                   105.775        181.868             12.660   \n",
       "1914                   105.752        180.832              5.264   \n",
       "1915                   105.811        180.501             12.385   \n",
       "...                        ...            ...                ...   \n",
       "4962                     0.000          0.000             19.959   \n",
       "4963                     0.000          0.000             19.959   \n",
       "4964                     0.000          0.000             19.959   \n",
       "4965                     0.000          0.000             19.959   \n",
       "4966                     0.000          0.000             19.959   \n",
       "\n",
       "      AVG_CHOKE_SIZE_P  AVG_WHP_P  AVG_WHT_P  DP_CHOKE_SIZE  BORE_OIL_VOL  \\\n",
       "1911          14.48443    106.806     16.295         92.475         285.0   \n",
       "1912          22.83299    120.889     53.374         89.620        1870.0   \n",
       "1913          31.24997    113.718     72.738         80.120        3124.0   \n",
       "1914          28.51893    116.831     69.996         84.251        2608.0   \n",
       "1915          30.22790    115.434     71.518         82.359        3052.0   \n",
       "...                ...        ...        ...            ...           ...   \n",
       "4962           0.99291      0.000      0.000          0.013           0.0   \n",
       "4963           0.97304      0.000      0.000          0.016           0.0   \n",
       "4964           0.97778      0.000      0.000          0.024           0.0   \n",
       "4965           0.96101      0.000      0.000          0.025           0.0   \n",
       "4966           0.90339      0.000      0.000          0.026           0.0   \n",
       "\n",
       "      BORE_GAS_VOL  BORE_WAT_VOL  BORE_WI_VOL   FLOW_KIND  \n",
       "1911       38889.0         385.0          NaN  production  \n",
       "1912      285246.0           7.0          NaN  production  \n",
       "1913      509955.0           1.0          NaN  production  \n",
       "1914      383427.0           1.0          NaN  production  \n",
       "1915      418474.0           5.0          NaN  production  \n",
       "...            ...           ...          ...         ...  \n",
       "4962           0.0           0.0          NaN  production  \n",
       "4963           0.0           0.0          NaN  production  \n",
       "4964           0.0           0.0          NaN  production  \n",
       "4965           0.0           0.0          NaN  production  \n",
       "4966           0.0           0.0          NaN  production  \n",
       "\n",
       "[3056 rows x 15 columns]"
      ]
     },
     "execution_count": 23,
     "metadata": {},
     "output_type": "execute_result"
    }
   ],
   "source": [
    "well2"
   ]
  },
  {
   "cell_type": "code",
   "execution_count": 24,
   "id": "e5d50191",
   "metadata": {},
   "outputs": [
    {
     "data": {
      "text/plain": [
       "array([11.5 , 24.  , 22.5 , 23.15, 23.  , 23.67, 15.14, 22.83, 23.78,\n",
       "       23.83,  7.48,  0.  ,  1.19, 10.98, 14.03, 12.98,  4.  , 21.26,\n",
       "       20.55,  9.38, 21.57, 22.71, 15.96,  5.25, 20.19,  0.5 , 13.42,\n",
       "       22.67, 23.5 , 15.83, 21.35, 13.17,  6.31, 23.25,  7.53,  6.98,\n",
       "       10.5 ,  9.71,  8.5 ,  5.71, 23.6 , 22.17, 18.29, 22.33, 19.  ,\n",
       "       25.  , 23.17, 23.88, 22.  , 23.68, 15.84, 21.83, 22.64, 11.17,\n",
       "       18.53, 21.23, 19.94,  6.5 , 13.  , 22.14,  4.19,  6.14,  2.48,\n",
       "       20.86, 21.98, 10.66,  0.25, 23.84, 22.91, 13.93, 13.99, 21.34,\n",
       "        2.16, 11.58, 14.34, 10.83, 22.01, 21.75,  6.49,  7.99,  2.68,\n",
       "       24.83, 23.33, 15.5 , 21.5 , 22.42, 22.86, 23.48, 15.03, 20.14,\n",
       "       13.59, 13.8 , 22.04, 18.5 , 19.69, 17.6 , 20.83, 13.34, 15.33,\n",
       "       21.67, 23.09,  0.18, 20.42, 21.49,  4.18, 15.66, 23.34, 10.  ,\n",
       "       20.75,  3.16, 20.34, 22.08, 14.78, 14.06, 20.5 ,  8.  , 21.25,\n",
       "       22.92, 18.04, 19.59, 11.68,  7.68,  8.8 ,  8.84,  4.24, 16.18,\n",
       "       18.01,  3.08, 11.18, 21.  ,  6.84, 17.4 , 20.68,  4.33,  2.01,\n",
       "        6.99, 23.16, 23.01, 11.  , 12.99, 20.  , 15.67, 11.64, 20.97,\n",
       "       14.36,  4.56, 14.31,  4.31, 21.14, 16.73, 17.98, 17.  , 10.48,\n",
       "       23.39,  2.75, 13.18, 18.  , 16.34, 14.  , 16.76, 23.42, 14.29,\n",
       "       17.69, 16.  ,  0.63,  2.99,  5.18,  7.  , 11.71,  8.54, 23.95,\n",
       "        9.21,  2.36, 15.19, 12.86, 13.86, 21.53,  7.33, 22.3 , 14.89,\n",
       "       21.17, 21.76, 12.67,  9.41,  5.34,  8.49, 23.75,  2.18,  0.84,\n",
       "        4.68, 15.98, 18.64, 10.64, 16.31,  9.56,  8.31, 17.03, 12.31,\n",
       "        8.86, 24.14, 10.19, 13.48, 11.03, 16.33, 10.28,  9.23, 14.5 ,\n",
       "        8.06, 20.28, 18.39, 13.98,  5.19, 10.14,  9.64,  2.  , 21.69,\n",
       "        7.9 , 12.39,  6.56,  7.78, 10.56, 13.94, 18.06,  5.  , 21.96,\n",
       "       14.49, 15.18, 11.16,  2.5 , 13.83,  1.33, 16.54,  1.26, 14.58,\n",
       "        8.94,  5.78, 14.23,  9.5 , 16.11,  2.23, 17.11, 11.98, 23.38,\n",
       "        8.13,  9.  , 13.32, 13.61, 23.08, 23.32, 19.5 , 11.33, 23.58,\n",
       "       16.26, 15.  , 14.44, 20.73])"
      ]
     },
     "execution_count": 24,
     "metadata": {},
     "output_type": "execute_result"
    }
   ],
   "source": [
    "well2['ON_STREAM_HRS'].unique()"
   ]
  },
  {
   "cell_type": "code",
   "execution_count": 25,
   "id": "78c340b2",
   "metadata": {},
   "outputs": [],
   "source": [
    "multiplier = 24/well2['ON_STREAM_HRS']"
   ]
  },
  {
   "cell_type": "code",
   "execution_count": 26,
   "id": "b39be728",
   "metadata": {},
   "outputs": [
    {
     "data": {
      "text/plain": [
       "1911    2.086957\n",
       "1912    1.000000\n",
       "1913    1.066667\n",
       "1914    1.036717\n",
       "1915    1.000000\n",
       "          ...   \n",
       "4962         inf\n",
       "4963         inf\n",
       "4964         inf\n",
       "4965         inf\n",
       "4966         inf\n",
       "Name: ON_STREAM_HRS, Length: 3056, dtype: float64"
      ]
     },
     "execution_count": 26,
     "metadata": {},
     "output_type": "execute_result"
    }
   ],
   "source": [
    "multiplier"
   ]
  },
  {
   "cell_type": "code",
   "execution_count": 27,
   "id": "c2cde5cc",
   "metadata": {},
   "outputs": [],
   "source": [
    "well2['new_oil'] = well2['BORE_OIL_VOL']*multiplier"
   ]
  },
  {
   "cell_type": "code",
   "execution_count": 28,
   "id": "7d97ec18",
   "metadata": {},
   "outputs": [],
   "source": [
    "well2['IDEAL_OIL_PROD_RATE(bbl/hrs)'] = well2['BORE_OIL_VOL']*well2['ON_STREAM_HRS']"
   ]
  },
  {
   "cell_type": "code",
   "execution_count": 29,
   "id": "fcac10b5",
   "metadata": {},
   "outputs": [
    {
     "data": {
      "text/plain": [
       "[<matplotlib.lines.Line2D at 0x1d8e3934130>]"
      ]
     },
     "execution_count": 29,
     "metadata": {},
     "output_type": "execute_result"
    },
    {
     "data": {
      "image/png": "[encoded data removed]",
      "text/plain": [
       "<Figure size 432x288 with 1 Axes>"
      ]
     },
     "metadata": {
      "needs_background": "light"
     },
     "output_type": "display_data"
    }
   ],
   "source": [
    "\n",
    "plt.plot(well2['DATEPRD'],well2['IDEAL_OIL_PROD_RATE(bbl/hrs)'],color= 'orange')"
   ]
  },
  {
   "cell_type": "code",
   "execution_count": 30,
   "id": "cbb6d611",
   "metadata": {},
   "outputs": [
    {
     "data": {
      "text/plain": [
       "[<matplotlib.lines.Line2D at 0x1d8e3b4b130>]"
      ]
     },
     "execution_count": 30,
     "metadata": {},
     "output_type": "execute_result"
    },
    {
     "data": {
      "image/png": "[encoded data removed]",
      "text/plain": [
       "<Figure size 432x288 with 1 Axes>"
      ]
     },
     "metadata": {
      "needs_background": "light"
     },
     "output_type": "display_data"
    }
   ],
   "source": [
    "plt.plot(well2['DATEPRD'],well2['BORE_OIL_VOL'],color= 'pink')"
   ]
  },
  {
   "cell_type": "code",
   "execution_count": 31,
   "id": "ef0e4bd8",
   "metadata": {},
   "outputs": [],
   "source": [
    "well2 = well2[well2['new_oil']<10000]"
   ]
  },
  {
   "cell_type": "code",
   "execution_count": 32,
   "id": "d7ffda13",
   "metadata": {},
   "outputs": [
    {
     "data": {
      "text/plain": [
       "[<matplotlib.lines.Line2D at 0x1d8e3bbb5e0>]"
      ]
     },
     "execution_count": 32,
     "metadata": {},
     "output_type": "execute_result"
    },
    {
     "data": {
      "image/png": "[encoded data removed]",
      "text/plain": [
       "<Figure size 432x288 with 1 Axes>"
      ]
     },
     "metadata": {
      "needs_background": "light"
     },
     "output_type": "display_data"
    }
   ],
   "source": [
    "plt.plot(well2['DATEPRD'],well2['new_oil'],color= 'blue')"
   ]
  },
  {
   "cell_type": "code",
   "execution_count": null,
   "id": "2974f079",
   "metadata": {},
   "outputs": [],
   "source": []
  },
  {
   "cell_type": "code",
   "execution_count": 33,
   "id": "78ce6069",
   "metadata": {},
   "outputs": [
    {
     "name": "stderr",
     "output_type": "stream",
     "text": [
      "C:\\Users\\sahil\\AppData\\Local\\Temp/ipykernel_6256/1730932490.py:1: SettingWithCopyWarning: \n",
      "A value is trying to be set on a copy of a slice from a DataFrame.\n",
      "Try using .loc[row_indexer,col_indexer] = value instead\n",
      "\n",
      "See the caveats in the documentation: https://pandas.pydata.org/pandas-docs/stable/user_guide/indexing.html#returning-a-view-versus-a-copy\n",
      "  well2['new_water'] = well2['BORE_WAT_VOL']*multiplier\n"
     ]
    }
   ],
   "source": [
    "well2['new_water'] = well2['BORE_WAT_VOL']*multiplier"
   ]
  },
  {
   "cell_type": "code",
   "execution_count": 34,
   "id": "05443afa",
   "metadata": {},
   "outputs": [
    {
     "data": {
      "text/plain": [
       "[<matplotlib.lines.Line2D at 0x1d8e3c29ac0>]"
      ]
     },
     "execution_count": 34,
     "metadata": {},
     "output_type": "execute_result"
    },
    {
     "data": {
      "image/png": "[encoded data removed]",
      "text/plain": [
       "<Figure size 432x288 with 1 Axes>"
      ]
     },
     "metadata": {
      "needs_background": "light"
     },
     "output_type": "display_data"
    }
   ],
   "source": [
    "plt.plot(well2['DATEPRD'],well2['new_water'],color= 'skyblue')"
   ]
  },
  {
   "cell_type": "code",
   "execution_count": 35,
   "id": "aa536e1a",
   "metadata": {},
   "outputs": [
    {
     "name": "stderr",
     "output_type": "stream",
     "text": [
      "C:\\Users\\sahil\\AppData\\Local\\Temp/ipykernel_6256/1979345837.py:1: SettingWithCopyWarning: \n",
      "A value is trying to be set on a copy of a slice from a DataFrame.\n",
      "Try using .loc[row_indexer,col_indexer] = value instead\n",
      "\n",
      "See the caveats in the documentation: https://pandas.pydata.org/pandas-docs/stable/user_guide/indexing.html#returning-a-view-versus-a-copy\n",
      "  well2['new_gas'] = well2['BORE_GAS_VOL']*multiplier\n"
     ]
    },
    {
     "data": {
      "text/plain": [
       "[<matplotlib.lines.Line2D at 0x1d8e2778130>]"
      ]
     },
     "execution_count": 35,
     "metadata": {},
     "output_type": "execute_result"
    },
    {
     "data": {
      "image/png": "[encoded data removed]",
      "text/plain": [
       "<Figure size 432x288 with 1 Axes>"
      ]
     },
     "metadata": {
      "needs_background": "light"
     },
     "output_type": "display_data"
    }
   ],
   "source": [
    "well2['new_gas'] = well2['BORE_GAS_VOL']*multiplier\n",
    "plt.plot(well2['DATEPRD'],well2['new_gas'],color= 'green')"
   ]
  },
  {
   "cell_type": "code",
   "execution_count": null,
   "id": "d197940f",
   "metadata": {},
   "outputs": [],
   "source": []
  },
  {
   "cell_type": "code",
   "execution_count": 36,
   "id": "6646c2c5",
   "metadata": {},
   "outputs": [
    {
     "data": {
      "text/plain": [
       "[<matplotlib.lines.Line2D at 0x1d8e1c42b20>]"
      ]
     },
     "execution_count": 36,
     "metadata": {},
     "output_type": "execute_result"
    },
    {
     "data": {
      "image/png": "[encoded data removed]",
      "text/plain": [
       "<Figure size 432x288 with 1 Axes>"
      ]
     },
     "metadata": {
      "needs_background": "light"
     },
     "output_type": "display_data"
    }
   ],
   "source": [
    "plt.plot(well2['DATEPRD'],well2['new_oil'],color= 'blue')\n",
    "plt.plot(well2['DATEPRD'],well2['new_water'],color= 'skyblue')\n"
   ]
  },
  {
   "cell_type": "code",
   "execution_count": 37,
   "id": "d9ec78c1",
   "metadata": {},
   "outputs": [
    {
     "data": {
      "text/plain": [
       "[<matplotlib.lines.Line2D at 0x1d8e27681c0>]"
      ]
     },
     "execution_count": 37,
     "metadata": {},
     "output_type": "execute_result"
    },
    {
     "data": {
      "image/png": "[encoded data removed]",
      "text/plain": [
       "<Figure size 432x288 with 1 Axes>"
      ]
     },
     "metadata": {
      "needs_background": "light"
     },
     "output_type": "display_data"
    }
   ],
   "source": [
    "plt.plot(well2['DATEPRD'],well2['BORE_OIL_VOL'],color= 'blue')\n",
    "plt.plot(well2['DATEPRD'],well2['BORE_WAT_VOL'],color= 'skyblue')"
   ]
  },
  {
   "cell_type": "code",
   "execution_count": 38,
   "id": "2ed01ac3",
   "metadata": {},
   "outputs": [
    {
     "name": "stderr",
     "output_type": "stream",
     "text": [
      "C:\\ProgramData\\Anaconda3\\lib\\site-packages\\pandas\\core\\frame.py:5176: SettingWithCopyWarning: \n",
      "A value is trying to be set on a copy of a slice from a DataFrame\n",
      "\n",
      "See the caveats in the documentation: https://pandas.pydata.org/pandas-docs/stable/user_guide/indexing.html#returning-a-view-versus-a-copy\n",
      "  return super().fillna(\n"
     ]
    }
   ],
   "source": [
    "well2.fillna(0,inplace=True)"
   ]
  },
  {
   "cell_type": "code",
   "execution_count": 39,
   "id": "9eccdd6e",
   "metadata": {},
   "outputs": [
    {
     "data": {
      "text/plain": [
       "Index(['DATEPRD', 'ON_STREAM_HRS', 'AVG_DOWNHOLE_PRESSURE',\n",
       "       'AVG_DOWNHOLE_TEMPERATURE', 'AVG_DP_TUBING', 'AVG_ANNULUS_PRESS',\n",
       "       'AVG_CHOKE_SIZE_P', 'AVG_WHP_P', 'AVG_WHT_P', 'DP_CHOKE_SIZE',\n",
       "       'BORE_OIL_VOL', 'BORE_GAS_VOL', 'BORE_WAT_VOL', 'BORE_WI_VOL',\n",
       "       'FLOW_KIND', 'new_oil', 'IDEAL_OIL_PROD_RATE(bbl/hrs)', 'new_water',\n",
       "       'new_gas'],\n",
       "      dtype='object')"
      ]
     },
     "execution_count": 39,
     "metadata": {},
     "output_type": "execute_result"
    }
   ],
   "source": [
    "well2.columns"
   ]
  },
  {
   "cell_type": "code",
   "execution_count": 40,
   "id": "baba068d",
   "metadata": {},
   "outputs": [],
   "source": [
    "X1 = well2[['AVG_DOWNHOLE_PRESSURE','AVG_DOWNHOLE_TEMPERATURE','AVG_DP_TUBING', 'AVG_ANNULUS_PRESS',\n",
    "       'AVG_CHOKE_SIZE_P', 'AVG_WHP_P', 'AVG_WHT_P', 'DP_CHOKE_SIZE','BORE_WI_VOL','BORE_WAT_VOL']][:1800]\n",
    "X2 = well2[['AVG_DOWNHOLE_PRESSURE','AVG_DOWNHOLE_TEMPERATURE','AVG_DP_TUBING', 'AVG_ANNULUS_PRESS',\n",
    "       'AVG_CHOKE_SIZE_P', 'AVG_WHP_P', 'AVG_WHT_P', 'DP_CHOKE_SIZE','BORE_WI_VOL','BORE_WAT_VOL']][1800:]"
   ]
  },
  {
   "cell_type": "code",
   "execution_count": 41,
   "id": "b1c69a74",
   "metadata": {},
   "outputs": [],
   "source": [
    "y1 = well2['new_oil'][:1800]\n",
    "y2 = well2['new_oil'][1800:]\n"
   ]
  },
  {
   "cell_type": "code",
   "execution_count": 42,
   "id": "0d48162d",
   "metadata": {},
   "outputs": [],
   "source": [
    "from sklearn.ensemble import RandomForestRegressor"
   ]
  },
  {
   "cell_type": "code",
   "execution_count": 43,
   "id": "b0f92608",
   "metadata": {},
   "outputs": [],
   "source": [
    "model1 = RandomForestRegressor()"
   ]
  },
  {
   "cell_type": "code",
   "execution_count": 44,
   "id": "29b90f65",
   "metadata": {},
   "outputs": [
    {
     "data": {
      "text/plain": [
       "RandomForestRegressor()"
      ]
     },
     "execution_count": 44,
     "metadata": {},
     "output_type": "execute_result"
    }
   ],
   "source": [
    "model1.fit(X1,y1)"
   ]
  },
  {
   "cell_type": "code",
   "execution_count": 45,
   "id": "2db954ea",
   "metadata": {},
   "outputs": [],
   "source": [
    "yp = model1.predict(X2)"
   ]
  },
  {
   "cell_type": "code",
   "execution_count": 46,
   "id": "032d14b2",
   "metadata": {},
   "outputs": [
    {
     "data": {
      "text/plain": [
       "[<matplotlib.lines.Line2D at 0x1d8e558bca0>]"
      ]
     },
     "execution_count": 46,
     "metadata": {},
     "output_type": "execute_result"
    },
    {
     "data": {
      "image/png": "[encoded data removed]",
      "text/plain": [
       "<Figure size 432x288 with 1 Axes>"
      ]
     },
     "metadata": {
      "needs_background": "light"
     },
     "output_type": "display_data"
    }
   ],
   "source": [
    "plt.plot(well2['DATEPRD'][:1800],y1,color= 'red')\n",
    "plt.plot(well2['DATEPRD'][1800:],yp,color= 'green')"
   ]
  },
  {
   "cell_type": "code",
   "execution_count": null,
   "id": "5de488c2",
   "metadata": {},
   "outputs": [],
   "source": []
  },
  {
   "cell_type": "code",
   "execution_count": 47,
   "id": "b6be5122",
   "metadata": {},
   "outputs": [],
   "source": [
    "from sklearn.metrics import mean_absolute_error as mae"
   ]
  },
  {
   "cell_type": "code",
   "execution_count": 48,
   "id": "0598a6bb",
   "metadata": {},
   "outputs": [
    {
     "data": {
      "text/plain": [
       "609.6981119007575"
      ]
     },
     "execution_count": 48,
     "metadata": {},
     "output_type": "execute_result"
    }
   ],
   "source": [
    "mae(y2,yp)"
   ]
  },
  {
   "cell_type": "code",
   "execution_count": 49,
   "id": "6e7e2552",
   "metadata": {
    "scrolled": true
   },
   "outputs": [
    {
     "data": {
      "text/plain": [
       "[<matplotlib.lines.Line2D at 0x1d8e65dc9d0>]"
      ]
     },
     "execution_count": 49,
     "metadata": {},
     "output_type": "execute_result"
    },
    {
     "data": {
      "image/png": "[encoded data removed]",
      "text/plain": [
       "<Figure size 432x288 with 1 Axes>"
      ]
     },
     "metadata": {
      "needs_background": "light"
     },
     "output_type": "display_data"
    }
   ],
   "source": [
    "plt.plot(well2['DATEPRD'][1800:],yp,color= 'red')\n",
    "plt.plot(well2['DATEPRD'][1800:],y2,color= 'green')"
   ]
  },
  {
   "cell_type": "code",
   "execution_count": 76,
   "id": "5071e4f8",
   "metadata": {},
   "outputs": [],
   "source": [
    "df = pd.read_csv('C:/Users/sahil/OneDrive/Desktop/pyreservoir-master/data/volve/volve_input_to_mbal.csv',index_col=0)"
   ]
  },
  {
   "cell_type": "code",
   "execution_count": 77,
   "id": "4b0a3e61",
   "metadata": {},
   "outputs": [
    {
     "data": {
      "text/html": [
       "<div>\n",
       "<style scoped>\n",
       "    .dataframe tbody tr th:only-of-type {\n",
       "        vertical-align: middle;\n",
       "    }\n",
       "\n",
       "    .dataframe tbody tr th {\n",
       "        vertical-align: top;\n",
       "    }\n",
       "\n",
       "    .dataframe thead th {\n",
       "        text-align: right;\n",
       "    }\n",
       "</style>\n",
       "<table border=\"1\" class=\"dataframe\">\n",
       "  <thead>\n",
       "    <tr style=\"text-align: right;\">\n",
       "      <th></th>\n",
       "      <th>p (psia)</th>\n",
       "      <th>Np (STB)</th>\n",
       "      <th>Gp (SCF)</th>\n",
       "      <th>Wp (STB)</th>\n",
       "      <th>Gi (SCF)</th>\n",
       "      <th>Wi (STB)</th>\n",
       "      <th>Rp (SCF/STB)</th>\n",
       "      <th>Bo (RB/STB)</th>\n",
       "      <th>Bg (RB/SCF)</th>\n",
       "      <th>Rs (SCF/STB)</th>\n",
       "      <th>Rv (STB/SCF)</th>\n",
       "    </tr>\n",
       "    <tr>\n",
       "      <th>Date</th>\n",
       "      <th></th>\n",
       "      <th></th>\n",
       "      <th></th>\n",
       "      <th></th>\n",
       "      <th></th>\n",
       "      <th></th>\n",
       "      <th></th>\n",
       "      <th></th>\n",
       "      <th></th>\n",
       "      <th></th>\n",
       "      <th></th>\n",
       "    </tr>\n",
       "  </thead>\n",
       "  <tbody>\n",
       "    <tr>\n",
       "      <th>2007-09-01</th>\n",
       "      <td>4780.59</td>\n",
       "      <td>0</td>\n",
       "      <td>0</td>\n",
       "      <td>0.0</td>\n",
       "      <td>0</td>\n",
       "      <td>0</td>\n",
       "      <td>0.0</td>\n",
       "      <td>1.304902</td>\n",
       "      <td>0.000962</td>\n",
       "      <td>627.711085</td>\n",
       "      <td>0.0</td>\n",
       "    </tr>\n",
       "    <tr>\n",
       "      <th>2007-10-01</th>\n",
       "      <td>4780.59</td>\n",
       "      <td>0</td>\n",
       "      <td>0</td>\n",
       "      <td>0.0</td>\n",
       "      <td>0</td>\n",
       "      <td>0</td>\n",
       "      <td>0.0</td>\n",
       "      <td>1.304902</td>\n",
       "      <td>0.000962</td>\n",
       "      <td>627.711085</td>\n",
       "      <td>0.0</td>\n",
       "    </tr>\n",
       "    <tr>\n",
       "      <th>2007-11-01</th>\n",
       "      <td>4780.59</td>\n",
       "      <td>0</td>\n",
       "      <td>0</td>\n",
       "      <td>0.0</td>\n",
       "      <td>0</td>\n",
       "      <td>0</td>\n",
       "      <td>0.0</td>\n",
       "      <td>1.304902</td>\n",
       "      <td>0.000962</td>\n",
       "      <td>627.711085</td>\n",
       "      <td>0.0</td>\n",
       "    </tr>\n",
       "    <tr>\n",
       "      <th>2007-12-01</th>\n",
       "      <td>4780.59</td>\n",
       "      <td>0</td>\n",
       "      <td>0</td>\n",
       "      <td>0.0</td>\n",
       "      <td>0</td>\n",
       "      <td>0</td>\n",
       "      <td>0.0</td>\n",
       "      <td>1.304902</td>\n",
       "      <td>0.000962</td>\n",
       "      <td>627.711085</td>\n",
       "      <td>0.0</td>\n",
       "    </tr>\n",
       "    <tr>\n",
       "      <th>2008-01-01</th>\n",
       "      <td>4780.59</td>\n",
       "      <td>0</td>\n",
       "      <td>0</td>\n",
       "      <td>0.0</td>\n",
       "      <td>0</td>\n",
       "      <td>0</td>\n",
       "      <td>0.0</td>\n",
       "      <td>1.304902</td>\n",
       "      <td>0.000962</td>\n",
       "      <td>627.711085</td>\n",
       "      <td>0.0</td>\n",
       "    </tr>\n",
       "  </tbody>\n",
       "</table>\n",
       "</div>"
      ],
      "text/plain": [
       "            p (psia)  Np (STB)  Gp (SCF)  Wp (STB)  Gi (SCF)  Wi (STB)  \\\n",
       "Date                                                                     \n",
       "2007-09-01   4780.59         0         0       0.0         0         0   \n",
       "2007-10-01   4780.59         0         0       0.0         0         0   \n",
       "2007-11-01   4780.59         0         0       0.0         0         0   \n",
       "2007-12-01   4780.59         0         0       0.0         0         0   \n",
       "2008-01-01   4780.59         0         0       0.0         0         0   \n",
       "\n",
       "            Rp (SCF/STB)  Bo (RB/STB)  Bg (RB/SCF)  Rs (SCF/STB)  Rv (STB/SCF)  \n",
       "Date                                                                            \n",
       "2007-09-01           0.0     1.304902     0.000962    627.711085           0.0  \n",
       "2007-10-01           0.0     1.304902     0.000962    627.711085           0.0  \n",
       "2007-11-01           0.0     1.304902     0.000962    627.711085           0.0  \n",
       "2007-12-01           0.0     1.304902     0.000962    627.711085           0.0  \n",
       "2008-01-01           0.0     1.304902     0.000962    627.711085           0.0  "
      ]
     },
     "execution_count": 77,
     "metadata": {},
     "output_type": "execute_result"
    }
   ],
   "source": [
    "df.head()"
   ]
  },
  {
   "cell_type": "code",
   "execution_count": 79,
   "id": "342787c8",
   "metadata": {},
   "outputs": [],
   "source": [
    "import datetime\n",
    "df.index = pd.to_datetime(df.index)"
   ]
  },
  {
   "cell_type": "code",
   "execution_count": 80,
   "id": "57890771",
   "metadata": {},
   "outputs": [
    {
     "data": {
      "text/plain": [
       "Index(['p (psia)', 'Np (STB)', 'Gp (SCF)', 'Wp (STB)', 'Gi (SCF)', 'Wi (STB)',\n",
       "       'Rp (SCF/STB)', 'Bo (RB/STB)', 'Bg (RB/SCF)', 'Rs (SCF/STB)',\n",
       "       'Rv (STB/SCF)'],\n",
       "      dtype='object')"
      ]
     },
     "execution_count": 80,
     "metadata": {},
     "output_type": "execute_result"
    }
   ],
   "source": [
    "df.columns"
   ]
  },
  {
   "cell_type": "code",
   "execution_count": 83,
   "id": "e1094213",
   "metadata": {},
   "outputs": [
    {
     "data": {
      "text/plain": [
       "array([<AxesSubplot:xlabel='Date'>, <AxesSubplot:xlabel='Date'>,\n",
       "       <AxesSubplot:xlabel='Date'>, <AxesSubplot:xlabel='Date'>,\n",
       "       <AxesSubplot:xlabel='Date'>, <AxesSubplot:xlabel='Date'>,\n",
       "       <AxesSubplot:xlabel='Date'>, <AxesSubplot:xlabel='Date'>,\n",
       "       <AxesSubplot:xlabel='Date'>, <AxesSubplot:xlabel='Date'>,\n",
       "       <AxesSubplot:xlabel='Date'>], dtype=object)"
      ]
     },
     "execution_count": 83,
     "metadata": {},
     "output_type": "execute_result"
    },
    {
     "data": {
      "image/png": "[encoded data removed]",
      "text/plain": [
       "<Figure size 576x2160 with 11 Axes>"
      ]
     },
     "metadata": {
      "needs_background": "light"
     },
     "output_type": "display_data"
    }
   ],
   "source": [
    "df.plot(subplots=True, figsize=(8,30))"
   ]
  },
  {
   "cell_type": "code",
   "execution_count": 88,
   "id": "1defec95",
   "metadata": {},
   "outputs": [
    {
     "name": "stderr",
     "output_type": "stream",
     "text": [
      "C:\\ProgramData\\Anaconda3\\lib\\site-packages\\seaborn\\_decorators.py:36: FutureWarning: Pass the following variables as keyword args: x, y. From version 0.12, the only valid positional argument will be `data`, and passing other arguments without an explicit keyword will result in an error or misinterpretation.\n",
      "  warnings.warn(\n"
     ]
    },
    {
     "data": {
      "text/plain": [
       "<AxesSubplot:xlabel='Bo (RB/STB)', ylabel='p (psia)'>"
      ]
     },
     "execution_count": 88,
     "metadata": {},
     "output_type": "execute_result"
    },
    {
     "data": {
      "image/png": "[encoded data removed]",
      "text/plain": [
       "<Figure size 432x288 with 1 Axes>"
      ]
     },
     "metadata": {
      "needs_background": "light"
     },
     "output_type": "display_data"
    }
   ],
   "source": [
    "sns.scatterplot(df['Bo (RB/STB)'],df['p (psia)'])"
   ]
  },
  {
   "cell_type": "code",
   "execution_count": 93,
   "id": "d47242c0",
   "metadata": {},
   "outputs": [
    {
     "name": "stderr",
     "output_type": "stream",
     "text": [
      "C:\\ProgramData\\Anaconda3\\lib\\site-packages\\seaborn\\_decorators.py:36: FutureWarning: Pass the following variables as keyword args: x, y. From version 0.12, the only valid positional argument will be `data`, and passing other arguments without an explicit keyword will result in an error or misinterpretation.\n",
      "  warnings.warn(\n"
     ]
    },
    {
     "data": {
      "text/plain": [
       "<AxesSubplot:ylabel='p (psia)'>"
      ]
     },
     "execution_count": 93,
     "metadata": {},
     "output_type": "execute_result"
    },
    {
     "data": {
      "image/png": "[encoded data removed]",
      "text/plain": [
       "<Figure size 432x288 with 1 Axes>"
      ]
     },
     "metadata": {
      "needs_background": "light"
     },
     "output_type": "display_data"
    }
   ],
   "source": [
    "sns.scatterplot(5.6*df['Bg (RB/SCF)'] + df['Bo (RB/STB)'],df['p (psia)'])"
   ]
  },
  {
   "cell_type": "code",
   "execution_count": 115,
   "id": "55273069",
   "metadata": {},
   "outputs": [
    {
     "ename": "IndentationError",
     "evalue": "expected an indented block (Temp/ipykernel_6256/2887023028.py, line 865)",
     "output_type": "error",
     "traceback": [
      "\u001b[1;36m  File \u001b[1;32m\"C:\\Users\\sahil\\AppData\\Local\\Temp/ipykernel_6256/2887023028.py\"\u001b[1;36m, line \u001b[1;32m865\u001b[0m\n\u001b[1;33m    #         plt.show()\u001b[0m\n\u001b[1;37m                            ^\u001b[0m\n\u001b[1;31mIndentationError\u001b[0m\u001b[1;31m:\u001b[0m expected an indented block\n"
     ]
    }
   ],
   "source": [
    "# %load C:/Users/sahil/OneDrive/Desktop/pyreservoir-master/matbal/mbal.py\n",
    "\"\"\"\n",
    "Material Balance Plots\n",
    "@author: Yohanes Nuwara\n",
    "@email: ign.nuwara97@gmail.com\n",
    "\"\"\"\n",
    "\n",
    "def initial_hydrocarbon_in_place(Nfoi, Gfgi, Rv, Rs):\n",
    "  \"\"\"\n",
    "  Calculate OOIP and OGIP from Nfoi and Gfgi\n",
    "  And output the result to labels in the plot\n",
    "  \"\"\"\n",
    "  import matplotlib.patches as mpl_patches\n",
    "  \n",
    "  Rvi, Rsi = Rv[0], Rs[0]\n",
    "  OOIP = Nfoi + Gfgi * Rvi\n",
    "  OGIP = Gfgi + Nfoi * Rsi\n",
    "\n",
    "  labels = []\n",
    "  labels.append(\"Nfoi = {0:.4g} STB\".format(Nfoi))\n",
    "  labels.append(\"Gfgi = {0:.4g} SCF\".format(Gfgi))\n",
    "  labels.append(\"OOIP = {0:.4g} STB\".format(OOIP))\n",
    "  labels.append(\"OGIP = {0:.4g} SCF\".format(OGIP))\n",
    "\n",
    "  handles = [mpl_patches.Rectangle((0, 0), 1, 1, fc=\"white\", ec=\"white\", \n",
    "                                  lw=0, alpha=0)] * 4\n",
    "  return labels, handles, OOIP, OGIP   \n",
    "\n",
    "class drygas():\n",
    "    \"\"\"\n",
    "    Dry-Gas Material Balance Plot\n",
    "    \"\"\"\n",
    "    def calculate_params(self, p, Bg, Gp, cf, cw, swi):\n",
    "        \"\"\"\n",
    "        Calculate Material Balance Paramaters for Dry-Gas Reservoir\n",
    "        \n",
    "        Output: F, Btg, Efw, Eg\n",
    "        \n",
    "        \"\"\"\n",
    "        import numpy as np\n",
    "\n",
    "        pi = p[0]\n",
    "        Bgi = Bg[0]\n",
    "\n",
    "        # total gas FVF equals the gas FVF itself (for dry-gas)\n",
    "        Btg = Bg\n",
    "\n",
    "        # calculate Efw\n",
    "        Efw = ((cf + cw * swi) / (1 - swi)) * (pi - p)\n",
    "\n",
    "        F = []; Eg = []\n",
    "        for i in range(len(p)):\n",
    "            F_ = Bg[i] * Gp[i]\n",
    "            Eg_ = Btg[i] - Bgi\n",
    "            F.append(F_); Eg.append(Eg_)\n",
    "\n",
    "        F = np.array(F); Eg = np.array(Eg)\n",
    "        return F, Btg, Efw, Eg\n",
    "\n",
    "    def plot(self, p, z, Gp, F, Btg, Efw, Eg):\n",
    "        \"\"\"Create Material Balance Plots for Dry-Gas Reservoir\"\"\"\n",
    "        import numpy as np\n",
    "        import matplotlib.pyplot as plt\n",
    "        from scipy.optimize import curve_fit\n",
    "\n",
    "        # no volatile and vapor component, define Rv as zeros\n",
    "        Rv, Rs = np.zeros(len(p)), np.zeros(len(p))\n",
    "\n",
    "        # plot attributes\n",
    "        title_size = 12\n",
    "        title_pad = 10\n",
    "\n",
    "        # linear function for curve-fit\n",
    "        def linear_zero_intercept(x, m):\n",
    "            y = m * x\n",
    "            return y\n",
    "\n",
    "        def linear_with_intercept(x, m, c):\n",
    "            y = m * x + c\n",
    "            return y\n",
    "\n",
    "        # Plot 1: F vs Eg\n",
    "        plt.subplot(3,2,1)\n",
    "        x1, y1 = Eg, F\n",
    "        plt.plot(x1, y1, '.-')\n",
    "        plt.title('Plot 1: F vs Eg', size=title_size, pad=title_pad)\n",
    "        plt.xlabel('Eg (RB/scf)')\n",
    "        plt.ylabel('F (res ft3)')\n",
    "\n",
    "        ## curve-fitting to calculate the slope as OGIP\n",
    "        x1_norm = x1 / max(x1) # normalize x\n",
    "        y1_norm = y1 / max(y1) # normalize y\n",
    "        popt, pcov = curve_fit(linear_zero_intercept, x1_norm, y1_norm)\n",
    "\n",
    "        m = popt[0]\n",
    "        Gfgi = m * max(y1) / max(x1) # denormalize the slope, hence the OGIP\n",
    "\n",
    "        ## Output results into text in plot\n",
    "        Nfoi = 0\n",
    "        labels, handles, OOIP, OGIP = initial_hydrocarbon_in_place(Nfoi, Gfgi, Rv, Rs) \n",
    "\n",
    "        ## plot the regression line\n",
    "        x1_fit = np.linspace(min(x1), max(x1), 5)\n",
    "        y1_fit = linear_zero_intercept(x1_fit, Gfgi)\n",
    "        plt.plot(x1_fit, y1_fit)\n",
    "\n",
    "        plt.legend(handles, labels, loc='best', fontsize='small', \n",
    "                   fancybox=True, framealpha=0.7, \n",
    "                   handlelength=0, handletextpad=0) \n",
    "\n",
    "        # Plot 2: p/z vs Gp\n",
    "        plt.subplot(3,2,2)\n",
    "        x2, y2 = Gp, (p / z)\n",
    "        plt.plot(x2, y2, '.-')\n",
    "        plt.title('Plot 2: p/z vs Gp', size=title_size, pad=title_pad)\n",
    "        plt.xlabel('Gp (scf)')\n",
    "        plt.ylabel('p/z (psia)')\n",
    "\n",
    "        ## curve-fitting to calculate the slope as OGIP\n",
    "        x2_norm = x2 / max(x2) # normalize x\n",
    "        y2_norm = y2 / max(y2) # normalize y\n",
    "        popt, pcov = curve_fit(linear_with_intercept, x2_norm, y2_norm)\n",
    "\n",
    "        m, c = popt[0], popt[1]\n",
    "        Gfgi = (-c / m) * max(x2) # OGIP is the intercept at x-axis, and denormalized\n",
    "        m = m * max(y2) / max(x2) # denormalize the slope\n",
    "        c = c * max(y2) # denormalize the intercept\n",
    "\n",
    "        ## Output results into text in plot\n",
    "        Nfoi = 0\n",
    "        labels, handles, OOIP, OGIP = initial_hydrocarbon_in_place(Nfoi, Gfgi, Rv, Rs)         \n",
    "\n",
    "        ## plot the regression line\n",
    "        x2_fit = np.linspace(min(x2), max(x2), 5)\n",
    "        y2_fit = linear_with_intercept(x2_fit, m, c)\n",
    "        plt.plot(x2_fit, y2_fit)\n",
    "\n",
    "        plt.legend(handles, labels, loc='best', fontsize='small', \n",
    "                   fancybox=True, framealpha=0.7, \n",
    "                   handlelength=0, handletextpad=0)       \n",
    "\n",
    "        # Plot 3: F/Eg vs Gp\n",
    "        plt.subplot(3,2,3)\n",
    "        x3, y3 = Gp, (F / Eg)\n",
    "        plt.plot(x3, y3, '.-')\n",
    "        plt.title('Plot 3: Waterdrive Diagnostic Plot', size=title_size, pad=title_pad)\n",
    "        plt.xlabel('Gp (scf)')\n",
    "        plt.ylabel('F/Eg (scf)')\n",
    "\n",
    "        ## curve-fitting to calculate the slope as OGIP, here [1:] because NaN is removed\n",
    "        x3_norm = x3[1:] / max(x3[1:]) # normalize x\n",
    "        y3_norm = y3[1:] / max(y3[1:]) # normalize y\n",
    "        popt, pcov = curve_fit(linear_with_intercept, x3_norm, y3_norm)\n",
    "\n",
    "        m, c = popt[0], popt[1]\n",
    "        m = m * max(y3[1:]) / max(x3[1:]) # denormalize the slope\n",
    "        Gfgi = c * max(y3[1:]) # denormalize the intercept, hence the OGIP\n",
    "\n",
    "        ## Output results into text in plot\n",
    "        Nfoi = 0\n",
    "        labels, handles, OOIP, OGIP = initial_hydrocarbon_in_place(Nfoi, Gfgi, Rv, Rs)         \n",
    "\n",
    "        ## plot the regression line\n",
    "        x3_fit = np.linspace(min(x3[1:]), max(x3[1:]), 5)\n",
    "        y3_fit = linear_with_intercept(x3_fit, m, Gfgi)\n",
    "        plt.plot(x3_fit, y3_fit)\n",
    "\n",
    "        plt.legend(handles, labels, loc='best', fontsize='small', \n",
    "                   fancybox=True, framealpha=0.7, \n",
    "                   handlelength=0, handletextpad=0)           \n",
    "\n",
    "        # Plot 6: F vs (Eg+Bgi*Efw)\n",
    "        plt.subplot(3,2,4)\n",
    "        Bgi = Btg[0]\n",
    "        x6, y6 = (Eg + Bgi * Efw), F\n",
    "        plt.plot(x6, y6, '.-')\n",
    "        plt.title('Plot 6: F vs (Eg+Bgi*Efw)', size=title_size, pad=title_pad)\n",
    "        plt.xlabel('Eg+Bgi*Efw (res ft3/scf)')\n",
    "        plt.ylabel('F (res ft3)')\n",
    "\n",
    "        ## curve-fitting to calculate the slope as OGIP\n",
    "        x6_norm = x6 / max(x6) # normalize x\n",
    "        y6_norm = y6 / max(y6) # normalize y\n",
    "        popt, pcov = curve_fit(linear_zero_intercept, x6_norm, y6_norm)\n",
    "\n",
    "        m = popt[0]\n",
    "        Gfgi = m * max(y6) / max(x6) # denormalize the slope, hence the OGIP\n",
    "\n",
    "        ## Output results into text in plot\n",
    "        Nfoi = 0\n",
    "        labels, handles, OOIP, OGIP = initial_hydrocarbon_in_place(Nfoi, Gfgi, Rv, Rs)         \n",
    "\n",
    "        ## plot the regression line\n",
    "        x6_fit = np.linspace(min(x6), max(x6), 5)\n",
    "        y6_fit = linear_zero_intercept(x6_fit, Gfgi)\n",
    "        plt.plot(x6_fit, y6_fit)\n",
    "\n",
    "        plt.legend(handles, labels, loc='best', fontsize='small', \n",
    "                   fancybox=True, framealpha=0.7, \n",
    "                   handlelength=0, handletextpad=0)     \n",
    "\n",
    "        # Plot 7: ((p/z)*(1-Efw)) vs Gp\n",
    "        plt.subplot(3,2,5)\n",
    "        x7, y7 = Gp, ((p / z) * (1 - Efw))\n",
    "        plt.plot(x7, y7, '.-')\n",
    "        plt.title('Plot 7: ((p/z)*(1-Efw)) vs Gp', size=title_size, pad=title_pad)\n",
    "        plt.xlabel('Gp (scf)')\n",
    "        plt.ylabel('(p/z)*(1-Efw) (psia)')\n",
    "\n",
    "        ## curve-fitting to calculate the slope as OGIP\n",
    "        x7_norm = x7 / max(x7) # normalize x\n",
    "        y7_norm = y7 / max(y7) # normalize y\n",
    "        popt, pcov = curve_fit(linear_with_intercept, x7_norm, y7_norm)\n",
    "\n",
    "        m, c = popt[0], popt[1]\n",
    "        Gfgi = (-c / m) * max(x7) # OGIP is the intercept at x-axis, and denormalized\n",
    "        m = m * max(y7) / max(x7) # denormalize the slope\n",
    "        c = c * max(y7) # denormalize the intercept\n",
    "\n",
    "        ## Output results into text in plot\n",
    "        Nfoi = 0\n",
    "        labels, handles, OOIP, OGIP = initial_hydrocarbon_in_place(Nfoi, Gfgi, Rv, Rs)         \n",
    "\n",
    "        ## plot the regression line\n",
    "        x7_fit = np.linspace(min(x7), max(x7), 5)\n",
    "        y7_fit = linear_with_intercept(x7_fit, m, c)\n",
    "        plt.plot(x7_fit, y7_fit)\n",
    "\n",
    "        plt.legend(handles, labels, loc='best', fontsize='small', \n",
    "                   fancybox=True, framealpha=0.7, \n",
    "                   handlelength=0, handletextpad=0) \n",
    "\n",
    "        plt.tight_layout(pad=1.5)\n",
    "        plt.show()\n",
    "\n",
    "        return F, Eg, Efw\n",
    "\n",
    "class gascondensate():\n",
    "    \"\"\"\n",
    "    Gas-Condensate Material Balance Plot\n",
    "    \"\"\"\n",
    "    def calculate_params(self, p, pdew, Bg, Bo, Np, Gp, Gi, cf, cw, swi, Rs, Rv):\n",
    "        \"\"\"\n",
    "        Calculate Material Balance Paramaters for Gas-Condensate Reservoir\n",
    "        \n",
    "        Output: F, Btg, Efw, Eg\n",
    "        \"\"\"\n",
    "        import numpy as np\n",
    "        pi = p[0]\n",
    "        Rvi = Rv[0]\n",
    "        Bgi = Bg[0]\n",
    "\n",
    "        # calculate Efw\n",
    "        Efw = ((cf + cw * swi) / (1 - swi)) * (pi - p)\n",
    "\n",
    "        # calculate F and Btg\n",
    "        F = []; Btg = []; Eg = []\n",
    "        for i in range(len(p)):\n",
    "            if p[i] >= pdew:\n",
    "                # gas-condensate above dewpoint pressure\n",
    "                F_ = Bg[i] * Gp[i]\n",
    "                Btg_ = Bg[i]\n",
    "                Eg_ = Btg_ - Bgi\n",
    "\n",
    "            if p[i] < pdew:\n",
    "                # gas-condensate below dewpoint pressure\n",
    "                F_ = (Np[i] * ((Bo[i] - (Rs[i] * Bg[i])) / (1 - (Rv[i] * Rs[i])))) + ((Gp[i] - Gi[i]) * ((Bg[i] - (Rv[i] * Bo[i])) / (1 - (Rv[i] * Rs[i]))))\n",
    "                Btg_ = ((Bg[i] * (1 - (Rs[i] * Rvi))) + (Bo[i] * (Rvi - Rv[i]))) / (1 - (Rv[i] * Rs[i]))  # in RB/STB\n",
    "                Eg_ = Btg_ - Bgi\n",
    "\n",
    "            F.append(F_); Btg.append(Btg_); Eg.append(Eg_)\n",
    "\n",
    "        F, Btg, Eg = np.array(F), np.array(Btg), np.array(Eg)\n",
    "\n",
    "        return F, Btg, Efw, Eg\n",
    "\n",
    "    def plot(self, p, z, Gp, F, Btg, Efw, Eg, Rv):\n",
    "        \"\"\"Create Material Balance Plots for Dry-Gas Reservoir\"\"\"\n",
    "        import numpy as np\n",
    "        import matplotlib.pyplot as plt\n",
    "        from scipy.optimize import curve_fit\n",
    "        \n",
    "        # no vapor component, define Rs as zeros\n",
    "        Rs = np.zeros(len(p))\n",
    "\n",
    "        # plot attributes\n",
    "        title_size = 12\n",
    "        title_pad = 10\n",
    "\n",
    "        # linear function for curve-fit\n",
    "        def linear_zero_intercept(x, m):\n",
    "            y = m * x\n",
    "            return y\n",
    "\n",
    "        def linear_with_intercept(x, m, c):\n",
    "            y = m * x + c\n",
    "            return y\n",
    "\n",
    "        # Plot 1: F vs Eg\n",
    "        plt.subplot(3,2,1)\n",
    "        x1, y1 = Eg, F\n",
    "        plt.plot(x1, y1, '.-')\n",
    "        plt.title('Plot 1: F vs Eg', size=title_size, pad=title_pad)\n",
    "        plt.xlabel('Eg (RB/scf)')\n",
    "        plt.ylabel('F (res ft3)')\n",
    "\n",
    "        ## curve-fitting to calculate the slope as OGIP\n",
    "        x1_norm = x1 / max(x1) # normalize x\n",
    "        y1_norm = y1 / max(y1) # normalize y\n",
    "        popt, pcov = curve_fit(linear_zero_intercept, x1_norm, y1_norm)\n",
    "\n",
    "        m = popt[0]\n",
    "        Gfgi = m * max(y1) / max(x1) # denormalize the slope, hence the OGIP\n",
    "\n",
    "        ## Output results into text in plot\n",
    "        Nfoi = 0\n",
    "        labels, handles, OOIP, OGIP = initial_hydrocarbon_in_place(Nfoi, Gfgi, Rv, Rs)         \n",
    "\n",
    "        ## plot the regression line\n",
    "        x1_fit = np.linspace(min(x1), max(x1), 5)\n",
    "        y1_fit = linear_zero_intercept(x1_fit, Gfgi)\n",
    "        plt.plot(x1_fit, y1_fit)\n",
    "\n",
    "        plt.legend(handles, labels, loc='best', fontsize='small', \n",
    "                   fancybox=True, framealpha=0.7, \n",
    "                   handlelength=0, handletextpad=0) \n",
    "\n",
    "        # Plot 2: p/z vs Gp\n",
    "        plt.subplot(3,2,2)\n",
    "        plt.title('Plot 2: p/z vs Gp', size=title_size, pad=title_pad)\n",
    "        plt.xlabel('Gp (scf)')\n",
    "        plt.ylabel('p/z (psia)')\n",
    "\n",
    "        if np.all(z==0) == False:        \n",
    "          x2, y2 = Gp, (p / z)\n",
    "          plt.plot(x2, y2, '.-')\n",
    "\n",
    "          ## curve-fitting to calculate the slope as OGIP\n",
    "          x2_norm = x2 / max(x2) # normalize x\n",
    "          y2_norm = y2 / max(y2) # normalize y\n",
    "          popt, pcov = curve_fit(linear_with_intercept, x2_norm, y2_norm)\n",
    "\n",
    "          m, c = popt[0], popt[1]\n",
    "          Gfgi = (-c / m) * max(x2) # OGIP is the intercept at x-axis, and denormalized\n",
    "          m = m * max(y2) / max(x2) # denormalize the slope\n",
    "          c = c * max(y2) # denormalize the intercept\n",
    "\n",
    "          ## Output results into text in plot\n",
    "          Nfoi = 0\n",
    "          labels, handles, OOIP, OGIP = initial_hydrocarbon_in_place(Nfoi, Gfgi, Rv, Rs)       \n",
    "\n",
    "          ## plot the regression line\n",
    "          x2_fit = np.linspace(min(x2), max(x2), 5)\n",
    "          y2_fit = linear_with_intercept(x2_fit, m, c)\n",
    "          plt.plot(x2_fit, y2_fit)\n",
    "\n",
    "          plt.legend(handles, labels, loc='best', fontsize='small', \n",
    "                    fancybox=True, framealpha=0.7, \n",
    "                    handlelength=0, handletextpad=0)   \n",
    "\n",
    "        # Plot 3: F/Eg vs Gp\n",
    "        plt.subplot(3,2,3)\n",
    "        x3, y3 = Gp, (F / Eg)\n",
    "        plt.plot(x3, y3, '.-')\n",
    "        plt.title('Plot 3: Waterdrive Diagnostic Plot', size=title_size, pad=title_pad)\n",
    "        plt.xlabel('Gp (scf)')\n",
    "        plt.ylabel('F/Eg (scf)')\n",
    "\n",
    "        ## curve-fitting to calculate the slope as OGIP, here [1:] because NaN is removed\n",
    "        x3_norm = x3[1:] / max(x3[1:]) # normalize x\n",
    "        y3_norm = y3[1:] / max(y3[1:]) # normalize y\n",
    "        popt, pcov = curve_fit(linear_with_intercept, x3_norm, y3_norm)\n",
    "\n",
    "        m, c = popt[0], popt[1]\n",
    "        m = m * max(y3[1:]) / max(x3[1:]) # denormalize the slope\n",
    "        Gfgi = c * max(y3[1:]) # denormalize the intercept, hence the OGIP\n",
    "\n",
    "        ## Output results into text in plot\n",
    "        Nfoi = 0\n",
    "        labels, handles, OOIP, OGIP = initial_hydrocarbon_in_place(Nfoi, Gfgi, Rv, Rs)      \n",
    "\n",
    "        ## plot the regression line\n",
    "        x3_fit = np.linspace(min(x3[1:]), max(x3[1:]), 5)\n",
    "        y3_fit = linear_with_intercept(x3_fit, m, Gfgi)\n",
    "        plt.plot(x3_fit, y3_fit)\n",
    "\n",
    "        plt.legend(handles, labels, loc='best', fontsize='small', \n",
    "                   fancybox=True, framealpha=0.7, \n",
    "                   handlelength=0, handletextpad=0)         \n",
    "\n",
    "        # Plot 6: F vs (Eg+Bgi*Efw)\n",
    "        plt.subplot(3,2,4)\n",
    "        Bgi = Btg[0]\n",
    "        x6, y6 = (Eg + Bgi * Efw), F\n",
    "        plt.plot(x6, y6, '.-')\n",
    "        plt.title('Plot 6: F vs (Eg+Bgi*Efw)', size=title_size, pad=title_pad)\n",
    "        plt.xlabel('Eg+Bgi*Efw (res ft3/scf)')\n",
    "        plt.ylabel('F (res ft3)')\n",
    "\n",
    "        ## curve-fitting to calculate the slope as OGIP\n",
    "        x6_norm = x6 / max(x6) # normalize x\n",
    "        y6_norm = y6 / max(y6) # normalize y\n",
    "        popt, pcov = curve_fit(linear_zero_intercept, x6_norm, y6_norm)\n",
    "\n",
    "        m = popt[0]\n",
    "        Gfgi = m * max(y6) / max(x6) # denormalize the slope, hence the OGIP\n",
    "\n",
    "        ## Output results into text in plot\n",
    "        Nfoi = 0\n",
    "        labels, handles, OOIP, OGIP = initial_hydrocarbon_in_place(Nfoi, Gfgi, Rv, Rs)      \n",
    "\n",
    "        ## plot the regression line\n",
    "        x6_fit = np.linspace(min(x6), max(x6), 5)\n",
    "        y6_fit = linear_zero_intercept(x6_fit, Gfgi)\n",
    "        plt.plot(x6_fit, y6_fit)\n",
    "\n",
    "        plt.legend(handles, labels, loc='best', fontsize='small', \n",
    "                   fancybox=True, framealpha=0.7, \n",
    "                   handlelength=0, handletextpad=0)      \n",
    "\n",
    "        # Plot 7: ((p/z)*(1-Efw)) vs Gp\n",
    "        plt.subplot(3,2,5)\n",
    "        plt.title('Plot 7: ((p/z)*(1-Efw)) vs Gp', size=title_size, pad=title_pad)\n",
    "        plt.xlabel('Gp (scf)')\n",
    "        plt.ylabel('(p/z)*(1-Efw) (psia)')        \n",
    "\n",
    "        if np.all(z==0) == False:\n",
    "          x7, y7 = Gp, ((p / z) * (1 - Efw))\n",
    "          plt.plot(x7, y7, '.-')\n",
    "\n",
    "          ## curve-fitting to calculate the slope as OGIP\n",
    "          x7_norm = x7 / max(x7) # normalize x\n",
    "          y7_norm = y7 / max(y7) # normalize y\n",
    "          popt, pcov = curve_fit(linear_with_intercept, x7_norm, y7_norm)\n",
    "\n",
    "          m, c = popt[0], popt[1]\n",
    "          Gfgi = (-c / m) * max(x7) # OGIP is the intercept at x-axis, and denormalized\n",
    "          m = m * max(y7) / max(x7) # denormalize the slope\n",
    "          c = c * max(y7) # denormalize the intercept\n",
    "\n",
    "          ## Output results into text in plot\n",
    "          Nfoi = 0\n",
    "          labels, handles, OOIP, OGIP = initial_hydrocarbon_in_place(Nfoi, Gfgi, Rv, Rs)         \n",
    "\n",
    "          ## plot the regression line\n",
    "          x7_fit = np.linspace(min(x7), max(x7), 5)\n",
    "          y7_fit = linear_with_intercept(x7_fit, m, c)\n",
    "          plt.plot(x7_fit, y7_fit)\n",
    "\n",
    "          plt.legend(handles, labels, loc='best', fontsize='small', \n",
    "                    fancybox=True, framealpha=0.7, \n",
    "                    handlelength=0, handletextpad=0) \n",
    "\n",
    "        plt.tight_layout(pad=1.5)\n",
    "        plt.show()\n",
    "\n",
    "        return F, Eg, Efw  \n",
    "\n",
    "class oil():\n",
    "    \"\"\"\n",
    "    Oil (Undersaturated and saturated; Volatile and Non-volatile) Material Balance Plot\n",
    "    \"\"\"\n",
    "    def calculate_params(self, p, Bo, Bg, Rv, Rs, Np, Gp, Gi, cf, cw, swi):\n",
    "        \"\"\"\n",
    "        Calculate Material Balance Paramaters for Oil Reservoir\n",
    "        \n",
    "        Output: F, Bto, Btg, Efw, Eo, Eg\n",
    "        \"\"\"\n",
    "        pi = p[0]\n",
    "        Rsi = Rs[0]\n",
    "        Rvi = Rv[0]\n",
    "        Boi = Bo[0]\n",
    "        Bgi = Bg[0]\n",
    "\n",
    "        # calculate Efw\n",
    "        Efw = ((cf + cw * swi) / (1 - swi)) * (pi - p)\n",
    "\n",
    "        # calculate F, Bto, and Btg\n",
    "        F = (Np * ((Bo - (Rs * Bg)) / (1 - (Rv * Rs)))) + ((Gp - Gi) * ((Bg - (Rv * Bo)) / (1 - (Rv * Rs))))\n",
    "        Btg = ((Bg * (1 - (Rs * Rvi))) + (Bo * (Rvi - Rv))) / (1 - (Rv * Rs))  # in RB/STB\n",
    "        Bto = ((Bo * (1 - (Rv * Rsi))) + (Bg * (Rsi - Rs))) / (1 - (Rv * Rs))  # in RB/scf\n",
    "\n",
    "        # calculate Eo and Eg\n",
    "        Eo = Bto - Boi\n",
    "        Eg = Btg - Bgi\n",
    "\n",
    "        return F, Bto, Btg, Efw, Eo, Eg\n",
    "\n",
    "    def gascap(self, Gfgi, Nfoi, Bg, Bo):\n",
    "      \"\"\"\n",
    "      Calculate Total Oil+Gas Expansion Factor from known Gas Cap ratio\n",
    "      Gfgi and Nfoi known from volumetrics\n",
    "      \"\"\"\n",
    "      Bgi, Boi = Bg[0], Bo[0]\n",
    "\n",
    "      m = (Gfgi * Bgi) / (Nfoi * Boi)\n",
    "      return m\n",
    "\n",
    "    def plot(self, oil_type, F, Bto, Btg, Efw, Eo, Eg, Np, Bo, Rs, Rv, start=0, end=-1, figsize=(10,5)):\n",
    "      \"\"\"\n",
    "      Create Material Balance Plots for Oil Reservoir\n",
    "      \n",
    "      Input:\n",
    "      oil_type: 'undersaturated' or 'saturated'\n",
    "      \"\"\"\n",
    "      import numpy as np\n",
    "      import matplotlib.pyplot as plt\n",
    "      from scipy.optimize import curve_fit\n",
    "      import matplotlib.patches as mpl_patches\n",
    "\n",
    "      # plot attributes\n",
    "      title_size = 15\n",
    "      title_pad = 14\n",
    "\n",
    "      # linear function for curve-fit\n",
    "      def linear_zero_intercept(x, m):\n",
    "          y = m * x\n",
    "          return y\n",
    "\n",
    "      def linear_with_intercept(x, m, c):\n",
    "          y = m * x + c\n",
    "          return y\n",
    "\n",
    "      if oil_type == 'undersaturated':\n",
    "\n",
    "        plt.figure(figsize=figsize)\n",
    "\n",
    "        \" Plot 1: F vs (Eg+Boi*Efw) \"\n",
    "\n",
    "        plt.subplot(1,2,1)\n",
    "        Boi = Bo[0]\n",
    "        x1, y1 = (Eg + Boi * Efw), F\n",
    "        plt.plot(x1, y1, '.-')\n",
    "        plt.title(r'Plot 1: $F$ vs $(E_o+B_{oi}*E_{fw})$', size=title_size, pad=title_pad)\n",
    "        plt.xlabel(r'$E_o+B_{oi}E_{fw}$ (RB/STB)', size=15)\n",
    "        plt.ylabel(r'$F$ (res bbl)', size=15)\n",
    "\n",
    "        ## curve-fitting to calculate the slope as OOIP\n",
    "        x1_norm = x1 / max(x1) # normalize x\n",
    "        y1_norm = y1 / max(y1) # normalize y\n",
    "\n",
    "        x1_norm = x1_norm[start:end]\n",
    "        y1_norm = y1_norm[start:end]\n",
    "\n",
    "        popt, pcov = curve_fit(linear_zero_intercept, x1_norm, y1_norm)\n",
    "\n",
    "        m = popt[0]\n",
    "        Nfoi = m * max(y1) / max(x1) # denormalize the slope, hence the OGIP\n",
    "\n",
    "        ## Calculate OOIP and OGIP from Nfoi\n",
    "        Rsi = Rs[0]\n",
    "        Gfgi = 0 # no free gas phase in undersaturated oil\n",
    "        OOIP = Nfoi\n",
    "        OGIP = Nfoi * Rsi\n",
    "\n",
    "        ## Output results into text in plot\n",
    "        labels, handles, OOIP, OGIP = initial_hydrocarbon_in_place(Nfoi, Gfgi, Rv, Rs)    \n",
    "\n",
    "        ## plot the regression line\n",
    "        x1_fit = np.linspace(min(x1), max(x1), 5)\n",
    "        y1_fit = linear_zero_intercept(x1_fit, Nfoi)\n",
    "        plt.plot(x1_fit, y1_fit, label='{} MMSTB'.format(np.round(Nfoi * 1E-6, 3)))\n",
    "\n",
    "        plt.legend(handles, labels, loc='best', fontsize='small', \n",
    "                   fancybox=True, framealpha=0.7, \n",
    "                   handlelength=0, handletextpad=0) \n",
    "\n",
    "        \" Plot 2: F/(Eg+Boi*Efw) vs Np (Waterdrive Diagnostic Plot) \"\n",
    "\n",
    "        plt.subplot(1,2,2)\n",
    "        x2, y2 = Np, F / (Eg + Boi * Efw)\n",
    "        plt.plot(x2, y2, '.-')\n",
    "        plt.title('Plot 2: Waterdrive Diagnostic Plot', size=title_size, pad=title_pad)\n",
    "        plt.xlabel(r'$N_p$ (STB)', size=15)\n",
    "        plt.ylabel(r'$\\frac{F}{(E_o+B_{oi}E_{fw})}$ (STB)', size=15)\n",
    "\n",
    "        ## curve-fitting to calculate the slope as OOIP, here [1:] because NaN is removed\n",
    "        x2_norm = x2[1:] / max(x2[1:]) # normalize x\n",
    "        y2_norm = y2[1:] / max(y2[1:]) # normalize y\n",
    "        popt, pcov = curve_fit(linear_with_intercept, x2_norm, y2_norm)\n",
    "\n",
    "        m, c = popt[0], popt[1]\n",
    "        m = m * max(y2[1:]) / max(x2[1:]) # denormalize the slope\n",
    "        Nfoi = c * max(y2[1:]) # denormalize the intercept, hence the OGIP\n",
    "\n",
    "        ## Calculate OOIP and OGIP from Nfoi\n",
    "        Rsi = Rs[0]\n",
    "        Gfgi = 0 # no free gas phase in undersaturated oil\n",
    "        OOIP = Nfoi\n",
    "        OGIP = Nfoi * Rsi\n",
    "\n",
    "        ## Output results into text in plot\n",
    "        labels, handles, OOIP, OGIP = initial_hydrocarbon_in_place(Nfoi, Gfgi, Rv, Rs)           \n",
    "\n",
    "        ## plot the regression line\n",
    "        x2_fit = np.linspace(min(x2[1:]), max(x2[1:]), 5)\n",
    "        y2_fit = linear_with_intercept(x2_fit, m, Nfoi)\n",
    "        plt.plot(x2_fit, y2_fit, label='{} MMSTB'.format(np.round(Nfoi * 1E-6, 3)))\n",
    "\n",
    "        plt.legend(handles, labels, loc='best', fontsize='small', \n",
    "                   fancybox=True, framealpha=0.7, \n",
    "                   handlelength=0, handletextpad=0)  \n",
    "        \n",
    "        plt.tight_layout(1)\n",
    "        plt.show()\n",
    "\n",
    "      if oil_type == 'saturated':\n",
    "\n",
    "        plt.figure(figsize=figsize)\n",
    "\n",
    "        \" Plot 1: F/Eo vs Eg/Eo \"\n",
    "\n",
    "        plt.subplot(1,3,1)\n",
    "        x1, y1 = (Eg / Eo), (F / Eo)\n",
    "        plt.plot(x1, y1, '.-')\n",
    "        plt.title('Plot 1: F/Eo vs Eg/Eo', size=title_size, pad=title_pad)\n",
    "        plt.xlabel(r'$\\frac{Eg}{Eo}$ (STB/scf)', size=15)\n",
    "        plt.ylabel(r'$\\frac{F}{Eo}$ (STB)', size=15)\n",
    "\n",
    "        ## curve-fitting to calculate the slope as Gfgi, intercept as Nfoi\n",
    "        x1_norm = x1[1:] / max(x1[1:]) # normalize x\n",
    "        y1_norm = y1[1:] / max(y1[1:]) # normalize y\n",
    "        popt, pcov = curve_fit(linear_with_intercept, x1_norm, y1_norm)\n",
    "\n",
    "        m, c = popt[0], popt[1]\n",
    "        Gfgi = m = m * max(y1[1:]) / max(x1[1:]) # denormalize the slope\n",
    "        Nfoi = c = c * max(y1[1:]) # denormalize the intercept\n",
    "\n",
    "        ## calculate OOIP and OGIP from Nfoi and Gfgi\n",
    "        Rsi, Rvi = Rs[0], Rv[0]\n",
    "        OOIP = Nfoi + Gfgi * Rvi\n",
    "        OGIP = Gfgi + Nfoi * Rsi\n",
    "\n",
    "        ## Output results into text in plot\n",
    "        labels, handles, OOIP, OGIP = initial_hydrocarbon_in_place(Nfoi, Gfgi, Rv, Rs)    \n",
    "\n",
    "        ## plot the regression line\n",
    "        x1_fit = np.linspace(min(x1[1:]), max(x1[1:]), 5)\n",
    "        y1_fit = linear_with_intercept(x1_fit, m, c)\n",
    "        plt.plot(x1_fit, y1_fit)\n",
    "\n",
    "        plt.legend(handles, labels, loc='best', fontsize='small', \n",
    "                   fancybox=True, framealpha=0.7, \n",
    "                   handlelength=0, handletextpad=0)\n",
    "\n",
    "        \" Plot 2: p/z vs Gp \"\n",
    "\n",
    "        plt.subplot(1,3,2)\n",
    "        x2, y2 =  (Eo / Eg), (F / Eg)\n",
    "        plt.plot(x2, y2, '.-')\n",
    "        plt.title('Plot 2: F/Eg vs Eo/Eg', size=title_size, pad=title_pad)\n",
    "        plt.xlabel(r'$\\frac{Eo}{Eg}$ (scf/STB)', size=15)\n",
    "        plt.ylabel(r'$\\frac{F}{Eg}$ (scf)', size=15)\n",
    "\n",
    "        ## curve-fitting to calculate the slope as Nfoi, intercept as Gfgi\n",
    "        x2_norm = x2[1:] / max(x2[1:]) # normalize x\n",
    "        y2_norm = y2[1:] / max(y2[1:]) # normalize y\n",
    "        popt, pcov = curve_fit(linear_with_intercept, x2_norm, y2_norm)\n",
    "\n",
    "        m, c = popt[0], popt[1]\n",
    "        Nfoi = m = m * max(y2[1:]) / max(x2[1:]) # denormalize the slope\n",
    "        Gfgi = c = c * max(y2[1:]) # denormalize the intercept\n",
    "\n",
    "        ## calculate OOIP and OGIP from Nfoi and Gfgi\n",
    "        Rsi, Rvi = Rs[0], Rv[0]\n",
    "        OOIP = Nfoi + Gfgi * Rvi\n",
    "        OGIP = Gfgi + Nfoi * Rsi\n",
    "\n",
    "        ## Output results into text in plot\n",
    "        labels, handles, OOIP, OGIP = initial_hydrocarbon_in_place(Nfoi, Gfgi, Rv, Rs)    \n",
    "\n",
    "        ## plot the regression line\n",
    "        x2_fit = np.linspace(min(x2[1:]), max(x2[1:]), 5)\n",
    "        y2_fit = linear_with_intercept(x2_fit, m, c)\n",
    "        plt.plot(x2_fit, y2_fit)\n",
    "\n",
    "        plt.legend(handles, labels, loc='best', fontsize='small', \n",
    "                   fancybox=True, framealpha=0.7, \n",
    "                   handlelength=0, handletextpad=0) \n",
    "\n",
    "        plt.tight_layout(1)                 \n",
    "\n",
    "        plt.show()       \n",
    "\n",
    "      def plot(self, oil_type, F, Bto, Btg, Efw, Eo, Eg, Np, Bo, Rs, Rv, figsize=(10,5)):\n",
    "#       \"\"\"\n",
    "#       Create Material Balance Plots for Oil Reservoir\n",
    "      \n",
    "#       Input:\n",
    "#       oil_type: 'undersaturated' or 'saturated'\n",
    "#       \"\"\"\n",
    "#       import numpy as np\n",
    "#       import matplotlib.pyplot as plt\n",
    "#       from scipy.optimize import curve_fit\n",
    "#       import matplotlib.patches as mpl_patches\n",
    "\n",
    "#       # plot attributes\n",
    "#       title_size = 15\n",
    "#       title_pad = 14\n",
    "\n",
    "#       # linear function for curve-fit\n",
    "#       def linear_zero_intercept(x, m):\n",
    "#           y = m * x\n",
    "#           return y\n",
    "\n",
    "#       def linear_with_intercept(x, m, c):\n",
    "#           y = m * x + c\n",
    "#           return y\n",
    "\n",
    "#       if oil_type == 'undersaturated':\n",
    "\n",
    "#         plt.figure(figsize=figsize)\n",
    "\n",
    "#         \" Plot 1: F vs (Eg+Boi*Efw) \"\n",
    "\n",
    "#         plt.subplot(1,2,1)\n",
    "#         Boi = Bo[0]\n",
    "#         x1, y1 = (Eg + Boi * Efw), F\n",
    "#         plt.plot(x1, y1, '.-')\n",
    "#         plt.title(r'Plot 1: $F$ vs $(E_o+B_{oi}*E_{fw})$', size=title_size, pad=title_pad)\n",
    "#         plt.xlabel(r'$E_o+B_{oi}E_{fw}$ (RB/STB)', size=15)\n",
    "#         plt.ylabel(r'$F$ (res bbl)', size=15)\n",
    "\n",
    "#         ## curve-fitting to calculate the slope as OOIP\n",
    "#         x1_norm = x1 / max(x1) # normalize x\n",
    "#         y1_norm = y1 / max(y1) # normalize y\n",
    "#         popt, pcov = curve_fit(linear_zero_intercept, x1_norm, y1_norm)\n",
    "\n",
    "#         m = popt[0]\n",
    "#         Nfoi = m * max(y1) / max(x1) # denormalize the slope, hence the OGIP\n",
    "\n",
    "#         ## Calculate OOIP and OGIP from Nfoi\n",
    "#         Rsi = Rs[0]\n",
    "#         Gfgi = 0 # no free gas phase in undersaturated oil\n",
    "#         OOIP = Nfoi\n",
    "#         OGIP = Nfoi * Rsi\n",
    "\n",
    "#         ## Output results into text in plot\n",
    "#         labels, handles, OOIP, OGIP = initial_hydrocarbon_in_place(Nfoi, Gfgi, Rv, Rs)    \n",
    "\n",
    "#         ## plot the regression line\n",
    "#         x1_fit = np.linspace(min(x1), max(x1), 5)\n",
    "#         y1_fit = linear_zero_intercept(x1_fit, Nfoi)\n",
    "#         plt.plot(x1_fit, y1_fit, label='{} MMSTB'.format(np.round(Nfoi * 1E-6, 3)))\n",
    "\n",
    "#         plt.legend(handles, labels, loc='best', fontsize='small', \n",
    "#                    fancybox=True, framealpha=0.7, \n",
    "#                    handlelength=0, handletextpad=0) \n",
    "\n",
    "#         \" Plot 2: F/(Eg+Boi*Efw) vs Np (Waterdrive Diagnostic Plot) \"\n",
    "\n",
    "#         plt.subplot(1,2,2)\n",
    "#         x2, y2 = Np, F / (Eg + Boi * Efw)\n",
    "#         plt.plot(x2, y2, '.-')\n",
    "#         plt.title('Plot 2: Waterdrive Diagnostic Plot', size=title_size, pad=title_pad)\n",
    "#         plt.xlabel(r'$N_p$ (STB)', size=15)\n",
    "#         plt.ylabel(r'$\\frac{F}{(E_o+B_{oi}E_{fw})}$ (STB)', size=15)\n",
    "\n",
    "#         ## curve-fitting to calculate the slope as OOIP, here [1:] because NaN is removed\n",
    "#         x2_norm = x2[1:] / max(x2[1:]) # normalize x\n",
    "#         y2_norm = y2[1:] / max(y2[1:]) # normalize y\n",
    "#         popt, pcov = curve_fit(linear_with_intercept, x2_norm, y2_norm)\n",
    "\n",
    "#         m, c = popt[0], popt[1]\n",
    "#         m = m * max(y2[1:]) / max(x2[1:]) # denormalize the slope\n",
    "#         Nfoi = c * max(y2[1:]) # denormalize the intercept, hence the OGIP\n",
    "\n",
    "#         ## Calculate OOIP and OGIP from Nfoi\n",
    "#         Rsi = Rs[0]\n",
    "#         Gfgi = 0 # no free gas phase in undersaturated oil\n",
    "#         OOIP = Nfoi\n",
    "#         OGIP = Nfoi * Rsi\n",
    "\n",
    "#         ## Output results into text in plot\n",
    "#         labels, handles, OOIP, OGIP = initial_hydrocarbon_in_place(Nfoi, Gfgi, Rv, Rs)           \n",
    "\n",
    "#         ## plot the regression line\n",
    "#         x2_fit = np.linspace(min(x2[1:]), max(x2[1:]), 5)\n",
    "#         y2_fit = linear_with_intercept(x2_fit, m, Nfoi)\n",
    "#         plt.plot(x2_fit, y2_fit, label='{} MMSTB'.format(np.round(Nfoi * 1E-6, 3)))\n",
    "\n",
    "#         plt.legend(handles, labels, loc='best', fontsize='small', \n",
    "#                    fancybox=True, framealpha=0.7, \n",
    "#                    handlelength=0, handletextpad=0)  \n",
    "        \n",
    "#         plt.tight_layout(1)\n",
    "#         plt.show()\n",
    "\n",
    "#       if oil_type == 'saturated':\n",
    "\n",
    "#         plt.figure(figsize=figsize)\n",
    "\n",
    "#         \" Plot 1: F/Eo vs Eg/Eo \"\n",
    "\n",
    "#         plt.subplot(1,3,1)\n",
    "#         x1, y1 = (Eg / Eo), (F / Eo)\n",
    "#         plt.plot(x1, y1, '.-')\n",
    "#         plt.title('Plot 1: F/Eo vs Eg/Eo', size=title_size, pad=title_pad)\n",
    "#         plt.xlabel(r'$\\frac{Eg}{Eo}$ (STB/scf)', size=15)\n",
    "#         plt.ylabel(r'$\\frac{F}{Eo}$ (STB)', size=15)\n",
    "\n",
    "#         ## curve-fitting to calculate the slope as Gfgi, intercept as Nfoi\n",
    "#         x1_norm = x1[1:] / max(x1[1:]) # normalize x\n",
    "#         y1_norm = y1[1:] / max(y1[1:]) # normalize y\n",
    "#         popt, pcov = curve_fit(linear_with_intercept, x1_norm, y1_norm)\n",
    "\n",
    "#         m, c = popt[0], popt[1]\n",
    "#         Gfgi = m = m * max(y1[1:]) / max(x1[1:]) # denormalize the slope\n",
    "#         Nfoi = c = c * max(y1[1:]) # denormalize the intercept\n",
    "\n",
    "#         ## calculate OOIP and OGIP from Nfoi and Gfgi\n",
    "#         Rsi, Rvi = Rs[0], Rv[0]\n",
    "#         OOIP = Nfoi + Gfgi * Rvi\n",
    "#         OGIP = Gfgi + Nfoi * Rsi\n",
    "\n",
    "#         ## Output results into text in plot\n",
    "#         labels, handles, OOIP, OGIP = initial_hydrocarbon_in_place(Nfoi, Gfgi, Rv, Rs)    \n",
    "\n",
    "#         ## plot the regression line\n",
    "#         x1_fit = np.linspace(min(x1[1:]), max(x1[1:]), 5)\n",
    "#         y1_fit = linear_with_intercept(x1_fit, m, c)\n",
    "#         plt.plot(x1_fit, y1_fit)\n",
    "\n",
    "#         plt.legend(handles, labels, loc='best', fontsize='small', \n",
    "#                    fancybox=True, framealpha=0.7, \n",
    "#                    handlelength=0, handletextpad=0)\n",
    "\n",
    "#         \" Plot 2: p/z vs Gp \"\n",
    "\n",
    "#         plt.subplot(1,3,2)\n",
    "#         x2, y2 =  (Eo / Eg), (F / Eg)\n",
    "#         plt.plot(x2, y2, '.-')\n",
    "#         plt.title('Plot 2: F/Eg vs Eo/Eg', size=title_size, pad=title_pad)\n",
    "#         plt.xlabel(r'$\\frac{Eo}{Eg}$ (scf/STB)', size=15)\n",
    "#         plt.ylabel(r'$\\frac{F}{Eg}$ (scf)', size=15)\n",
    "\n",
    "#         ## curve-fitting to calculate the slope as Nfoi, intercept as Gfgi\n",
    "#         x2_norm = x2[1:] / max(x2[1:]) # normalize x\n",
    "#         y2_norm = y2[1:] / max(y2[1:]) # normalize y\n",
    "#         popt, pcov = curve_fit(linear_with_intercept, x2_norm, y2_norm)\n",
    "\n",
    "#         m, c = popt[0], popt[1]\n",
    "#         Nfoi = m = m * max(y2[1:]) / max(x2[1:]) # denormalize the slope\n",
    "#         Gfgi = c = c * max(y2[1:]) # denormalize the intercept\n",
    "\n",
    "#         ## calculate OOIP and OGIP from Nfoi and Gfgi\n",
    "#         Rsi, Rvi = Rs[0], Rv[0]\n",
    "#         OOIP = Nfoi + Gfgi * Rvi\n",
    "#         OGIP = Gfgi + Nfoi * Rsi\n",
    "\n",
    "#         ## Output results into text in plot\n",
    "#         labels, handles, OOIP, OGIP = initial_hydrocarbon_in_place(Nfoi, Gfgi, Rv, Rs)    \n",
    "\n",
    "#         ## plot the regression line\n",
    "#         x2_fit = np.linspace(min(x2[1:]), max(x2[1:]), 5)\n",
    "#         y2_fit = linear_with_intercept(x2_fit, m, c)\n",
    "#         plt.plot(x2_fit, y2_fit)\n",
    "\n",
    "#         plt.legend(handles, labels, loc='best', fontsize='small', \n",
    "#                    fancybox=True, framealpha=0.7, \n",
    "#                    handlelength=0, handletextpad=0) \n",
    "\n",
    "#         plt.tight_layout(1)                 \n",
    "\n",
    "#         plt.show()    \n"
   ]
  },
  {
   "cell_type": "code",
   "execution_count": 114,
   "id": "b70d155d",
   "metadata": {},
   "outputs": [
    {
     "data": {
      "text/html": [
       "<div>\n",
       "<style scoped>\n",
       "    .dataframe tbody tr th:only-of-type {\n",
       "        vertical-align: middle;\n",
       "    }\n",
       "\n",
       "    .dataframe tbody tr th {\n",
       "        vertical-align: top;\n",
       "    }\n",
       "\n",
       "    .dataframe thead th {\n",
       "        text-align: right;\n",
       "    }\n",
       "</style>\n",
       "<table border=\"1\" class=\"dataframe\">\n",
       "  <thead>\n",
       "    <tr style=\"text-align: right;\">\n",
       "      <th></th>\n",
       "      <th>p (psia)</th>\n",
       "      <th>Np (STB)</th>\n",
       "      <th>Gp (SCF)</th>\n",
       "      <th>Wp (STB)</th>\n",
       "      <th>Gi (SCF)</th>\n",
       "      <th>Wi (STB)</th>\n",
       "      <th>Rp (SCF/STB)</th>\n",
       "      <th>Bo (RB/STB)</th>\n",
       "      <th>Bg (RB/SCF)</th>\n",
       "      <th>Rs (SCF/STB)</th>\n",
       "      <th>Rv (STB/SCF)</th>\n",
       "    </tr>\n",
       "  </thead>\n",
       "  <tbody>\n",
       "    <tr>\n",
       "      <th>count</th>\n",
       "      <td>112.000000</td>\n",
       "      <td>1.120000e+02</td>\n",
       "      <td>1.120000e+02</td>\n",
       "      <td>1.120000e+02</td>\n",
       "      <td>112.0</td>\n",
       "      <td>1.120000e+02</td>\n",
       "      <td>112.000000</td>\n",
       "      <td>109.000000</td>\n",
       "      <td>112.000000</td>\n",
       "      <td>1.120000e+02</td>\n",
       "      <td>112.0</td>\n",
       "    </tr>\n",
       "    <tr>\n",
       "      <th>mean</th>\n",
       "      <td>4818.502679</td>\n",
       "      <td>3.979535e+07</td>\n",
       "      <td>3.263077e+10</td>\n",
       "      <td>3.781254e+07</td>\n",
       "      <td>0.0</td>\n",
       "      <td>9.719720e+07</td>\n",
       "      <td>782.691661</td>\n",
       "      <td>1.304558</td>\n",
       "      <td>0.000959</td>\n",
       "      <td>6.277111e+02</td>\n",
       "      <td>0.0</td>\n",
       "    </tr>\n",
       "    <tr>\n",
       "      <th>std</th>\n",
       "      <td>238.021335</td>\n",
       "      <td>1.934231e+07</td>\n",
       "      <td>1.602133e+10</td>\n",
       "      <td>3.361364e+07</td>\n",
       "      <td>0.0</td>\n",
       "      <td>6.113169e+07</td>\n",
       "      <td>170.241617</td>\n",
       "      <td>0.003820</td>\n",
       "      <td>0.000037</td>\n",
       "      <td>5.709890e-13</td>\n",
       "      <td>0.0</td>\n",
       "    </tr>\n",
       "    <tr>\n",
       "      <th>min</th>\n",
       "      <td>4085.440000</td>\n",
       "      <td>0.000000e+00</td>\n",
       "      <td>0.000000e+00</td>\n",
       "      <td>0.000000e+00</td>\n",
       "      <td>0.0</td>\n",
       "      <td>0.000000e+00</td>\n",
       "      <td>0.000000</td>\n",
       "      <td>1.299525</td>\n",
       "      <td>0.000897</td>\n",
       "      <td>6.277111e+02</td>\n",
       "      <td>0.0</td>\n",
       "    </tr>\n",
       "    <tr>\n",
       "      <th>25%</th>\n",
       "      <td>4780.590000</td>\n",
       "      <td>2.907342e+07</td>\n",
       "      <td>2.333628e+10</td>\n",
       "      <td>2.080430e+06</td>\n",
       "      <td>0.0</td>\n",
       "      <td>4.506695e+07</td>\n",
       "      <td>810.483500</td>\n",
       "      <td>1.302387</td>\n",
       "      <td>0.000939</td>\n",
       "      <td>6.277111e+02</td>\n",
       "      <td>0.0</td>\n",
       "    </tr>\n",
       "    <tr>\n",
       "      <th>50%</th>\n",
       "      <td>4883.420000</td>\n",
       "      <td>4.557910e+07</td>\n",
       "      <td>3.719080e+10</td>\n",
       "      <td>3.251150e+07</td>\n",
       "      <td>0.0</td>\n",
       "      <td>1.009328e+08</td>\n",
       "      <td>820.480500</td>\n",
       "      <td>1.303298</td>\n",
       "      <td>0.000947</td>\n",
       "      <td>6.277111e+02</td>\n",
       "      <td>0.0</td>\n",
       "    </tr>\n",
       "    <tr>\n",
       "      <th>75%</th>\n",
       "      <td>4947.567500</td>\n",
       "      <td>5.458740e+07</td>\n",
       "      <td>4.501468e+10</td>\n",
       "      <td>6.866878e+07</td>\n",
       "      <td>0.0</td>\n",
       "      <td>1.505898e+08</td>\n",
       "      <td>826.131000</td>\n",
       "      <td>1.304902</td>\n",
       "      <td>0.000962</td>\n",
       "      <td>6.277111e+02</td>\n",
       "      <td>0.0</td>\n",
       "    </tr>\n",
       "    <tr>\n",
       "      <th>max</th>\n",
       "      <td>5273.870000</td>\n",
       "      <td>6.312630e+07</td>\n",
       "      <td>5.236640e+10</td>\n",
       "      <td>9.634330e+07</td>\n",
       "      <td>0.0</td>\n",
       "      <td>1.907560e+08</td>\n",
       "      <td>846.324000</td>\n",
       "      <td>1.316864</td>\n",
       "      <td>0.001086</td>\n",
       "      <td>6.277111e+02</td>\n",
       "      <td>0.0</td>\n",
       "    </tr>\n",
       "  </tbody>\n",
       "</table>\n",
       "</div>"
      ],
      "text/plain": [
       "          p (psia)      Np (STB)      Gp (SCF)      Wp (STB)  Gi (SCF)  \\\n",
       "count   112.000000  1.120000e+02  1.120000e+02  1.120000e+02     112.0   \n",
       "mean   4818.502679  3.979535e+07  3.263077e+10  3.781254e+07       0.0   \n",
       "std     238.021335  1.934231e+07  1.602133e+10  3.361364e+07       0.0   \n",
       "min    4085.440000  0.000000e+00  0.000000e+00  0.000000e+00       0.0   \n",
       "25%    4780.590000  2.907342e+07  2.333628e+10  2.080430e+06       0.0   \n",
       "50%    4883.420000  4.557910e+07  3.719080e+10  3.251150e+07       0.0   \n",
       "75%    4947.567500  5.458740e+07  4.501468e+10  6.866878e+07       0.0   \n",
       "max    5273.870000  6.312630e+07  5.236640e+10  9.634330e+07       0.0   \n",
       "\n",
       "           Wi (STB)  Rp (SCF/STB)  Bo (RB/STB)  Bg (RB/SCF)  Rs (SCF/STB)  \\\n",
       "count  1.120000e+02    112.000000   109.000000   112.000000  1.120000e+02   \n",
       "mean   9.719720e+07    782.691661     1.304558     0.000959  6.277111e+02   \n",
       "std    6.113169e+07    170.241617     0.003820     0.000037  5.709890e-13   \n",
       "min    0.000000e+00      0.000000     1.299525     0.000897  6.277111e+02   \n",
       "25%    4.506695e+07    810.483500     1.302387     0.000939  6.277111e+02   \n",
       "50%    1.009328e+08    820.480500     1.303298     0.000947  6.277111e+02   \n",
       "75%    1.505898e+08    826.131000     1.304902     0.000962  6.277111e+02   \n",
       "max    1.907560e+08    846.324000     1.316864     0.001086  6.277111e+02   \n",
       "\n",
       "       Rv (STB/SCF)  \n",
       "count         112.0  \n",
       "mean            0.0  \n",
       "std             0.0  \n",
       "min             0.0  \n",
       "25%             0.0  \n",
       "50%             0.0  \n",
       "75%             0.0  \n",
       "max             0.0  "
      ]
     },
     "execution_count": 114,
     "metadata": {},
     "output_type": "execute_result"
    }
   ],
   "source": [
    "df.describe()"
   ]
  },
  {
   "cell_type": "code",
   "execution_count": null,
   "id": "7bdaee88",
   "metadata": {},
   "outputs": [],
   "source": []
  }
 ],
 "metadata": {
  "kernelspec": {
   "display_name": "Python 3 (ipykernel)",
   "language": "python",
   "name": "python3"
  },
  "language_info": {
   "codemirror_mode": {
    "name": "ipython",
    "version": 3
   },
   "file_extension": ".py",
   "mimetype": "text/x-python",
   "name": "python",
   "nbconvert_exporter": "python",
   "pygments_lexer": "ipython3",
   "version": "3.9.7"
  }
 },
 "nbformat": 4,
 "nbformat_minor": 5
}
