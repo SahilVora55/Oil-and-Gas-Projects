{
 "cells": [
  {
   "cell_type": "code",
   "execution_count": 39,
   "id": "6ea8ff55",
   "metadata": {},
   "outputs": [],
   "source": [
    "import numpy as np\n",
    "import pandas as pd\n",
    "import matplotlib.pyplot as plt\n",
    "import seaborn as sns\n",
    "%matplotlib inline"
   ]
  },
  {
   "cell_type": "code",
   "execution_count": 40,
   "id": "9dcc81d5",
   "metadata": {},
   "outputs": [],
   "source": [
    "from scipy import stats"
   ]
  },
  {
   "cell_type": "markdown",
   "id": "2d533824",
   "metadata": {},
   "source": [
    "# PCA"
   ]
  },
  {
   "cell_type": "code",
   "execution_count": 41,
   "id": "691f2506",
   "metadata": {},
   "outputs": [],
   "source": [
    "df = pd.read_excel('C:/Users/sahil/OneDrive/Desktop/Elesvier/Chapter 3/Non-Negative Matrix Factorization (NMF)/Chapter3_Completions_DataSet.xlsx')"
   ]
  },
  {
   "cell_type": "code",
   "execution_count": 42,
   "id": "2d1ccb0b",
   "metadata": {},
   "outputs": [
    {
     "data": {
      "text/html": [
       "<div>\n",
       "<style scoped>\n",
       "    .dataframe tbody tr th:only-of-type {\n",
       "        vertical-align: middle;\n",
       "    }\n",
       "\n",
       "    .dataframe tbody tr th {\n",
       "        vertical-align: top;\n",
       "    }\n",
       "\n",
       "    .dataframe thead th {\n",
       "        text-align: right;\n",
       "    }\n",
       "</style>\n",
       "<table border=\"1\" class=\"dataframe\">\n",
       "  <thead>\n",
       "    <tr style=\"text-align: right;\">\n",
       "      <th></th>\n",
       "      <th>Stage Spacing</th>\n",
       "      <th>Cluster Spacing</th>\n",
       "      <th>Sand per ft (# per ft)</th>\n",
       "      <th>Water per ft (gal per ft)</th>\n",
       "    </tr>\n",
       "  </thead>\n",
       "  <tbody>\n",
       "    <tr>\n",
       "      <th>0</th>\n",
       "      <td>173.4</td>\n",
       "      <td>45.5</td>\n",
       "      <td>1117.2</td>\n",
       "      <td>10.0</td>\n",
       "    </tr>\n",
       "    <tr>\n",
       "      <th>1</th>\n",
       "      <td>166.6</td>\n",
       "      <td>39.0</td>\n",
       "      <td>1117.2</td>\n",
       "      <td>10.0</td>\n",
       "    </tr>\n",
       "    <tr>\n",
       "      <th>2</th>\n",
       "      <td>159.8</td>\n",
       "      <td>41.6</td>\n",
       "      <td>1037.4</td>\n",
       "      <td>10.0</td>\n",
       "    </tr>\n",
       "    <tr>\n",
       "      <th>3</th>\n",
       "      <td>156.4</td>\n",
       "      <td>40.3</td>\n",
       "      <td>1197.0</td>\n",
       "      <td>10.0</td>\n",
       "    </tr>\n",
       "    <tr>\n",
       "      <th>4</th>\n",
       "      <td>170.0</td>\n",
       "      <td>46.8</td>\n",
       "      <td>1117.2</td>\n",
       "      <td>10.0</td>\n",
       "    </tr>\n",
       "  </tbody>\n",
       "</table>\n",
       "</div>"
      ],
      "text/plain": [
       "   Stage Spacing  Cluster Spacing  Sand per ft (# per ft)  \\\n",
       "0          173.4             45.5                  1117.2   \n",
       "1          166.6             39.0                  1117.2   \n",
       "2          159.8             41.6                  1037.4   \n",
       "3          156.4             40.3                  1197.0   \n",
       "4          170.0             46.8                  1117.2   \n",
       "\n",
       "   Water per ft (gal per ft)  \n",
       "0                       10.0  \n",
       "1                       10.0  \n",
       "2                       10.0  \n",
       "3                       10.0  \n",
       "4                       10.0  "
      ]
     },
     "execution_count": 42,
     "metadata": {},
     "output_type": "execute_result"
    }
   ],
   "source": [
    "df.head()"
   ]
  },
  {
   "cell_type": "code",
   "execution_count": 43,
   "id": "3f088ae9",
   "metadata": {},
   "outputs": [
    {
     "data": {
      "text/html": [
       "<div>\n",
       "<style scoped>\n",
       "    .dataframe tbody tr th:only-of-type {\n",
       "        vertical-align: middle;\n",
       "    }\n",
       "\n",
       "    .dataframe tbody tr th {\n",
       "        vertical-align: top;\n",
       "    }\n",
       "\n",
       "    .dataframe thead th {\n",
       "        text-align: right;\n",
       "    }\n",
       "</style>\n",
       "<table border=\"1\" class=\"dataframe\">\n",
       "  <thead>\n",
       "    <tr style=\"text-align: right;\">\n",
       "      <th></th>\n",
       "      <th>Stage Spacing</th>\n",
       "      <th>Cluster Spacing</th>\n",
       "      <th>Sand per ft (# per ft)</th>\n",
       "      <th>Water per ft (gal per ft)</th>\n",
       "    </tr>\n",
       "  </thead>\n",
       "  <tbody>\n",
       "    <tr>\n",
       "      <th>count</th>\n",
       "      <td>144.000000</td>\n",
       "      <td>144.000000</td>\n",
       "      <td>144.000000</td>\n",
       "      <td>144.000000</td>\n",
       "    </tr>\n",
       "    <tr>\n",
       "      <th>mean</th>\n",
       "      <td>197.908333</td>\n",
       "      <td>39.713194</td>\n",
       "      <td>2949.275000</td>\n",
       "      <td>57.986111</td>\n",
       "    </tr>\n",
       "    <tr>\n",
       "      <th>std</th>\n",
       "      <td>28.411963</td>\n",
       "      <td>5.702597</td>\n",
       "      <td>1414.559452</td>\n",
       "      <td>37.618435</td>\n",
       "    </tr>\n",
       "    <tr>\n",
       "      <th>min</th>\n",
       "      <td>146.200000</td>\n",
       "      <td>26.000000</td>\n",
       "      <td>798.000000</td>\n",
       "      <td>5.000000</td>\n",
       "    </tr>\n",
       "    <tr>\n",
       "      <th>25%</th>\n",
       "      <td>173.400000</td>\n",
       "      <td>36.400000</td>\n",
       "      <td>1197.000000</td>\n",
       "      <td>15.000000</td>\n",
       "    </tr>\n",
       "    <tr>\n",
       "      <th>50%</th>\n",
       "      <td>193.800000</td>\n",
       "      <td>39.000000</td>\n",
       "      <td>3351.600000</td>\n",
       "      <td>65.000000</td>\n",
       "    </tr>\n",
       "    <tr>\n",
       "      <th>75%</th>\n",
       "      <td>217.600000</td>\n",
       "      <td>42.900000</td>\n",
       "      <td>4069.800000</td>\n",
       "      <td>90.000000</td>\n",
       "    </tr>\n",
       "    <tr>\n",
       "      <th>max</th>\n",
       "      <td>268.600000</td>\n",
       "      <td>57.200000</td>\n",
       "      <td>5506.200000</td>\n",
       "      <td>125.000000</td>\n",
       "    </tr>\n",
       "  </tbody>\n",
       "</table>\n",
       "</div>"
      ],
      "text/plain": [
       "       Stage Spacing  Cluster Spacing  Sand per ft (# per ft)  \\\n",
       "count     144.000000       144.000000              144.000000   \n",
       "mean      197.908333        39.713194             2949.275000   \n",
       "std        28.411963         5.702597             1414.559452   \n",
       "min       146.200000        26.000000              798.000000   \n",
       "25%       173.400000        36.400000             1197.000000   \n",
       "50%       193.800000        39.000000             3351.600000   \n",
       "75%       217.600000        42.900000             4069.800000   \n",
       "max       268.600000        57.200000             5506.200000   \n",
       "\n",
       "       Water per ft (gal per ft)  \n",
       "count                 144.000000  \n",
       "mean                   57.986111  \n",
       "std                    37.618435  \n",
       "min                     5.000000  \n",
       "25%                    15.000000  \n",
       "50%                    65.000000  \n",
       "75%                    90.000000  \n",
       "max                   125.000000  "
      ]
     },
     "execution_count": 43,
     "metadata": {},
     "output_type": "execute_result"
    }
   ],
   "source": [
    "df.describe()"
   ]
  },
  {
   "cell_type": "code",
   "execution_count": 44,
   "id": "16afcbc3",
   "metadata": {},
   "outputs": [],
   "source": [
    "from sklearn.preprocessing import StandardScaler"
   ]
  },
  {
   "cell_type": "code",
   "execution_count": 45,
   "id": "8394a929",
   "metadata": {},
   "outputs": [],
   "source": [
    "scaler = StandardScaler()"
   ]
  },
  {
   "cell_type": "code",
   "execution_count": 46,
   "id": "01c57165",
   "metadata": {},
   "outputs": [
    {
     "data": {
      "text/plain": [
       "StandardScaler()"
      ]
     },
     "execution_count": 46,
     "metadata": {},
     "output_type": "execute_result"
    }
   ],
   "source": [
    "scaler.fit(df)"
   ]
  },
  {
   "cell_type": "code",
   "execution_count": 47,
   "id": "15f028bb",
   "metadata": {},
   "outputs": [],
   "source": [
    "scaled_features = scaler.transform(df)"
   ]
  },
  {
   "cell_type": "code",
   "execution_count": 48,
   "id": "aebda875",
   "metadata": {},
   "outputs": [],
   "source": [
    "scaled_features = pd.DataFrame(scaled_features,columns = [['Stage Spacing', 'Cluster Spacing', 'Sand per ft (# per ft)',\n",
    "       'Water per ft (gal per ft)']])"
   ]
  },
  {
   "cell_type": "code",
   "execution_count": 49,
   "id": "6c76b934",
   "metadata": {},
   "outputs": [
    {
     "data": {
      "text/html": [
       "<div>\n",
       "<style scoped>\n",
       "    .dataframe tbody tr th:only-of-type {\n",
       "        vertical-align: middle;\n",
       "    }\n",
       "\n",
       "    .dataframe tbody tr th {\n",
       "        vertical-align: top;\n",
       "    }\n",
       "\n",
       "    .dataframe thead tr th {\n",
       "        text-align: left;\n",
       "    }\n",
       "</style>\n",
       "<table border=\"1\" class=\"dataframe\">\n",
       "  <thead>\n",
       "    <tr>\n",
       "      <th></th>\n",
       "      <th>Stage Spacing</th>\n",
       "      <th>Cluster Spacing</th>\n",
       "      <th>Sand per ft (# per ft)</th>\n",
       "      <th>Water per ft (gal per ft)</th>\n",
       "    </tr>\n",
       "  </thead>\n",
       "  <tbody>\n",
       "    <tr>\n",
       "      <th>0</th>\n",
       "      <td>-0.865617</td>\n",
       "      <td>1.018309</td>\n",
       "      <td>-1.299677</td>\n",
       "      <td>-1.280053</td>\n",
       "    </tr>\n",
       "    <tr>\n",
       "      <th>1</th>\n",
       "      <td>-1.105788</td>\n",
       "      <td>-0.125501</td>\n",
       "      <td>-1.299677</td>\n",
       "      <td>-1.280053</td>\n",
       "    </tr>\n",
       "    <tr>\n",
       "      <th>2</th>\n",
       "      <td>-1.345959</td>\n",
       "      <td>0.332023</td>\n",
       "      <td>-1.356287</td>\n",
       "      <td>-1.280053</td>\n",
       "    </tr>\n",
       "    <tr>\n",
       "      <th>3</th>\n",
       "      <td>-1.466045</td>\n",
       "      <td>0.103261</td>\n",
       "      <td>-1.243066</td>\n",
       "      <td>-1.280053</td>\n",
       "    </tr>\n",
       "    <tr>\n",
       "      <th>4</th>\n",
       "      <td>-0.985703</td>\n",
       "      <td>1.247071</td>\n",
       "      <td>-1.299677</td>\n",
       "      <td>-1.280053</td>\n",
       "    </tr>\n",
       "  </tbody>\n",
       "</table>\n",
       "</div>"
      ],
      "text/plain": [
       "  Stage Spacing Cluster Spacing Sand per ft (# per ft)  \\\n",
       "0     -0.865617        1.018309              -1.299677   \n",
       "1     -1.105788       -0.125501              -1.299677   \n",
       "2     -1.345959        0.332023              -1.356287   \n",
       "3     -1.466045        0.103261              -1.243066   \n",
       "4     -0.985703        1.247071              -1.299677   \n",
       "\n",
       "  Water per ft (gal per ft)  \n",
       "0                 -1.280053  \n",
       "1                 -1.280053  \n",
       "2                 -1.280053  \n",
       "3                 -1.280053  \n",
       "4                 -1.280053  "
      ]
     },
     "execution_count": 49,
     "metadata": {},
     "output_type": "execute_result"
    }
   ],
   "source": [
    "scaled_features.head()"
   ]
  },
  {
   "cell_type": "code",
   "execution_count": 50,
   "id": "e6955dca",
   "metadata": {},
   "outputs": [],
   "source": [
    "from sklearn.decomposition import PCA"
   ]
  },
  {
   "cell_type": "code",
   "execution_count": 51,
   "id": "10b1085d",
   "metadata": {},
   "outputs": [],
   "source": [
    "PCA = PCA(n_components = 2)"
   ]
  },
  {
   "cell_type": "code",
   "execution_count": 52,
   "id": "96abda4f",
   "metadata": {},
   "outputs": [
    {
     "data": {
      "text/plain": [
       "PCA(n_components=2)"
      ]
     },
     "execution_count": 52,
     "metadata": {},
     "output_type": "execute_result"
    }
   ],
   "source": [
    "PCA.fit(scaled_features)"
   ]
  },
  {
   "cell_type": "code",
   "execution_count": 53,
   "id": "93dba44f",
   "metadata": {},
   "outputs": [],
   "source": [
    "Transformed_PCA = PCA.transform(scaled_features)"
   ]
  },
  {
   "cell_type": "code",
   "execution_count": 54,
   "id": "0bee5462",
   "metadata": {},
   "outputs": [
    {
     "data": {
      "text/plain": [
       "array([[-2.20401503,  0.49230415],\n",
       "       [-2.01847823, -0.65257072],\n",
       "       [-2.3001967 , -0.3263588 ],\n",
       "       [-2.23481144, -0.5804819 ],\n",
       "       [-2.32844843,  0.65610591],\n",
       "       [-2.01570154,  1.4935046 ],\n",
       "       [-2.37840516,  0.05716489],\n",
       "       [-2.17148144,  0.23678942],\n",
       "       [-2.26829929, -1.09568622],\n",
       "       [-2.12311515, -0.44880128],\n",
       "       [-2.10815144,  1.05406075],\n",
       "       [-2.26338126,  0.14507647],\n",
       "       [-2.15628491, -0.70709925],\n",
       "       [-2.56671864, -0.94403556],\n",
       "       [-2.14337646,  1.8671572 ],\n",
       "       [-2.20456595,  2.68214851],\n",
       "       [-2.14710823,  1.48793811],\n",
       "       [-2.12858409,  0.50028039],\n",
       "       [-1.84194759,  1.41483116],\n",
       "       [-2.2819054 ,  1.13273419],\n",
       "       [-1.85627512,  0.42578182],\n",
       "       [-2.1444168 ,  0.93035638],\n",
       "       [-2.7093581 ,  0.46433027],\n",
       "       [-1.75505189,  0.09969964],\n",
       "       [-2.16482624,  0.14925134],\n",
       "       [-1.89039914, -0.60323518],\n",
       "       [-1.9877679 ,  0.25413354],\n",
       "       [-2.10878761,  0.54024806],\n",
       "       [-2.07958163,  0.32850238],\n",
       "       [-2.20164169, -0.32218393],\n",
       "       [-2.07720828, -0.4859857 ],\n",
       "       [-1.77111659,  0.43895107],\n",
       "       [-2.5565645 ,  1.79439615],\n",
       "       [-2.38891566,  2.1509917 ],\n",
       "       [-2.12311515, -0.44880128],\n",
       "       [-2.14592114, -0.18809356],\n",
       "       [-1.98736373,  0.67712168],\n",
       "       [-2.12311515, -0.44880128],\n",
       "       [-2.36320862, -0.88672378],\n",
       "       [-2.1091057 ,  0.28334171],\n",
       "       [-2.22381151,  0.45233648],\n",
       "       [-1.79099833, -2.30467365],\n",
       "       [-2.48732394, -0.46601567],\n",
       "       [-1.89896368,  0.48044009],\n",
       "       [-2.07506777,  1.14627693],\n",
       "       [-2.00542303, -0.69114676],\n",
       "       [-2.32448466,  1.12614956],\n",
       "       [-2.32972078, -0.37151947],\n",
       "       [-2.17052719,  1.00750846],\n",
       "       [-2.14227546,  0.02504374],\n",
       "       [ 1.15657351,  0.88737397],\n",
       "       [ 0.79204663,  0.61325324],\n",
       "       [ 1.2973897 ,  0.64122712],\n",
       "       [ 0.47406363, -1.72181448],\n",
       "       [ 1.13550468, -0.18021908],\n",
       "       [ 0.45278519, -0.5699815 ],\n",
       "       [ 0.80874751,  0.7878145 ],\n",
       "       [-0.41850301, -1.82444425],\n",
       "       [ 0.9849609 ,  0.06073478],\n",
       "       [ 0.08128503, -1.01347049],\n",
       "       [-0.04219329, -2.61652494],\n",
       "       [ 0.50572821, -0.04439118],\n",
       "       [ 0.6217072 , -1.72333583],\n",
       "       [ 0.78136479, -0.1626588 ],\n",
       "       [ 0.03268673, -0.41870434],\n",
       "       [ 0.93294892,  0.53318818],\n",
       "       [ 0.417156  , -0.17987318],\n",
       "       [ 0.21951909, -0.7632785 ],\n",
       "       [ 1.28787173, -1.58339191],\n",
       "       [ 0.22861051, -1.27189819],\n",
       "       [ 0.80501574,  0.40859541],\n",
       "       [ 0.5380298 , -0.39073046],\n",
       "       [ 1.29548119, -0.90021096],\n",
       "       [ 0.69256057, -0.38896535],\n",
       "       [ 0.76165439, -0.03654467],\n",
       "       [ 0.93263083,  0.27628183],\n",
       "       [ 1.31290433, -0.04575521],\n",
       "       [ 1.41840942,  0.3551126 ],\n",
       "       [ 0.72871663, -0.20401808],\n",
       "       [ 0.02209097, -1.02853458],\n",
       "       [ 0.19544075, -1.53019616],\n",
       "       [ 0.08715814, -1.53956403],\n",
       "       [ 0.30467762, -0.75010925],\n",
       "       [ 1.12537292, -0.60840021],\n",
       "       [ 0.29240451, -0.27297776],\n",
       "       [ 0.49385928,  0.85572845],\n",
       "       [ 1.10693487,  0.54533929],\n",
       "       [ 1.10447627, -1.34382968],\n",
       "       [ 0.13488744, -0.20139216],\n",
       "       [ 0.34994831, -1.30110636],\n",
       "       [ 0.34386641, -1.09316206],\n",
       "       [ 0.68645546,  0.04630364],\n",
       "       [ 0.39958695, -0.95907169],\n",
       "       [-0.29406961, -1.98824602],\n",
       "       [ 0.35391208, -0.83106271],\n",
       "       [ 0.15468392, -0.1614245 ],\n",
       "       [ 0.29217251, -0.36380231],\n",
       "       [ 0.6369029 , -0.12964925],\n",
       "       [-0.37893326, -1.51718424],\n",
       "       [ 0.3213785 , -0.57554799],\n",
       "       [ 1.91469768,  0.87769182],\n",
       "       [ 1.22691424, -0.67757605],\n",
       "       [ 2.26530119,  0.58575135],\n",
       "       [ 1.50350507, -0.02512463],\n",
       "       [ 1.93362599,  0.31302224],\n",
       "       [ 2.80714162,  0.82825415],\n",
       "       [ 0.44167595, -1.54155699],\n",
       "       [ 2.35722422,  0.45013962],\n",
       "       [ 2.06694203, -0.67754846],\n",
       "       [ 2.32275808,  1.92911621],\n",
       "       [ 1.42868709,  0.7080365 ],\n",
       "       [ 1.66687205, -0.39547907],\n",
       "       [ 1.94676727,  0.44052799],\n",
       "       [ 1.33123308, -1.13825183],\n",
       "       [ 1.54201126, -0.42734076],\n",
       "       [ 1.6583075 ,  0.6881962 ],\n",
       "       [ 1.53334723,  0.27694238],\n",
       "       [ 2.48133871,  2.56700676],\n",
       "       [ 3.36716489,  0.05351757],\n",
       "       [ 1.3273786 , -1.66953837],\n",
       "       [ 2.10159291,  0.92652413],\n",
       "       [ 1.04983269, -0.55513357],\n",
       "       [ 2.95105342,  0.4475137 ],\n",
       "       [ 1.39765868, -0.4555741 ],\n",
       "       [ 1.7639219 ,  1.02782112],\n",
       "       [ 2.01012048,  1.03047463],\n",
       "       [ 1.24037361, -0.29316396],\n",
       "       [ 1.08673422,  0.08238349],\n",
       "       [ 1.85423128, -0.16499766],\n",
       "       [ 1.91767058,  0.59103078],\n",
       "       [ 2.49138521,  0.29153085],\n",
       "       [ 2.3566733 ,  2.63998398],\n",
       "       [ 1.92966222, -0.15702141],\n",
       "       [ 1.17501156, -0.26636554],\n",
       "       [ 1.26320281, -0.78119636],\n",
       "       [ 2.85612087,  0.88380081],\n",
       "       [ 1.6458024 ,  1.07450314],\n",
       "       [ 1.40891383,  0.44074415],\n",
       "       [ 0.9915068 ,  0.03443958],\n",
       "       [ 1.91423368,  0.69604271],\n",
       "       [ 2.08147835,  0.62965012],\n",
       "       [ 1.96654054,  0.70782034],\n",
       "       [ 1.22691424, -0.67757605],\n",
       "       [ 2.10492052,  0.88275509]])"
      ]
     },
     "execution_count": 54,
     "metadata": {},
     "output_type": "execute_result"
    }
   ],
   "source": [
    "Transformed_PCA"
   ]
  },
  {
   "cell_type": "code",
   "execution_count": 55,
   "id": "b07f2aed",
   "metadata": {},
   "outputs": [
    {
     "data": {
      "text/plain": [
       "Text(0, 0.5, 'Second Principal Component')"
      ]
     },
     "execution_count": 55,
     "metadata": {},
     "output_type": "execute_result"
    },
    {
     "data": {
      "image/png": "[encoded data removed]",
      "text/plain": [
       "<Figure size 720x432 with 1 Axes>"
      ]
     },
     "metadata": {
      "needs_background": "light"
     },
     "output_type": "display_data"
    }
   ],
   "source": [
    "plt.figure(figsize = (10,6))\n",
    "plt.scatter(Transformed_PCA[:,0],Transformed_PCA[:,1])\n",
    "plt.xlabel('First Principal Component')\n",
    "plt.ylabel('Second Principal Component')"
   ]
  },
  {
   "cell_type": "code",
   "execution_count": 56,
   "id": "fc1bde53",
   "metadata": {},
   "outputs": [
    {
     "data": {
      "text/plain": [
       "array([[ 0.51942738, -0.27127608,  0.58031336,  0.56554477],\n",
       "       [ 0.38765923,  0.91953234,  0.02458254,  0.05980205]])"
      ]
     },
     "execution_count": 56,
     "metadata": {},
     "output_type": "execute_result"
    }
   ],
   "source": [
    "PCA.components_"
   ]
  },
  {
   "cell_type": "code",
   "execution_count": 57,
   "id": "99c2d9e0",
   "metadata": {},
   "outputs": [
    {
     "data": {
      "text/html": [
       "<div>\n",
       "<style scoped>\n",
       "    .dataframe tbody tr th:only-of-type {\n",
       "        vertical-align: middle;\n",
       "    }\n",
       "\n",
       "    .dataframe tbody tr th {\n",
       "        vertical-align: top;\n",
       "    }\n",
       "\n",
       "    .dataframe thead th {\n",
       "        text-align: right;\n",
       "    }\n",
       "</style>\n",
       "<table border=\"1\" class=\"dataframe\">\n",
       "  <thead>\n",
       "    <tr style=\"text-align: right;\">\n",
       "      <th></th>\n",
       "      <th>Stage Spacing</th>\n",
       "      <th>Cluster Spacing</th>\n",
       "      <th>Sand per ft (# per ft)</th>\n",
       "      <th>Water per ft(gal per ft)</th>\n",
       "    </tr>\n",
       "  </thead>\n",
       "  <tbody>\n",
       "    <tr>\n",
       "      <th>0</th>\n",
       "      <td>0.519427</td>\n",
       "      <td>-0.271276</td>\n",
       "      <td>0.580313</td>\n",
       "      <td>0.565545</td>\n",
       "    </tr>\n",
       "    <tr>\n",
       "      <th>1</th>\n",
       "      <td>0.387659</td>\n",
       "      <td>0.919532</td>\n",
       "      <td>0.024583</td>\n",
       "      <td>0.059802</td>\n",
       "    </tr>\n",
       "  </tbody>\n",
       "</table>\n",
       "</div>"
      ],
      "text/plain": [
       "   Stage Spacing  Cluster Spacing  Sand per ft (# per ft)  \\\n",
       "0       0.519427        -0.271276                0.580313   \n",
       "1       0.387659         0.919532                0.024583   \n",
       "\n",
       "   Water per ft(gal per ft)  \n",
       "0                  0.565545  \n",
       "1                  0.059802  "
      ]
     },
     "execution_count": 57,
     "metadata": {},
     "output_type": "execute_result"
    }
   ],
   "source": [
    "df_components = pd.DataFrame(PCA.components_,columns = ['Stage Spacing', 'Cluster Spacing', 'Sand per ft (# per ft)', 'Water per ft(gal per ft)'])\n",
    "df_components"
   ]
  },
  {
   "cell_type": "code",
   "execution_count": 58,
   "id": "2a9e942a",
   "metadata": {},
   "outputs": [
    {
     "data": {
      "text/plain": [
       "<AxesSubplot:>"
      ]
     },
     "execution_count": 58,
     "metadata": {},
     "output_type": "execute_result"
    },
    {
     "data": {
      "image/png": "[encoded data removed]",
      "text/plain": [
       "<Figure size 1080x432 with 2 Axes>"
      ]
     },
     "metadata": {
      "needs_background": "light"
     },
     "output_type": "display_data"
    }
   ],
   "source": [
    "plt.figure(figsize =(15,6))\n",
    "sns.heatmap(df_components,cmap = 'coolwarm')"
   ]
  },
  {
   "cell_type": "code",
   "execution_count": 59,
   "id": "0172bca9",
   "metadata": {},
   "outputs": [],
   "source": [
    "transformed_PCA  =  pd.DataFrame(Transformed_PCA, columns  =  ['First Principal Component', 'Second Principal Component'])\n",
    "transformed_PCA.to_csv('Two Principal Components.csv')"
   ]
  },
  {
   "cell_type": "markdown",
   "id": "ce19140d",
   "metadata": {},
   "source": [
    "# NMF"
   ]
  },
  {
   "cell_type": "code",
   "execution_count": 60,
   "id": "6f682ee9",
   "metadata": {},
   "outputs": [],
   "source": [
    "df = pd.read_excel('C:/Users/sahil/OneDrive/Desktop/Elesvier/Chapter 3/Non-Negative Matrix Factorization (NMF)/Chapter3_Completions_DataSet.xlsx')"
   ]
  },
  {
   "cell_type": "code",
   "execution_count": 61,
   "id": "e0e82ebf",
   "metadata": {},
   "outputs": [],
   "source": [
    "from sklearn.preprocessing import MinMaxScaler"
   ]
  },
  {
   "cell_type": "code",
   "execution_count": 64,
   "id": "702083e6",
   "metadata": {},
   "outputs": [],
   "source": [
    "scaler = MinMaxScaler(feature_range = (0,1))"
   ]
  },
  {
   "cell_type": "code",
   "execution_count": 65,
   "id": "82b6a96e",
   "metadata": {},
   "outputs": [
    {
     "data": {
      "text/plain": [
       "MinMaxScaler()"
      ]
     },
     "execution_count": 65,
     "metadata": {},
     "output_type": "execute_result"
    }
   ],
   "source": [
    "scaler.fit(df)"
   ]
  },
  {
   "cell_type": "code",
   "execution_count": 69,
   "id": "184c7d9f",
   "metadata": {},
   "outputs": [],
   "source": [
    "df_scaled = scaler.transform(df)"
   ]
  },
  {
   "cell_type": "code",
   "execution_count": 70,
   "id": "e6366509",
   "metadata": {},
   "outputs": [
    {
     "data": {
      "text/html": [
       "<div>\n",
       "<style scoped>\n",
       "    .dataframe tbody tr th:only-of-type {\n",
       "        vertical-align: middle;\n",
       "    }\n",
       "\n",
       "    .dataframe tbody tr th {\n",
       "        vertical-align: top;\n",
       "    }\n",
       "\n",
       "    .dataframe thead th {\n",
       "        text-align: right;\n",
       "    }\n",
       "</style>\n",
       "<table border=\"1\" class=\"dataframe\">\n",
       "  <thead>\n",
       "    <tr style=\"text-align: right;\">\n",
       "      <th></th>\n",
       "      <th>Stage Spacing</th>\n",
       "      <th>Cluster Spacing</th>\n",
       "      <th>Sand per ft (# per ft)</th>\n",
       "      <th>Water per ft (gal per ft)</th>\n",
       "    </tr>\n",
       "  </thead>\n",
       "  <tbody>\n",
       "    <tr>\n",
       "      <th>0</th>\n",
       "      <td>0.222222</td>\n",
       "      <td>0.625000</td>\n",
       "      <td>0.067797</td>\n",
       "      <td>0.041667</td>\n",
       "    </tr>\n",
       "    <tr>\n",
       "      <th>1</th>\n",
       "      <td>0.166667</td>\n",
       "      <td>0.416667</td>\n",
       "      <td>0.067797</td>\n",
       "      <td>0.041667</td>\n",
       "    </tr>\n",
       "    <tr>\n",
       "      <th>2</th>\n",
       "      <td>0.111111</td>\n",
       "      <td>0.500000</td>\n",
       "      <td>0.050847</td>\n",
       "      <td>0.041667</td>\n",
       "    </tr>\n",
       "    <tr>\n",
       "      <th>3</th>\n",
       "      <td>0.083333</td>\n",
       "      <td>0.458333</td>\n",
       "      <td>0.084746</td>\n",
       "      <td>0.041667</td>\n",
       "    </tr>\n",
       "    <tr>\n",
       "      <th>4</th>\n",
       "      <td>0.194444</td>\n",
       "      <td>0.666667</td>\n",
       "      <td>0.067797</td>\n",
       "      <td>0.041667</td>\n",
       "    </tr>\n",
       "    <tr>\n",
       "      <th>...</th>\n",
       "      <td>...</td>\n",
       "      <td>...</td>\n",
       "      <td>...</td>\n",
       "      <td>...</td>\n",
       "    </tr>\n",
       "    <tr>\n",
       "      <th>139</th>\n",
       "      <td>0.722222</td>\n",
       "      <td>0.458333</td>\n",
       "      <td>0.745763</td>\n",
       "      <td>0.833333</td>\n",
       "    </tr>\n",
       "    <tr>\n",
       "      <th>140</th>\n",
       "      <td>0.666667</td>\n",
       "      <td>0.458333</td>\n",
       "      <td>0.779661</td>\n",
       "      <td>0.958333</td>\n",
       "    </tr>\n",
       "    <tr>\n",
       "      <th>141</th>\n",
       "      <td>0.722222</td>\n",
       "      <td>0.458333</td>\n",
       "      <td>0.694915</td>\n",
       "      <td>0.916667</td>\n",
       "    </tr>\n",
       "    <tr>\n",
       "      <th>142</th>\n",
       "      <td>0.416667</td>\n",
       "      <td>0.291667</td>\n",
       "      <td>0.694915</td>\n",
       "      <td>0.750000</td>\n",
       "    </tr>\n",
       "    <tr>\n",
       "      <th>143</th>\n",
       "      <td>0.694444</td>\n",
       "      <td>0.500000</td>\n",
       "      <td>0.830508</td>\n",
       "      <td>0.916667</td>\n",
       "    </tr>\n",
       "  </tbody>\n",
       "</table>\n",
       "<p>144 rows × 4 columns</p>\n",
       "</div>"
      ],
      "text/plain": [
       "     Stage Spacing  Cluster Spacing  Sand per ft (# per ft)  \\\n",
       "0         0.222222         0.625000                0.067797   \n",
       "1         0.166667         0.416667                0.067797   \n",
       "2         0.111111         0.500000                0.050847   \n",
       "3         0.083333         0.458333                0.084746   \n",
       "4         0.194444         0.666667                0.067797   \n",
       "..             ...              ...                     ...   \n",
       "139       0.722222         0.458333                0.745763   \n",
       "140       0.666667         0.458333                0.779661   \n",
       "141       0.722222         0.458333                0.694915   \n",
       "142       0.416667         0.291667                0.694915   \n",
       "143       0.694444         0.500000                0.830508   \n",
       "\n",
       "     Water per ft (gal per ft)  \n",
       "0                     0.041667  \n",
       "1                     0.041667  \n",
       "2                     0.041667  \n",
       "3                     0.041667  \n",
       "4                     0.041667  \n",
       "..                         ...  \n",
       "139                   0.833333  \n",
       "140                   0.958333  \n",
       "141                   0.916667  \n",
       "142                   0.750000  \n",
       "143                   0.916667  \n",
       "\n",
       "[144 rows x 4 columns]"
      ]
     },
     "execution_count": 70,
     "metadata": {},
     "output_type": "execute_result"
    }
   ],
   "source": [
    "# After applying data normalization, df_scaled will be in an array\n",
    "# format. Therefore, use pandas library to convert into a data frame as\n",
    "# shown below.\n",
    "\n",
    "df_scaled = pd.DataFrame(df_scaled, columns = ['Stage Spacing', 'Cluster Spacing', 'Sand per ft (# per ft)', 'Water per ft (gal per ft)'])\n",
    "df_scaled"
   ]
  },
  {
   "cell_type": "code",
   "execution_count": 71,
   "id": "5cc6de85",
   "metadata": {},
   "outputs": [],
   "source": [
    "from sklearn.decomposition import NMF"
   ]
  },
  {
   "cell_type": "code",
   "execution_count": 73,
   "id": "013e1d69",
   "metadata": {},
   "outputs": [],
   "source": [
    "nmf = NMF(n_components = 2, init = None, solver = 'cd', beta_loss = 'frobenius', random_state = 100)"
   ]
  },
  {
   "cell_type": "code",
   "execution_count": 74,
   "id": "bf1906a4",
   "metadata": {},
   "outputs": [
    {
     "name": "stderr",
     "output_type": "stream",
     "text": [
      "C:\\ProgramData\\Anaconda3\\lib\\site-packages\\sklearn\\decomposition\\_nmf.py:1090: ConvergenceWarning: Maximum number of iterations 200 reached. Increase it to improve convergence.\n",
      "  warnings.warn(\"Maximum number of iterations %d reached. Increase it to\"\n"
     ]
    }
   ],
   "source": [
    "nmf_transformed = nmf.fit_transform(df_scaled)"
   ]
  },
  {
   "cell_type": "code",
   "execution_count": 76,
   "id": "c42ea6b0",
   "metadata": {},
   "outputs": [],
   "source": [
    "df_scaled_components = pd.DataFrame(np.round(nmf.components_,4),columns = df_scaled.columns)"
   ]
  },
  {
   "cell_type": "code",
   "execution_count": 77,
   "id": "92aafdc2",
   "metadata": {},
   "outputs": [
    {
     "data": {
      "text/html": [
       "<div>\n",
       "<style scoped>\n",
       "    .dataframe tbody tr th:only-of-type {\n",
       "        vertical-align: middle;\n",
       "    }\n",
       "\n",
       "    .dataframe tbody tr th {\n",
       "        vertical-align: top;\n",
       "    }\n",
       "\n",
       "    .dataframe thead th {\n",
       "        text-align: right;\n",
       "    }\n",
       "</style>\n",
       "<table border=\"1\" class=\"dataframe\">\n",
       "  <thead>\n",
       "    <tr style=\"text-align: right;\">\n",
       "      <th></th>\n",
       "      <th>Stage Spacing</th>\n",
       "      <th>Cluster Spacing</th>\n",
       "      <th>Sand per ft (# per ft)</th>\n",
       "      <th>Water per ft (gal per ft)</th>\n",
       "    </tr>\n",
       "  </thead>\n",
       "  <tbody>\n",
       "    <tr>\n",
       "      <th>0</th>\n",
       "      <td>1.4408</td>\n",
       "      <td>0.1877</td>\n",
       "      <td>1.9898</td>\n",
       "      <td>1.9848</td>\n",
       "    </tr>\n",
       "    <tr>\n",
       "      <th>1</th>\n",
       "      <td>0.6368</td>\n",
       "      <td>2.3017</td>\n",
       "      <td>0.0526</td>\n",
       "      <td>0.0000</td>\n",
       "    </tr>\n",
       "  </tbody>\n",
       "</table>\n",
       "</div>"
      ],
      "text/plain": [
       "   Stage Spacing  Cluster Spacing  Sand per ft (# per ft)  \\\n",
       "0         1.4408           0.1877                  1.9898   \n",
       "1         0.6368           2.3017                  0.0526   \n",
       "\n",
       "   Water per ft (gal per ft)  \n",
       "0                     1.9848  \n",
       "1                     0.0000  "
      ]
     },
     "execution_count": 77,
     "metadata": {},
     "output_type": "execute_result"
    }
   ],
   "source": [
    "df_scaled_components"
   ]
  },
  {
   "cell_type": "code",
   "execution_count": 79,
   "id": "9d789730",
   "metadata": {},
   "outputs": [
    {
     "data": {
      "text/plain": [
       "<AxesSubplot:>"
      ]
     },
     "execution_count": 79,
     "metadata": {},
     "output_type": "execute_result"
    },
    {
     "data": {
      "image/png": "[encoded data removed]",
      "text/plain": [
       "<Figure size 1080x432 with 2 Axes>"
      ]
     },
     "metadata": {
      "needs_background": "light"
     },
     "output_type": "display_data"
    }
   ],
   "source": [
    "plt.figure(figsize = (15,6))\n",
    "sns.heatmap(df_scaled_components,cmap = 'coolwarm')"
   ]
  },
  {
   "cell_type": "code",
   "execution_count": null,
   "id": "fa10f4c9",
   "metadata": {},
   "outputs": [],
   "source": []
  }
 ],
 "metadata": {
  "kernelspec": {
   "display_name": "Python 3 (ipykernel)",
   "language": "python",
   "name": "python3"
  },
  "language_info": {
   "codemirror_mode": {
    "name": "ipython",
    "version": 3
   },
   "file_extension": ".py",
   "mimetype": "text/x-python",
   "name": "python",
   "nbconvert_exporter": "python",
   "pygments_lexer": "ipython3",
   "version": "3.9.7"
  }
 },
 "nbformat": 4,
 "nbformat_minor": 5
}
