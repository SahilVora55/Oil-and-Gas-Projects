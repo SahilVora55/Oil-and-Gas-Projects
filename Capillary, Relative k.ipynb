{
 "cells": [
  {
   "cell_type": "code",
   "execution_count": 33,
   "id": "cfaef04f",
   "metadata": {},
   "outputs": [],
   "source": [
    "Swir = 0.2"
   ]
  },
  {
   "cell_type": "code",
   "execution_count": 34,
   "id": "da95ef2f",
   "metadata": {},
   "outputs": [],
   "source": [
    "Soir = 0.12"
   ]
  },
  {
   "cell_type": "code",
   "execution_count": 53,
   "id": "c723f9c1",
   "metadata": {},
   "outputs": [],
   "source": [
    "import numpy as np\n",
    "Sw1 = np.linspace(Swir,1-Soir,30)\n",
    "Sw2 = np.linspace(1-Soir,Swir,30)"
   ]
  },
  {
   "cell_type": "code",
   "execution_count": 54,
   "id": "ab451d6c",
   "metadata": {},
   "outputs": [],
   "source": [
    "kr = Sw1**2"
   ]
  },
  {
   "cell_type": "code",
   "execution_count": 55,
   "id": "6ea2c6ed",
   "metadata": {},
   "outputs": [],
   "source": [
    "import matplotlib.pyplot as plt\n",
    "import seaborn as sns\n",
    "import pandas as pd"
   ]
  },
  {
   "cell_type": "code",
   "execution_count": 57,
   "id": "a1be5292",
   "metadata": {},
   "outputs": [
    {
     "data": {
      "text/plain": [
       "[<matplotlib.lines.Line2D at 0x1ee5d508580>]"
      ]
     },
     "execution_count": 57,
     "metadata": {},
     "output_type": "execute_result"
    },
    {
     "data": {
      "image/png": "[encoded data removed]",
      "text/plain": [
       "<Figure size 432x288 with 1 Axes>"
      ]
     },
     "metadata": {
      "needs_background": "light"
     },
     "output_type": "display_data"
    }
   ],
   "source": [
    "plt.plot(Sw1,kr)\n",
    "plt.xlim(0,1)\n",
    "plt.ylim(0,1)\n",
    "plt.plot(Sw2,kr)"
   ]
  },
  {
   "cell_type": "code",
   "execution_count": null,
   "id": "a26984fb",
   "metadata": {},
   "outputs": [],
   "source": []
  },
  {
   "cell_type": "code",
   "execution_count": 65,
   "id": "edf43784",
   "metadata": {},
   "outputs": [],
   "source": [
    "rho_oil = 830      # kg/m3\n",
    "rho_water = 1000   # kg/m3\n",
    "g = 9.81           # m/s^2\n",
    "IFT = 0.035         # N/m\n",
    "cos_x = 0.5\n",
    "r = 0.0002           # m"
   ]
  },
  {
   "cell_type": "code",
   "execution_count": 66,
   "id": "c7b7c569",
   "metadata": {},
   "outputs": [],
   "source": [
    "# height of the capillary\n",
    "\n",
    "h = 2*IFT*cos_x/(r*(rho_water-rho_oil)*g)"
   ]
  },
  {
   "cell_type": "code",
   "execution_count": 67,
   "id": "dbba2e33",
   "metadata": {},
   "outputs": [
    {
     "data": {
      "text/plain": [
       "0.10493494033699105"
      ]
     },
     "execution_count": 67,
     "metadata": {},
     "output_type": "execute_result"
    }
   ],
   "source": [
    "h"
   ]
  },
  {
   "cell_type": "code",
   "execution_count": 68,
   "id": "707e6af4",
   "metadata": {},
   "outputs": [],
   "source": [
    "# capillary Pressure\n",
    "\n",
    "Pc = 0.433 * (rho_water-rho_oil) * h"
   ]
  },
  {
   "cell_type": "code",
   "execution_count": 69,
   "id": "df3f7417",
   "metadata": {},
   "outputs": [
    {
     "data": {
      "text/plain": [
       "7.724260958205911"
      ]
     },
     "execution_count": 69,
     "metadata": {},
     "output_type": "execute_result"
    }
   ],
   "source": [
    "Pc"
   ]
  },
  {
   "cell_type": "code",
   "execution_count": 72,
   "id": "21271909",
   "metadata": {},
   "outputs": [],
   "source": [
    "library = {'Capillary Pressure (psia)': [234,257,263,273,281,287,301,314,324,334,346,362,379,401,425,501,576,712,1125,1312,1875,2625,3000],'Mercury Saturation (Fraction)': [0.000,0.041,0.075,0.121,0.158, 0.208,\n",
    "                                0.280, 0.326, 0.375, 0.415,\n",
    "                                0.455, 0.500, 0.533, 0.582,\n",
    "                                0.615,  0.689, 0.731,0.779,0.838,0.850,0.869,0.880, 0.885]}"
   ]
  },
  {
   "cell_type": "code",
   "execution_count": 73,
   "id": "d42babb1",
   "metadata": {},
   "outputs": [],
   "source": [
    "df = pd.DataFrame(library)"
   ]
  },
  {
   "cell_type": "code",
   "execution_count": 74,
   "id": "a3ded911",
   "metadata": {},
   "outputs": [
    {
     "data": {
      "text/html": [
       "<div>\n",
       "<style scoped>\n",
       "    .dataframe tbody tr th:only-of-type {\n",
       "        vertical-align: middle;\n",
       "    }\n",
       "\n",
       "    .dataframe tbody tr th {\n",
       "        vertical-align: top;\n",
       "    }\n",
       "\n",
       "    .dataframe thead th {\n",
       "        text-align: right;\n",
       "    }\n",
       "</style>\n",
       "<table border=\"1\" class=\"dataframe\">\n",
       "  <thead>\n",
       "    <tr style=\"text-align: right;\">\n",
       "      <th></th>\n",
       "      <th>Capillary Pressure (psia)</th>\n",
       "      <th>Mercury Saturation (Fraction)</th>\n",
       "    </tr>\n",
       "  </thead>\n",
       "  <tbody>\n",
       "    <tr>\n",
       "      <th>0</th>\n",
       "      <td>234</td>\n",
       "      <td>0.000</td>\n",
       "    </tr>\n",
       "    <tr>\n",
       "      <th>1</th>\n",
       "      <td>257</td>\n",
       "      <td>0.041</td>\n",
       "    </tr>\n",
       "    <tr>\n",
       "      <th>2</th>\n",
       "      <td>263</td>\n",
       "      <td>0.075</td>\n",
       "    </tr>\n",
       "    <tr>\n",
       "      <th>3</th>\n",
       "      <td>273</td>\n",
       "      <td>0.121</td>\n",
       "    </tr>\n",
       "    <tr>\n",
       "      <th>4</th>\n",
       "      <td>281</td>\n",
       "      <td>0.158</td>\n",
       "    </tr>\n",
       "    <tr>\n",
       "      <th>5</th>\n",
       "      <td>287</td>\n",
       "      <td>0.208</td>\n",
       "    </tr>\n",
       "    <tr>\n",
       "      <th>6</th>\n",
       "      <td>301</td>\n",
       "      <td>0.280</td>\n",
       "    </tr>\n",
       "    <tr>\n",
       "      <th>7</th>\n",
       "      <td>314</td>\n",
       "      <td>0.326</td>\n",
       "    </tr>\n",
       "    <tr>\n",
       "      <th>8</th>\n",
       "      <td>324</td>\n",
       "      <td>0.375</td>\n",
       "    </tr>\n",
       "    <tr>\n",
       "      <th>9</th>\n",
       "      <td>334</td>\n",
       "      <td>0.415</td>\n",
       "    </tr>\n",
       "    <tr>\n",
       "      <th>10</th>\n",
       "      <td>346</td>\n",
       "      <td>0.455</td>\n",
       "    </tr>\n",
       "    <tr>\n",
       "      <th>11</th>\n",
       "      <td>362</td>\n",
       "      <td>0.500</td>\n",
       "    </tr>\n",
       "    <tr>\n",
       "      <th>12</th>\n",
       "      <td>379</td>\n",
       "      <td>0.533</td>\n",
       "    </tr>\n",
       "    <tr>\n",
       "      <th>13</th>\n",
       "      <td>401</td>\n",
       "      <td>0.582</td>\n",
       "    </tr>\n",
       "    <tr>\n",
       "      <th>14</th>\n",
       "      <td>425</td>\n",
       "      <td>0.615</td>\n",
       "    </tr>\n",
       "    <tr>\n",
       "      <th>15</th>\n",
       "      <td>501</td>\n",
       "      <td>0.689</td>\n",
       "    </tr>\n",
       "    <tr>\n",
       "      <th>16</th>\n",
       "      <td>576</td>\n",
       "      <td>0.731</td>\n",
       "    </tr>\n",
       "    <tr>\n",
       "      <th>17</th>\n",
       "      <td>712</td>\n",
       "      <td>0.779</td>\n",
       "    </tr>\n",
       "    <tr>\n",
       "      <th>18</th>\n",
       "      <td>1125</td>\n",
       "      <td>0.838</td>\n",
       "    </tr>\n",
       "    <tr>\n",
       "      <th>19</th>\n",
       "      <td>1312</td>\n",
       "      <td>0.850</td>\n",
       "    </tr>\n",
       "    <tr>\n",
       "      <th>20</th>\n",
       "      <td>1875</td>\n",
       "      <td>0.869</td>\n",
       "    </tr>\n",
       "    <tr>\n",
       "      <th>21</th>\n",
       "      <td>2625</td>\n",
       "      <td>0.880</td>\n",
       "    </tr>\n",
       "    <tr>\n",
       "      <th>22</th>\n",
       "      <td>3000</td>\n",
       "      <td>0.885</td>\n",
       "    </tr>\n",
       "  </tbody>\n",
       "</table>\n",
       "</div>"
      ],
      "text/plain": [
       "    Capillary Pressure (psia)  Mercury Saturation (Fraction)\n",
       "0                         234                          0.000\n",
       "1                         257                          0.041\n",
       "2                         263                          0.075\n",
       "3                         273                          0.121\n",
       "4                         281                          0.158\n",
       "5                         287                          0.208\n",
       "6                         301                          0.280\n",
       "7                         314                          0.326\n",
       "8                         324                          0.375\n",
       "9                         334                          0.415\n",
       "10                        346                          0.455\n",
       "11                        362                          0.500\n",
       "12                        379                          0.533\n",
       "13                        401                          0.582\n",
       "14                        425                          0.615\n",
       "15                        501                          0.689\n",
       "16                        576                          0.731\n",
       "17                        712                          0.779\n",
       "18                       1125                          0.838\n",
       "19                       1312                          0.850\n",
       "20                       1875                          0.869\n",
       "21                       2625                          0.880\n",
       "22                       3000                          0.885"
      ]
     },
     "execution_count": 74,
     "metadata": {},
     "output_type": "execute_result"
    }
   ],
   "source": [
    "df"
   ]
  },
  {
   "cell_type": "code",
   "execution_count": 84,
   "id": "c2b97219",
   "metadata": {},
   "outputs": [
    {
     "data": {
      "text/plain": [
       "<matplotlib.lines.Line2D at 0x1ee5f043d90>"
      ]
     },
     "execution_count": 84,
     "metadata": {},
     "output_type": "execute_result"
    },
    {
     "data": {
      "image/png": "[encoded data removed]",
      "text/plain": [
       "<Figure size 432x288 with 1 Axes>"
      ]
     },
     "metadata": {
      "needs_background": "light"
     },
     "output_type": "display_data"
    }
   ],
   "source": [
    "plt.plot(df['Mercury Saturation (Fraction)'],df['Capillary Pressure (psia)'], lw = 3, c = 'blue')\n",
    "plt.xlim(1,0)\n",
    "plt.axvline(0.892, color = 'red', linestyle = '--')"
   ]
  },
  {
   "cell_type": "code",
   "execution_count": null,
   "id": "06942395",
   "metadata": {},
   "outputs": [],
   "source": []
  }
 ],
 "metadata": {
  "kernelspec": {
   "display_name": "Python 3 (ipykernel)",
   "language": "python",
   "name": "python3"
  },
  "language_info": {
   "codemirror_mode": {
    "name": "ipython",
    "version": 3
   },
   "file_extension": ".py",
   "mimetype": "text/x-python",
   "name": "python",
   "nbconvert_exporter": "python",
   "pygments_lexer": "ipython3",
   "version": "3.9.7"
  }
 },
 "nbformat": 4,
 "nbformat_minor": 5
}
