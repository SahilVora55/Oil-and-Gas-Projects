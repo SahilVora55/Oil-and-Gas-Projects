{
 "cells": [
  {
   "cell_type": "code",
   "execution_count": 286,
   "id": "60273bb9",
   "metadata": {},
   "outputs": [],
   "source": [
    "import pandas as pd\n",
    "import numpy as np\n",
    "import matplotlib.pyplot as plt\n",
    "import seaborn as sns"
   ]
  },
  {
   "cell_type": "code",
   "execution_count": 287,
   "id": "6856c261",
   "metadata": {},
   "outputs": [],
   "source": [
    "import warnings\n",
    "warnings.filterwarnings('ignore')"
   ]
  },
  {
   "cell_type": "code",
   "execution_count": 288,
   "id": "e9c45dff",
   "metadata": {},
   "outputs": [],
   "source": [
    "BHFP_data = pd.read_csv('Volve_BHFP_data.csv', index_col = 0)"
   ]
  },
  {
   "cell_type": "code",
   "execution_count": 289,
   "id": "3bcd48ad",
   "metadata": {},
   "outputs": [
    {
     "data": {
      "text/html": [
       "<div>\n",
       "<style scoped>\n",
       "    .dataframe tbody tr th:only-of-type {\n",
       "        vertical-align: middle;\n",
       "    }\n",
       "\n",
       "    .dataframe tbody tr th {\n",
       "        vertical-align: top;\n",
       "    }\n",
       "\n",
       "    .dataframe thead th {\n",
       "        text-align: right;\n",
       "    }\n",
       "</style>\n",
       "<table border=\"1\" class=\"dataframe\">\n",
       "  <thead>\n",
       "    <tr style=\"text-align: right;\">\n",
       "      <th></th>\n",
       "      <th>NPD_WELL_BORE_NAME</th>\n",
       "      <th>ON_STREAM_HRS</th>\n",
       "      <th>AVG_DOWNHOLE_PRESSURE</th>\n",
       "      <th>AVG_DOWNHOLE_TEMPERATURE</th>\n",
       "    </tr>\n",
       "    <tr>\n",
       "      <th>DATEPRD</th>\n",
       "      <th></th>\n",
       "      <th></th>\n",
       "      <th></th>\n",
       "      <th></th>\n",
       "    </tr>\n",
       "  </thead>\n",
       "  <tbody>\n",
       "    <tr>\n",
       "      <th>07/04/2014</th>\n",
       "      <td>15/9-F-1 C</td>\n",
       "      <td>0.0</td>\n",
       "      <td>0.000</td>\n",
       "      <td>0.000</td>\n",
       "    </tr>\n",
       "    <tr>\n",
       "      <th>08/04/2014</th>\n",
       "      <td>15/9-F-1 C</td>\n",
       "      <td>0.0</td>\n",
       "      <td>NaN</td>\n",
       "      <td>NaN</td>\n",
       "    </tr>\n",
       "    <tr>\n",
       "      <th>09/04/2014</th>\n",
       "      <td>15/9-F-1 C</td>\n",
       "      <td>0.0</td>\n",
       "      <td>NaN</td>\n",
       "      <td>NaN</td>\n",
       "    </tr>\n",
       "    <tr>\n",
       "      <th>10/04/2014</th>\n",
       "      <td>15/9-F-1 C</td>\n",
       "      <td>0.0</td>\n",
       "      <td>NaN</td>\n",
       "      <td>NaN</td>\n",
       "    </tr>\n",
       "    <tr>\n",
       "      <th>11/04/2014</th>\n",
       "      <td>15/9-F-1 C</td>\n",
       "      <td>0.0</td>\n",
       "      <td>310.376</td>\n",
       "      <td>96.876</td>\n",
       "    </tr>\n",
       "  </tbody>\n",
       "</table>\n",
       "</div>"
      ],
      "text/plain": [
       "           NPD_WELL_BORE_NAME  ON_STREAM_HRS  AVG_DOWNHOLE_PRESSURE  \\\n",
       "DATEPRD                                                               \n",
       "07/04/2014         15/9-F-1 C            0.0                  0.000   \n",
       "08/04/2014         15/9-F-1 C            0.0                    NaN   \n",
       "09/04/2014         15/9-F-1 C            0.0                    NaN   \n",
       "10/04/2014         15/9-F-1 C            0.0                    NaN   \n",
       "11/04/2014         15/9-F-1 C            0.0                310.376   \n",
       "\n",
       "            AVG_DOWNHOLE_TEMPERATURE  \n",
       "DATEPRD                               \n",
       "07/04/2014                     0.000  \n",
       "08/04/2014                       NaN  \n",
       "09/04/2014                       NaN  \n",
       "10/04/2014                       NaN  \n",
       "11/04/2014                    96.876  "
      ]
     },
     "execution_count": 289,
     "metadata": {},
     "output_type": "execute_result"
    }
   ],
   "source": [
    "BHFP_data.head()"
   ]
  },
  {
   "cell_type": "code",
   "execution_count": 290,
   "id": "86632205",
   "metadata": {},
   "outputs": [
    {
     "name": "stdout",
     "output_type": "stream",
     "text": [
      "<class 'pandas.core.frame.DataFrame'>\n",
      "Index: 15634 entries, 07/04/2014 to 18/09/2016\n",
      "Data columns (total 4 columns):\n",
      " #   Column                    Non-Null Count  Dtype  \n",
      "---  ------                    --------------  -----  \n",
      " 0   NPD_WELL_BORE_NAME        15634 non-null  object \n",
      " 1   ON_STREAM_HRS             15349 non-null  float64\n",
      " 2   AVG_DOWNHOLE_PRESSURE     8980 non-null   float64\n",
      " 3   AVG_DOWNHOLE_TEMPERATURE  8980 non-null   float64\n",
      "dtypes: float64(3), object(1)\n",
      "memory usage: 610.7+ KB\n"
     ]
    }
   ],
   "source": [
    "BHFP_data.info()"
   ]
  },
  {
   "cell_type": "code",
   "execution_count": 291,
   "id": "ca53c5e4",
   "metadata": {},
   "outputs": [
    {
     "data": {
      "text/html": [
       "<div>\n",
       "<style scoped>\n",
       "    .dataframe tbody tr th:only-of-type {\n",
       "        vertical-align: middle;\n",
       "    }\n",
       "\n",
       "    .dataframe tbody tr th {\n",
       "        vertical-align: top;\n",
       "    }\n",
       "\n",
       "    .dataframe thead th {\n",
       "        text-align: right;\n",
       "    }\n",
       "</style>\n",
       "<table border=\"1\" class=\"dataframe\">\n",
       "  <thead>\n",
       "    <tr style=\"text-align: right;\">\n",
       "      <th></th>\n",
       "      <th>count</th>\n",
       "      <th>mean</th>\n",
       "      <th>std</th>\n",
       "      <th>min</th>\n",
       "      <th>25%</th>\n",
       "      <th>50%</th>\n",
       "      <th>75%</th>\n",
       "      <th>max</th>\n",
       "    </tr>\n",
       "  </thead>\n",
       "  <tbody>\n",
       "    <tr>\n",
       "      <th>ON_STREAM_HRS</th>\n",
       "      <td>15349.0</td>\n",
       "      <td>19.994172</td>\n",
       "      <td>8.369911</td>\n",
       "      <td>0.0</td>\n",
       "      <td>24.0</td>\n",
       "      <td>24.0000</td>\n",
       "      <td>24.00000</td>\n",
       "      <td>25.000</td>\n",
       "    </tr>\n",
       "    <tr>\n",
       "      <th>AVG_DOWNHOLE_PRESSURE</th>\n",
       "      <td>8980.0</td>\n",
       "      <td>181.803870</td>\n",
       "      <td>109.712365</td>\n",
       "      <td>0.0</td>\n",
       "      <td>0.0</td>\n",
       "      <td>232.8970</td>\n",
       "      <td>255.40125</td>\n",
       "      <td>397.589</td>\n",
       "    </tr>\n",
       "    <tr>\n",
       "      <th>AVG_DOWNHOLE_TEMPERATURE</th>\n",
       "      <td>8980.0</td>\n",
       "      <td>77.162970</td>\n",
       "      <td>45.657949</td>\n",
       "      <td>0.0</td>\n",
       "      <td>0.0</td>\n",
       "      <td>103.1865</td>\n",
       "      <td>106.27700</td>\n",
       "      <td>108.502</td>\n",
       "    </tr>\n",
       "  </tbody>\n",
       "</table>\n",
       "</div>"
      ],
      "text/plain": [
       "                            count        mean         std  min   25%  \\\n",
       "ON_STREAM_HRS             15349.0   19.994172    8.369911  0.0  24.0   \n",
       "AVG_DOWNHOLE_PRESSURE      8980.0  181.803870  109.712365  0.0   0.0   \n",
       "AVG_DOWNHOLE_TEMPERATURE   8980.0   77.162970   45.657949  0.0   0.0   \n",
       "\n",
       "                               50%        75%      max  \n",
       "ON_STREAM_HRS              24.0000   24.00000   25.000  \n",
       "AVG_DOWNHOLE_PRESSURE     232.8970  255.40125  397.589  \n",
       "AVG_DOWNHOLE_TEMPERATURE  103.1865  106.27700  108.502  "
      ]
     },
     "execution_count": 291,
     "metadata": {},
     "output_type": "execute_result"
    }
   ],
   "source": [
    "BHFP_data.describe().T"
   ]
  },
  {
   "cell_type": "markdown",
   "id": "cf5aec50",
   "metadata": {},
   "source": [
    "### Findout if there is any null values"
   ]
  },
  {
   "cell_type": "code",
   "execution_count": 292,
   "id": "1edef8bc",
   "metadata": {},
   "outputs": [
    {
     "data": {
      "text/plain": [
       "NPD_WELL_BORE_NAME             0\n",
       "ON_STREAM_HRS                285\n",
       "AVG_DOWNHOLE_PRESSURE       6654\n",
       "AVG_DOWNHOLE_TEMPERATURE    6654\n",
       "dtype: int64"
      ]
     },
     "execution_count": 292,
     "metadata": {},
     "output_type": "execute_result"
    }
   ],
   "source": [
    "BHFP_data.isnull().sum()"
   ]
  },
  {
   "cell_type": "markdown",
   "id": "2a94dbb9",
   "metadata": {},
   "source": [
    "### Remove rows which contains all null elements"
   ]
  },
  {
   "cell_type": "code",
   "execution_count": 293,
   "id": "12f3b36d",
   "metadata": {},
   "outputs": [],
   "source": [
    "BHFP_data.dropna('how'=='all', inplace = True)"
   ]
  },
  {
   "cell_type": "code",
   "execution_count": 294,
   "id": "d3a9126a",
   "metadata": {},
   "outputs": [
    {
     "data": {
      "text/plain": [
       "NPD_WELL_BORE_NAME          0\n",
       "ON_STREAM_HRS               0\n",
       "AVG_DOWNHOLE_PRESSURE       0\n",
       "AVG_DOWNHOLE_TEMPERATURE    0\n",
       "dtype: int64"
      ]
     },
     "execution_count": 294,
     "metadata": {},
     "output_type": "execute_result"
    }
   ],
   "source": [
    "BHFP_data.isnull().sum()"
   ]
  },
  {
   "cell_type": "code",
   "execution_count": 295,
   "id": "c65ce02c",
   "metadata": {},
   "outputs": [
    {
     "data": {
      "text/plain": [
       "DATEPRD\n",
       "07/04/2014    0.0\n",
       "21/04/2016    0.0\n",
       "08/07/2013    0.0\n",
       "09/07/2013    0.0\n",
       "11/07/2013    0.0\n",
       "             ... \n",
       "13/09/2016    0.0\n",
       "14/09/2016    0.0\n",
       "15/09/2016    0.0\n",
       "16/09/2016    0.0\n",
       "17/09/2016    0.0\n",
       "Name: AVG_DOWNHOLE_PRESSURE, Length: 2312, dtype: float64"
      ]
     },
     "execution_count": 295,
     "metadata": {},
     "output_type": "execute_result"
    }
   ],
   "source": [
    "BHFP_data['AVG_DOWNHOLE_PRESSURE'][BHFP_data['AVG_DOWNHOLE_PRESSURE']==0]"
   ]
  },
  {
   "cell_type": "code",
   "execution_count": 296,
   "id": "1af7321e",
   "metadata": {},
   "outputs": [],
   "source": [
    "BHFP_data['AVG_DOWNHOLE_PRESSURE'] = BHFP_data['AVG_DOWNHOLE_PRESSURE'].replace(0, np.random.randint(220,255))\n",
    "\n",
    "BHFP_data['AVG_DOWNHOLE_TEMPERATURE'] = BHFP_data['AVG_DOWNHOLE_TEMPERATURE'].replace(0, np.random.randint(100,106))"
   ]
  },
  {
   "cell_type": "markdown",
   "id": "2e02d8b3",
   "metadata": {},
   "source": [
    "#  "
   ]
  },
  {
   "cell_type": "code",
   "execution_count": 297,
   "id": "fe44ab1e",
   "metadata": {},
   "outputs": [
    {
     "data": {
      "text/plain": [
       "Text(0.5, 1.0, 'Pressure vs Temperature plot')"
      ]
     },
     "execution_count": 297,
     "metadata": {},
     "output_type": "execute_result"
    },
    {
     "data": {
      "image/png": "[encoded data removed]",
      "text/plain": [
       "<Figure size 576x432 with 1 Axes>"
      ]
     },
     "metadata": {
      "needs_background": "light"
     },
     "output_type": "display_data"
    }
   ],
   "source": [
    "plt.figure(figsize = (8,6))\n",
    "\n",
    "plt.scatter(BHFP_data['AVG_DOWNHOLE_TEMPERATURE'],BHFP_data['AVG_DOWNHOLE_PRESSURE'], color = 'orange')\n",
    "\n",
    "plt.xlabel('downhole_Temp', color = 'green')\n",
    "plt.ylabel('downhole_Press', color = 'green')\n",
    "plt.title('Pressure vs Temperature plot', size = 14, color = 'green')\n"
   ]
  },
  {
   "cell_type": "code",
   "execution_count": null,
   "id": "8a51ecd8",
   "metadata": {},
   "outputs": [],
   "source": []
  },
  {
   "cell_type": "code",
   "execution_count": 298,
   "id": "d9725d76",
   "metadata": {},
   "outputs": [],
   "source": [
    "from sklearn.model_selection import train_test_split"
   ]
  },
  {
   "cell_type": "code",
   "execution_count": 299,
   "id": "02e168c7",
   "metadata": {},
   "outputs": [],
   "source": [
    "X = BHFP_data[['AVG_DOWNHOLE_PRESSURE']]\n",
    "y = BHFP_data[['AVG_DOWNHOLE_TEMPERATURE']]"
   ]
  },
  {
   "cell_type": "code",
   "execution_count": 300,
   "id": "ece80c7a",
   "metadata": {},
   "outputs": [],
   "source": [
    "X_train, X_test, y_train, y_test = train_test_split(X,y, test_size = 0.3, random_state = 42)"
   ]
  },
  {
   "cell_type": "code",
   "execution_count": 301,
   "id": "3593c25d",
   "metadata": {},
   "outputs": [],
   "source": [
    "from sklearn.linear_model import LinearRegression"
   ]
  },
  {
   "cell_type": "code",
   "execution_count": 302,
   "id": "f8ec2a22",
   "metadata": {},
   "outputs": [],
   "source": [
    "model = LinearRegression()"
   ]
  },
  {
   "cell_type": "code",
   "execution_count": 303,
   "id": "ef7bdb16",
   "metadata": {},
   "outputs": [
    {
     "data": {
      "text/plain": [
       "LinearRegression()"
      ]
     },
     "execution_count": 303,
     "metadata": {},
     "output_type": "execute_result"
    }
   ],
   "source": [
    "model.fit(X_train,y_train)"
   ]
  },
  {
   "cell_type": "code",
   "execution_count": 304,
   "id": "310968a8",
   "metadata": {},
   "outputs": [],
   "source": [
    "yp_test = model.predict(X_test)"
   ]
  },
  {
   "cell_type": "code",
   "execution_count": 305,
   "id": "6f51be7e",
   "metadata": {},
   "outputs": [
    {
     "data": {
      "text/plain": [
       "Text(0.5, 1.0, 'Pressure Measured vs Pressure Predicted')"
      ]
     },
     "execution_count": 305,
     "metadata": {},
     "output_type": "execute_result"
    },
    {
     "data": {
      "image/png": "[encoded data removed]",
      "text/plain": [
       "<Figure size 432x288 with 1 Axes>"
      ]
     },
     "metadata": {
      "needs_background": "light"
     },
     "output_type": "display_data"
    }
   ],
   "source": [
    "\n",
    "plt.scatter(y_test, yp_test, alpha = 0.5)\n",
    "plt.plot(y_test,y_test, color = 'red')\n",
    "\n",
    "plt.xlabel('y_test', color = 'blue')\n",
    "plt.ylabel('yp_test', color = 'blue')\n",
    "plt.title('Pressure Measured vs Pressure Predicted', color = 'blue')"
   ]
  },
  {
   "cell_type": "code",
   "execution_count": 306,
   "id": "c63d8460",
   "metadata": {},
   "outputs": [],
   "source": [
    "from sklearn.metrics import mean_squared_error as mse"
   ]
  },
  {
   "cell_type": "code",
   "execution_count": 307,
   "id": "bf219623",
   "metadata": {},
   "outputs": [
    {
     "data": {
      "text/plain": [
       "21.512642928778984"
      ]
     },
     "execution_count": 307,
     "metadata": {},
     "output_type": "execute_result"
    }
   ],
   "source": [
    "mse(yp_test,y_test)"
   ]
  },
  {
   "cell_type": "code",
   "execution_count": 308,
   "id": "61d177c6",
   "metadata": {},
   "outputs": [
    {
     "data": {
      "text/plain": [
       "Text(0, 0.5, 'Press')"
      ]
     },
     "execution_count": 308,
     "metadata": {},
     "output_type": "execute_result"
    },
    {
     "data": {
      "image/png": "[encoded data removed]",
      "text/plain": [
       "<Figure size 432x288 with 1 Axes>"
      ]
     },
     "metadata": {
      "needs_background": "light"
     },
     "output_type": "display_data"
    }
   ],
   "source": [
    "plt.title('comparision between prediction and train data')\n",
    "\n",
    "plt.scatter(X_train,y_train, color = 'orange', alpha = 0.6, marker = '.')\n",
    "\n",
    "plt.scatter(X_test,yp_test, color = 'r', alpha = 0.4,  marker = '.')\n",
    "\n",
    "plt.xlabel('Temp')\n",
    "plt.ylabel('Press')"
   ]
  },
  {
   "cell_type": "code",
   "execution_count": 309,
   "id": "99dcf4bf",
   "metadata": {},
   "outputs": [
    {
     "data": {
      "text/plain": [
       "Text(0, 0.5, 'BH Press')"
      ]
     },
     "execution_count": 309,
     "metadata": {},
     "output_type": "execute_result"
    },
    {
     "data": {
      "image/png": "[encoded data removed]",
      "text/plain": [
       "<Figure size 432x288 with 1 Axes>"
      ]
     },
     "metadata": {
      "needs_background": "light"
     },
     "output_type": "display_data"
    }
   ],
   "source": [
    "plt.title('comparision between prediction and train data')\n",
    "\n",
    "sns.regplot(X_train,y_train, color = 'blue', marker = '^')\n",
    "\n",
    "sns.regplot(X_test,yp_test, color = 'r',  marker = '*')\n",
    "\n",
    "plt.xlabel('BH Temp')\n",
    "plt.ylabel('BH Press')"
   ]
  },
  {
   "cell_type": "code",
   "execution_count": 310,
   "id": "868c68b8",
   "metadata": {},
   "outputs": [],
   "source": [
    "X_train_2 = BHFP_data[['AVG_DOWNHOLE_PRESSURE']][:6500]\n",
    "X_test_2 = BHFP_data[['AVG_DOWNHOLE_PRESSURE']][6500:]\n",
    "y_train_2 = BHFP_data[['AVG_DOWNHOLE_TEMPERATURE']][:6500]\n",
    "y_test_2 = BHFP_data[['AVG_DOWNHOLE_TEMPERATURE']][6500:]"
   ]
  },
  {
   "cell_type": "code",
   "execution_count": 319,
   "id": "f19fd471",
   "metadata": {},
   "outputs": [],
   "source": [
    "model2 = LinearRegression()"
   ]
  },
  {
   "cell_type": "code",
   "execution_count": 320,
   "id": "ec32af58",
   "metadata": {
    "scrolled": true
   },
   "outputs": [
    {
     "data": {
      "text/plain": [
       "LinearRegression()"
      ]
     },
     "execution_count": 320,
     "metadata": {},
     "output_type": "execute_result"
    }
   ],
   "source": [
    "model2.fit(X_train_2,y_train_2)"
   ]
  },
  {
   "cell_type": "code",
   "execution_count": 321,
   "id": "dce58bd2",
   "metadata": {},
   "outputs": [],
   "source": [
    "yp = model2.predict(X_test_2)"
   ]
  },
  {
   "cell_type": "code",
   "execution_count": 325,
   "id": "bff4aa06",
   "metadata": {},
   "outputs": [
    {
     "data": {
      "text/plain": [
       "Text(0.5, 1.0, 'Pressure Measured vs Pressure Predicted using RandomForestRegressor')"
      ]
     },
     "execution_count": 325,
     "metadata": {},
     "output_type": "execute_result"
    },
    {
     "data": {
      "image/png": "[encoded data removed]",
      "text/plain": [
       "<Figure size 432x288 with 1 Axes>"
      ]
     },
     "metadata": {
      "needs_background": "light"
     },
     "output_type": "display_data"
    }
   ],
   "source": [
    "plt.scatter(y_test_2, yp, alpha = 0.5)\n",
    "plt.plot(y_test_2,y_test_2, color = 'red')\n",
    "\n",
    "plt.xlabel('y_test_2', color = 'blue')\n",
    "plt.ylabel('yp', color = 'blue')\n",
    "plt.title('Pressure Measured vs Pressure Predicted using RandomForestRegressor', color = 'blue')"
   ]
  },
  {
   "cell_type": "code",
   "execution_count": 323,
   "id": "080609a4",
   "metadata": {},
   "outputs": [
    {
     "data": {
      "text/plain": [
       "Text(0, 0.5, 'BH Press')"
      ]
     },
     "execution_count": 323,
     "metadata": {},
     "output_type": "execute_result"
    },
    {
     "data": {
      "image/png": "[encoded data removed]",
      "text/plain": [
       "<Figure size 432x288 with 1 Axes>"
      ]
     },
     "metadata": {
      "needs_background": "light"
     },
     "output_type": "display_data"
    }
   ],
   "source": [
    "plt.title('comparision between prediction and train data')\n",
    "\n",
    "sns.regplot(X_train_2,y_train_2, color = 'orange',  marker = '.')\n",
    "\n",
    "sns.regplot(X_test_2,yp, color = 'r',  marker = '.')\n",
    "\n",
    "plt.xlabel('BH Temp')\n",
    "plt.ylabel('BH Press')"
   ]
  },
  {
   "cell_type": "code",
   "execution_count": null,
   "id": "053b0929",
   "metadata": {},
   "outputs": [],
   "source": []
  },
  {
   "cell_type": "code",
   "execution_count": null,
   "id": "bbe5fbef",
   "metadata": {},
   "outputs": [],
   "source": []
  },
  {
   "cell_type": "code",
   "execution_count": null,
   "id": "ccb5e079",
   "metadata": {},
   "outputs": [],
   "source": []
  },
  {
   "cell_type": "code",
   "execution_count": null,
   "id": "eef4349a",
   "metadata": {},
   "outputs": [],
   "source": []
  }
 ],
 "metadata": {
  "kernelspec": {
   "display_name": "Python 3 (ipykernel)",
   "language": "python",
   "name": "python3"
  },
  "language_info": {
   "codemirror_mode": {
    "name": "ipython",
    "version": 3
   },
   "file_extension": ".py",
   "mimetype": "text/x-python",
   "name": "python",
   "nbconvert_exporter": "python",
   "pygments_lexer": "ipython3",
   "version": "3.9.7"
  }
 },
 "nbformat": 4,
 "nbformat_minor": 5
}
